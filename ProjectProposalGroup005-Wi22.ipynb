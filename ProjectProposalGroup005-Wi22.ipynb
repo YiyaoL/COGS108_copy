{
 "cells": [
  {
   "cell_type": "markdown",
   "metadata": {},
   "source": [
    "# COGS 108 - Final Project Proposal"
   ]
  },
  {
   "cell_type": "markdown",
   "metadata": {},
   "source": [
    "# Names\n",
    "\n",
    "- Yiyao Liu (A16314015)\n",
    "- Justin Lee (A15802198)\n",
    "- Duye Liu (A16601637)\n",
    "- Sally Yu (A16519059)\n",
    "- Jie Mei (MJ) (A15825777)\n"
   ]
  },
  {
   "cell_type": "markdown",
   "metadata": {},
   "source": [
    "# Research Question"
   ]
  },
  {
   "cell_type": "markdown",
   "metadata": {},
   "source": [
    "*Is there a correlation between the dropout rates of universities in the United States and the number of billionaire alumni since 2000?*"
   ]
  },
  {
   "cell_type": "markdown",
   "metadata": {},
   "source": [
    "## Background and Prior Work"
   ]
  },
  {
   "cell_type": "markdown",
   "metadata": {},
   "source": [
    "### Introduction:\n",
    "The stories about college dropouts becoming billionaires later in life are not news to anyone. Given the two most well-known billionaires in the United States, Bill Gates of Microsoft and Mark Zuckerberg of Facebook, who happened to both be dropouts of Harvard, many people have formed an implicit association between rich people and college dropouts. Although harmless as it seems, this assumption can potentially lead many students into thinking that education is essentially not important for success and make decisions that may not be in their best interest based on this misleading myth. To this end, we want to investigate whether there is a correlation between college dropouts and billionaires by looking at the dropout rates of universities in the United States and comparing them to their number of billionaire alumni in the past 22 years. In this project, we will only focus on universities in the U.S. and analyze data spanning from 2000 to 2021. \n",
    "\n",
    "### Prior Work:\n",
    "https://www.entrepreneur.com/article/311472\n",
    "\n",
    "Many previous studies have been interested in seeing whether a general correlation between college dropouts and billionaire entrepreneurs exists. A study reported in The Conversation in 2017 found that of all Forbes billionaires, 89.1% had a college education, of which 44.8% were an elite school. Only around 10% of them had no college degree, which shows that dropping out of college is certainly not a norm for becoming a billionaire. The study also examined the Fortune 500 CEOs and 30 other millionaires, of which similar patterns are observed. Given these data, it is easy to draw the conclusion that indeed dropping out of college does not correlate with better success at becoming a billionaire. However, our project is concerned more specifically with the relationship between the dropout rate of individual universities and their number of billionaire alumni and whether a correlation between the two can be drawn considering other factors, such as college ranking and location. Nevertheless, the study provides us with some foundational knowledge on this topic and general statistics to work off of. \n",
    "\n",
    "https://www.journalofexpertise.org/articles/volume2_issue1/JoE_2019_2_1_Wai_Kanaya.pdf\n",
    "\n",
    "Jonathan Wai and Tomoe Kanaya have conducted a study on elite education, cognitive ability, and the gender gap among 14,246 billionaires from 2002-2016. While this study doesn’t implicitly evaluate the correlation between the US college dropout rates and the number of billionaire alumni, it offers invaluable insights on whether higher levels of education play indispensable roles in the formation of billionaires. For instance, any undergraduate institutions, with combined SAT Math and Critical Reading average scores above 1400, were considered as elite schools. A billionaire received elite education if he/she attended either an undergraduate or graduate elite school in the US or abroad. Furthermore, they ranked the number of billionaires who received elite education in different industries. Approximately 50-60% of billionaires in the finance investments and technology sectors had received elite educations in the United States, which were ranked as first and second. If we combine billionaires from different sectors as one entity, roughly 43% of them attended elite schools. On the other hand, nearly 57% of the billionaires did not receive elite education and many of them probably were drop outs. Therefore, this prior research has reinforced the validity and potential of our research question.\n",
    "\n",
    "https://educationdata.org/college-dropout-rates/\n",
    "\n",
    "The report from Melanie Hanson on college dropout rates in the United States was comprehensive in terms of its coverage on various attributes. For instance, some general statistics indicated that while Asian Americans had the lowest dropout rate at 10%, African Americans had the highest dropout rates at 54%. Therefore, the ethnicity of college dropouts and billionaires could be utilized as an useful attribute to conduct exploratory data analysis on. In addition, the overall dropout rate of undergraduate students in the United States was 40%, which was close to the percentage of billionaires who attended elite schools in the previous study. Whether this phenomenon was due to regression to the mean or other factors was worth exploring. Last but not least, this report also contained attributes regarding institutional demographics, populational demographics, employment & career prospects, economic impact, and education & socioeconomic status, which could all provide insights to our research question.\n"
   ]
  },
  {
   "cell_type": "markdown",
   "metadata": {},
   "source": [
    "# Hypothesis\n"
   ]
  },
  {
   "cell_type": "markdown",
   "metadata": {},
   "source": [
    "Famous billionaires including Bill Gates and Steve Jobs are widely known for being successful after dropping out of university, so there is a general stereotype that there is a positive relationship between leaving education early and starting a profitable business. Influenced by their anecdotes, some people argue that one’s educational level does not influence one’s chance of becoming financially successful. We predict that there is a positive correlation between the dropout rates of universities and the number of billionaire alumni. The students who drop out can use their tuition to build their start up, and turn their business into billions of dollars. Consequently, they offer a significant amount of donations back to universities."
   ]
  },
  {
   "cell_type": "markdown",
   "metadata": {},
   "source": [
    "# Data"
   ]
  },
  {
   "cell_type": "markdown",
   "metadata": {},
   "source": [
    "\n",
    "- What variables would you have?\n",
    "    - Name of university\n",
    "    - State where university is located\n",
    "    - Dropout rates of universities in the U.S. from the year 2000 to present\n",
    "    - Number of billionaire alumni each university has over the course of the past 22 years\n",
    "- How would they be stored?\n",
    "    - Individual columns within a dataframe\n",
    "    - We will have one dataframe for every year\n",
    "- How many observations would you have?\n",
    "    - 1000 observations per dataframe/year\n",
    "- What/who would the observations be? Over what time period? etc.\n",
    "    - An observation will be a university with data on dropout rate and number of billionaire alumni for a certain year\n",
    "        - Therefore each university will have around 20 observations tied to it, 1 for each year\n",
    "- Visualizations\n",
    "    - Line plot over time that compares the trajectory of dropout rate and number of billionaire alumni for a given school\n",
    "    - Scatter plot (dropout rate on x axis, number of billionaire alumni on y axis)\n",
    "    - Grouped/Barplots (dropout rate on the y axis, type/locations/different attributes on the x axis)\n"
   ]
  },
  {
   "cell_type": "markdown",
   "metadata": {},
   "source": [
    "# Ethics & Privacy"
   ]
  },
  {
   "cell_type": "markdown",
   "metadata": {},
   "source": [
    "In terms of privacy, we intend to remove the personally identifiable information such as name, phone number, addresses etc. from our dataset to make sure all the data participants’ personal information are protected. In addition, we will not consider the reason for dropping out as part of our analysis. This is because we want to avoid making assumptions that lead to misleading information about the participants. For example, we don’t want to interpret all drop-outs as inability to succeed in college-level studies, since the reason for dropping out may vary from person to person. \n",
    "\n",
    "There are several biases that we need to account for in our dataset. First, some of the billionaires were self-made and others inherited a significant amount of wealth from their families. We assume that those from wealthier backgrounds are more likely to become billionaires after dropping out. Therefore we would differentiate between these two categories and analyze them separately  to ensure equitable analysis. Likewise, the cultural background may influence the resources that an individual can rely on after dropping out, so we need to consider whether the billionaire was born in the United States or an immigrant. During exploratory research, we will check if this variable affects the relationship between dropping out and becoming a billionaire. Third, some of the billionaires never went to college, so we need to remove these data from our analysis. Finally, the billionaire dataset is based on the Forbes World’s Billionaires lists from 1996-2014, and there might be political factors that influence who enters the list. For example, some billionaires might not be counted due to their political standing. \n",
    "\n",
    "Our research might have an unintended consequence of encouraging people to drop out of school if we discover a positive correlation. In addition, if the result shows that educational level is not relevant to those who inherited family wealth and later on became successful, the result will demonstrate the idea that people who came from wealthier backgrounds have more advantage than those who had affluent backgrounds. Therefore we want to state clearly that our research is correlational and does not imply any causation.\n"
   ]
  },
  {
   "cell_type": "markdown",
   "metadata": {},
   "source": [
    "# Team Expectations "
   ]
  },
  {
   "cell_type": "markdown",
   "metadata": {},
   "source": [
    "- Maintain efficient communication\n",
    "- Complete individual parts on time\n",
    "- Specify and let others know about the file commits on github\n",
    "- Divide up the work equally and fairly\n",
    "- Show up to meeting on time\n",
    "- If you run into a roadblock, let others know as soon as possible\n",
    "- Start planning early to avoid procrastination "
   ]
  },
  {
   "cell_type": "markdown",
   "metadata": {},
   "source": [
    "# Project Timeline Proposal"
   ]
  },
  {
   "cell_type": "markdown",
   "metadata": {},
   "source": [
    "| Meeting Date  | Meeting Time| Completed Before Meeting  | Discuss at Meeting |\n",
    "|---|---|---|---|\n",
    "| 2/9  |  6 PM | Data is cleaned, ready to be analyzed  | Divide tasks for data analysis | \n",
    "| 2/11  |  6 PM |  Submit Checkpoint 1 | Share feedback on tasks and update information | \n",
    "| 2/20  | 6 PM  | Clean up visualizations  | Refine visualizations |\n",
    "| 2/23  | 6 PM  | Finish most of EDA | Make any final changes to previous sections |\n",
    "| 2/25  | 6 PM  | Submit Checkpoint 2 | Share feedback on tasks and update information  |\n",
    "| 3/13  | 6 PM  | Finalize every component of the project| Discuss/edit full project |\n",
    "| 3/14  | Before 11:59 PM  | NA | Turn in Final Project & Group Project Surveys |"
   ]
  }
 ],
 "metadata": {
  "kernelspec": {
   "display_name": "Python 3",
   "language": "python",
   "name": "python3"
  },
  "language_info": {
   "codemirror_mode": {
    "name": "ipython",
    "version": 3
   },
   "file_extension": ".py",
   "mimetype": "text/x-python",
   "name": "python",
   "nbconvert_exporter": "python",
   "pygments_lexer": "ipython3",
   "version": "3.8.9"
  }
 },
 "nbformat": 4,
 "nbformat_minor": 2
}
