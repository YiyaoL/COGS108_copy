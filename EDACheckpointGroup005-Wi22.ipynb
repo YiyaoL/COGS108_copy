{
 "cells": [
  {
   "cell_type": "markdown",
   "metadata": {
    "cell_id": "a425dd8b-1962-4eea-8f8a-1cb87556916a",
    "deepnote_cell_type": "markdown"
   },
   "source": [
    "# COGS 108 - EDA Checkpoint"
   ]
  },
  {
   "cell_type": "markdown",
   "metadata": {
    "cell_id": "00001-8a29ff50-86f6-4f3f-b8e5-9d3b94ad56ce",
    "deepnote_cell_type": "markdown"
   },
   "source": [
    "# Names\n",
    "\n",
    "- Yiyao Liu (A16314015)\n",
    "- Justin Lee (A15802198)\n",
    "- Duye Liu (A16601637)\n",
    "- Sally Yu (A16519059)\n",
    "- Jie Mei (MJ) (A15825777)"
   ]
  },
  {
   "cell_type": "markdown",
   "metadata": {
    "cell_id": "00002-6ea3163d-611e-4e1f-af7a-0b4cfa47b2f0",
    "deepnote_cell_type": "markdown"
   },
   "source": [
    "<a id='research_question'></a>\n",
    "# Research Question"
   ]
  },
  {
   "cell_type": "markdown",
   "metadata": {
    "cell_id": "00003-86493d10-a9c7-45d8-ad25-23394aaecd58",
    "deepnote_cell_type": "markdown"
   },
   "source": [
    "**Is there a correlation between the graduation within expected time rates of universities in the United States and the number of billionaire alumni since 2000?**"
   ]
  },
  {
   "cell_type": "markdown",
   "metadata": {
    "cell_id": "00004-be197ebf-b3d2-49fc-99b4-d1b3e2660ff9",
    "deepnote_cell_type": "markdown"
   },
   "source": [
    "# Setup"
   ]
  },
  {
   "cell_type": "code",
   "execution_count": 62,
   "metadata": {
    "cell_id": "00005-4f8db0bf-aed8-44b9-becf-5aecf483fed6",
    "deepnote_cell_type": "code",
    "deepnote_to_be_reexecuted": false,
    "execution_millis": 2661,
    "execution_start": 1645761670072,
    "source_hash": "a9c62a49"
   },
   "outputs": [],
   "source": [
    "import requests  \n",
    "from bs4 import BeautifulSoup\n",
    "import pandas as pd\n",
    "import numpy as np\n",
    "from requests.exceptions import MissingSchema\n",
    "import seaborn as sns\n",
    "import matplotlib.pyplot as plt\n",
    "import patsy\n",
    "import statsmodels.api as sm\n",
    "import plotly.express as px\n",
    "import plotly.figure_factory as ff"
   ]
  },
  {
   "cell_type": "markdown",
   "metadata": {
    "cell_id": "00006-3b492416-3afb-4b16-94ca-7f7fc42a7453",
    "deepnote_cell_type": "markdown"
   },
   "source": [
    "# Data Cleaning"
   ]
  },
  {
   "cell_type": "markdown",
   "metadata": {
    "cell_id": "00007-5ca26ec7-5c71-41bb-92e2-7e89b3fdfd58",
    "deepnote_cell_type": "markdown"
   },
   "source": [
    "**From the 2021 Forbes Billionaires dataset we found online(https://www.kaggle.com/roysouravcu/forbes-billionaires-of-2021), we stored their names in a csv file named billionaire_raw.csv.**"
   ]
  },
  {
   "cell_type": "markdown",
   "metadata": {
    "cell_id": "00008-65fbd2d1-8595-465d-b318-ef7ce27c914c",
    "deepnote_cell_type": "markdown"
   },
   "source": [
    "**Read in billionaire_raw.csv and take a look at it**"
   ]
  },
  {
   "cell_type": "code",
   "execution_count": 2,
   "metadata": {
    "cell_id": "00009-b052f14e-6bf4-4ea9-be5a-7aff256c63f5",
    "deepnote_cell_type": "code",
    "deepnote_to_be_reexecuted": false,
    "execution_millis": 54,
    "execution_start": 1645761672743,
    "source_hash": "24380762"
   },
   "outputs": [
    {
     "data": {
      "text/html": [
       "<div>\n",
       "<style scoped>\n",
       "    .dataframe tbody tr th:only-of-type {\n",
       "        vertical-align: middle;\n",
       "    }\n",
       "\n",
       "    .dataframe tbody tr th {\n",
       "        vertical-align: top;\n",
       "    }\n",
       "\n",
       "    .dataframe thead th {\n",
       "        text-align: right;\n",
       "    }\n",
       "</style>\n",
       "<table border=\"1\" class=\"dataframe\">\n",
       "  <thead>\n",
       "    <tr style=\"text-align: right;\">\n",
       "      <th></th>\n",
       "      <th>Name</th>\n",
       "      <th>NetWorth</th>\n",
       "      <th>Country</th>\n",
       "      <th>Source</th>\n",
       "      <th>Rank</th>\n",
       "      <th>Age</th>\n",
       "      <th>Industry</th>\n",
       "    </tr>\n",
       "  </thead>\n",
       "  <tbody>\n",
       "    <tr>\n",
       "      <th>0</th>\n",
       "      <td>Jeff Bezos</td>\n",
       "      <td>$177 B</td>\n",
       "      <td>United States</td>\n",
       "      <td>Amazon</td>\n",
       "      <td>1</td>\n",
       "      <td>57.0</td>\n",
       "      <td>Technology</td>\n",
       "    </tr>\n",
       "    <tr>\n",
       "      <th>1</th>\n",
       "      <td>Elon Musk</td>\n",
       "      <td>$151 B</td>\n",
       "      <td>United States</td>\n",
       "      <td>Tesla, SpaceX</td>\n",
       "      <td>2</td>\n",
       "      <td>49.0</td>\n",
       "      <td>Automotive</td>\n",
       "    </tr>\n",
       "    <tr>\n",
       "      <th>2</th>\n",
       "      <td>Bernard Arnault &amp; family</td>\n",
       "      <td>$150 B</td>\n",
       "      <td>France</td>\n",
       "      <td>LVMH</td>\n",
       "      <td>3</td>\n",
       "      <td>72.0</td>\n",
       "      <td>Fashion &amp; Retail</td>\n",
       "    </tr>\n",
       "    <tr>\n",
       "      <th>3</th>\n",
       "      <td>Bill Gates</td>\n",
       "      <td>$124 B</td>\n",
       "      <td>United States</td>\n",
       "      <td>Microsoft</td>\n",
       "      <td>4</td>\n",
       "      <td>65.0</td>\n",
       "      <td>Technology</td>\n",
       "    </tr>\n",
       "    <tr>\n",
       "      <th>4</th>\n",
       "      <td>Mark Zuckerberg</td>\n",
       "      <td>$97 B</td>\n",
       "      <td>United States</td>\n",
       "      <td>Facebook</td>\n",
       "      <td>5</td>\n",
       "      <td>36.0</td>\n",
       "      <td>Technology</td>\n",
       "    </tr>\n",
       "  </tbody>\n",
       "</table>\n",
       "</div>"
      ],
      "text/plain": [
       "                       Name NetWorth        Country         Source  Rank  \\\n",
       "0                Jeff Bezos   $177 B  United States         Amazon     1   \n",
       "1                 Elon Musk   $151 B  United States  Tesla, SpaceX     2   \n",
       "2  Bernard Arnault & family   $150 B         France           LVMH     3   \n",
       "3                Bill Gates   $124 B  United States      Microsoft     4   \n",
       "4           Mark Zuckerberg    $97 B  United States       Facebook     5   \n",
       "\n",
       "    Age          Industry  \n",
       "0  57.0        Technology  \n",
       "1  49.0        Automotive  \n",
       "2  72.0  Fashion & Retail  \n",
       "3  65.0        Technology  \n",
       "4  36.0        Technology  "
      ]
     },
     "execution_count": 2,
     "metadata": {},
     "output_type": "execute_result"
    }
   ],
   "source": [
    "df = pd.read_csv('billionaire_raw.csv')\n",
    "df.head()"
   ]
  },
  {
   "cell_type": "markdown",
   "metadata": {
    "cell_id": "00010-ec88c1bc-3564-4092-b8be-9ff5019391ab",
    "deepnote_cell_type": "markdown"
   },
   "source": [
    "**Since our research question focuses on the correlation between the universities and billionaires in the United States, We will be filtering out information of billionaires outside of the States.**"
   ]
  },
  {
   "cell_type": "code",
   "execution_count": 3,
   "metadata": {
    "cell_id": "00011-950af9c6-1e0d-4705-b278-0d30601e8200",
    "deepnote_cell_type": "code",
    "deepnote_to_be_reexecuted": false,
    "execution_millis": 9,
    "execution_start": 1645761672842,
    "source_hash": "3e96ac38"
   },
   "outputs": [
    {
     "data": {
      "text/html": [
       "<div>\n",
       "<style scoped>\n",
       "    .dataframe tbody tr th:only-of-type {\n",
       "        vertical-align: middle;\n",
       "    }\n",
       "\n",
       "    .dataframe tbody tr th {\n",
       "        vertical-align: top;\n",
       "    }\n",
       "\n",
       "    .dataframe thead th {\n",
       "        text-align: right;\n",
       "    }\n",
       "</style>\n",
       "<table border=\"1\" class=\"dataframe\">\n",
       "  <thead>\n",
       "    <tr style=\"text-align: right;\">\n",
       "      <th></th>\n",
       "      <th>Name</th>\n",
       "      <th>NetWorth</th>\n",
       "      <th>Country</th>\n",
       "      <th>Source</th>\n",
       "      <th>Rank</th>\n",
       "      <th>Age</th>\n",
       "      <th>Industry</th>\n",
       "    </tr>\n",
       "  </thead>\n",
       "  <tbody>\n",
       "    <tr>\n",
       "      <th>0</th>\n",
       "      <td>Jeff Bezos</td>\n",
       "      <td>$177 B</td>\n",
       "      <td>United States</td>\n",
       "      <td>Amazon</td>\n",
       "      <td>1</td>\n",
       "      <td>57.0</td>\n",
       "      <td>Technology</td>\n",
       "    </tr>\n",
       "    <tr>\n",
       "      <th>1</th>\n",
       "      <td>Elon Musk</td>\n",
       "      <td>$151 B</td>\n",
       "      <td>United States</td>\n",
       "      <td>Tesla, SpaceX</td>\n",
       "      <td>2</td>\n",
       "      <td>49.0</td>\n",
       "      <td>Automotive</td>\n",
       "    </tr>\n",
       "    <tr>\n",
       "      <th>3</th>\n",
       "      <td>Bill Gates</td>\n",
       "      <td>$124 B</td>\n",
       "      <td>United States</td>\n",
       "      <td>Microsoft</td>\n",
       "      <td>4</td>\n",
       "      <td>65.0</td>\n",
       "      <td>Technology</td>\n",
       "    </tr>\n",
       "    <tr>\n",
       "      <th>4</th>\n",
       "      <td>Mark Zuckerberg</td>\n",
       "      <td>$97 B</td>\n",
       "      <td>United States</td>\n",
       "      <td>Facebook</td>\n",
       "      <td>5</td>\n",
       "      <td>36.0</td>\n",
       "      <td>Technology</td>\n",
       "    </tr>\n",
       "    <tr>\n",
       "      <th>5</th>\n",
       "      <td>Warren Buffett</td>\n",
       "      <td>$96 B</td>\n",
       "      <td>United States</td>\n",
       "      <td>Berkshire Hathaway</td>\n",
       "      <td>6</td>\n",
       "      <td>90.0</td>\n",
       "      <td>Finance &amp; Investments</td>\n",
       "    </tr>\n",
       "  </tbody>\n",
       "</table>\n",
       "</div>"
      ],
      "text/plain": [
       "              Name NetWorth        Country              Source  Rank   Age  \\\n",
       "0       Jeff Bezos   $177 B  United States              Amazon     1  57.0   \n",
       "1        Elon Musk   $151 B  United States       Tesla, SpaceX     2  49.0   \n",
       "3       Bill Gates   $124 B  United States           Microsoft     4  65.0   \n",
       "4  Mark Zuckerberg    $97 B  United States            Facebook     5  36.0   \n",
       "5   Warren Buffett    $96 B  United States  Berkshire Hathaway     6  90.0   \n",
       "\n",
       "                Industry  \n",
       "0             Technology  \n",
       "1             Automotive  \n",
       "3             Technology  \n",
       "4             Technology  \n",
       "5  Finance & Investments  "
      ]
     },
     "execution_count": 3,
     "metadata": {},
     "output_type": "execute_result"
    }
   ],
   "source": [
    "df = df[df['Country'] == 'United States']\n",
    "df.head()"
   ]
  },
  {
   "cell_type": "markdown",
   "metadata": {
    "cell_id": "00012-5863b0c9-728c-492a-a39a-44524a5ebca8",
    "deepnote_cell_type": "markdown"
   },
   "source": [
    "**Let's take a look at the dimensions of our current billionaire dataset**"
   ]
  },
  {
   "cell_type": "code",
   "execution_count": 4,
   "metadata": {
    "cell_id": "00013-bd170d72-b925-4a68-a6dd-9eec9ba6bb54",
    "deepnote_cell_type": "code",
    "deepnote_to_be_reexecuted": false,
    "execution_millis": 10,
    "execution_start": 1645761672856,
    "source_hash": "14f60b8f"
   },
   "outputs": [
    {
     "data": {
      "text/plain": [
       "(724, 7)"
      ]
     },
     "execution_count": 4,
     "metadata": {},
     "output_type": "execute_result"
    }
   ],
   "source": [
    "df.shape"
   ]
  },
  {
   "cell_type": "markdown",
   "metadata": {
    "cell_id": "00014-350aea70-81c9-4b20-940f-6b130944845e",
    "deepnote_cell_type": "markdown"
   },
   "source": [
    "**Let's check if there are any nans in our billionaire dataset.**"
   ]
  },
  {
   "cell_type": "code",
   "execution_count": 5,
   "metadata": {
    "cell_id": "00015-97fa792d-9c61-43ad-9b3c-fbd60dc21052",
    "deepnote_cell_type": "code",
    "deepnote_to_be_reexecuted": false,
    "execution_millis": 3,
    "execution_start": 1645761672901,
    "source_hash": "f3dd26da"
   },
   "outputs": [
    {
     "data": {
      "text/plain": [
       "Name        0\n",
       "NetWorth    0\n",
       "Country     0\n",
       "Source      0\n",
       "Rank        0\n",
       "Age         4\n",
       "Industry    0\n",
       "dtype: int64"
      ]
     },
     "execution_count": 5,
     "metadata": {},
     "output_type": "execute_result"
    }
   ],
   "source": [
    "df.isnull().sum()"
   ]
  },
  {
   "cell_type": "markdown",
   "metadata": {
    "cell_id": "00016-d885b0d6-5786-48e2-b1ff-0d387fa69455",
    "deepnote_cell_type": "markdown"
   },
   "source": [
    "**As you can see, there are four nans in the age column, some billionaires might be less inclined to share their ages. Since the quantity of nans is small, we decide to keep these rows that contain the nans. The reason is that we don't want to miss out any potential valuable information on the billionaires**"
   ]
  },
  {
   "cell_type": "markdown",
   "metadata": {
    "cell_id": "00017-90d78d16-b668-4931-8e1e-0e281253e9da",
    "deepnote_cell_type": "markdown"
   },
   "source": [
    "**Now we still need data on which universities these U.S. billionaires graduated or dropped out from. We will use BeautifulSoup to scrape this data from forbes worlds' billionaires list of 2021, where they list each billionaire's education background on the profile page of each billionaire (for example, https://www.forbes.com/profile/elon-musk/?sh=37e6593f7999).**"
   ]
  },
  {
   "cell_type": "markdown",
   "metadata": {
    "cell_id": "00018-9eeac79b-44f0-4952-8647-78faa4ec11ce",
    "deepnote_cell_type": "markdown"
   },
   "source": [
    "**We have 724 U.S. billionaires. For scraping, we need to generate an url for each of them using their names. Therefore, we wrote a function to standardizing their names with the corresponding urls that contain their enducation information.**"
   ]
  },
  {
   "cell_type": "code",
   "execution_count": 6,
   "metadata": {
    "cell_id": "00019-3cb81260-bbe6-42d2-af61-a3ed931c21cb",
    "deepnote_cell_type": "code",
    "deepnote_to_be_reexecuted": false,
    "execution_millis": 0,
    "execution_start": 1645761672902,
    "source_hash": "f0029354"
   },
   "outputs": [],
   "source": [
    "# define a function that changes names into urls\n",
    "def standardize_names(str_in):\n",
    "    \n",
    "    try:\n",
    "        ## change strings to lowercases\n",
    "        str_in = str_in.lower()\n",
    "        \n",
    "        ## strip all the leading and trailing spaces \n",
    "        str_in = str_in.strip()\n",
    "        \n",
    "        ## replace whitespaces with dashes\n",
    "        output = str_in.replace(' ', '-')\n",
    "        \n",
    "        ## initialize the billionaire profile url\n",
    "        url_start = 'https://www.forbes.com/profile/'\n",
    "        \n",
    "        ## output cpntaining the url and names\n",
    "        output = url_start + output\n",
    "        \n",
    "    except:\n",
    "        \n",
    "        ## avoid outputs containing nans\n",
    "        output = np.nan\n",
    "        \n",
    "    ## return the output   \n",
    "    return output"
   ]
  },
  {
   "cell_type": "markdown",
   "metadata": {
    "cell_id": "00020-738d6b48-8321-4052-adf1-8c3d41960ee6",
    "deepnote_cell_type": "markdown"
   },
   "source": [
    "**Let's apply the standardize_names function to the Name column and store these results into a new column called urls**"
   ]
  },
  {
   "cell_type": "code",
   "execution_count": 7,
   "metadata": {
    "cell_id": "00021-ebcd73ec-dbd5-46e2-b755-8fe42efb4ed1",
    "deepnote_cell_type": "code",
    "deepnote_to_be_reexecuted": false,
    "execution_millis": 1,
    "execution_start": 1645761672902,
    "source_hash": "163d8258"
   },
   "outputs": [],
   "source": [
    "df['urls'] = df['Name'].apply(standardize_names)"
   ]
  },
  {
   "cell_type": "markdown",
   "metadata": {
    "cell_id": "00022-8c38b5bf-ad3a-40e0-9d97-c7cc3e80c832",
    "deepnote_cell_type": "markdown"
   },
   "source": [
    "**Let's take a look at our current billionaire dataframe**"
   ]
  },
  {
   "cell_type": "code",
   "execution_count": 8,
   "metadata": {
    "cell_id": "00023-690facb1-dd0b-4a19-b525-17359bd92857",
    "deepnote_cell_type": "code",
    "deepnote_to_be_reexecuted": false,
    "execution_millis": 28,
    "execution_start": 1645761672915,
    "source_hash": "c085b6ba"
   },
   "outputs": [
    {
     "data": {
      "text/html": [
       "<div>\n",
       "<style scoped>\n",
       "    .dataframe tbody tr th:only-of-type {\n",
       "        vertical-align: middle;\n",
       "    }\n",
       "\n",
       "    .dataframe tbody tr th {\n",
       "        vertical-align: top;\n",
       "    }\n",
       "\n",
       "    .dataframe thead th {\n",
       "        text-align: right;\n",
       "    }\n",
       "</style>\n",
       "<table border=\"1\" class=\"dataframe\">\n",
       "  <thead>\n",
       "    <tr style=\"text-align: right;\">\n",
       "      <th></th>\n",
       "      <th>Name</th>\n",
       "      <th>NetWorth</th>\n",
       "      <th>Country</th>\n",
       "      <th>Source</th>\n",
       "      <th>Rank</th>\n",
       "      <th>Age</th>\n",
       "      <th>Industry</th>\n",
       "      <th>urls</th>\n",
       "    </tr>\n",
       "  </thead>\n",
       "  <tbody>\n",
       "    <tr>\n",
       "      <th>0</th>\n",
       "      <td>Jeff Bezos</td>\n",
       "      <td>$177 B</td>\n",
       "      <td>United States</td>\n",
       "      <td>Amazon</td>\n",
       "      <td>1</td>\n",
       "      <td>57.0</td>\n",
       "      <td>Technology</td>\n",
       "      <td>https://www.forbes.com/profile/jeff-bezos</td>\n",
       "    </tr>\n",
       "    <tr>\n",
       "      <th>1</th>\n",
       "      <td>Elon Musk</td>\n",
       "      <td>$151 B</td>\n",
       "      <td>United States</td>\n",
       "      <td>Tesla, SpaceX</td>\n",
       "      <td>2</td>\n",
       "      <td>49.0</td>\n",
       "      <td>Automotive</td>\n",
       "      <td>https://www.forbes.com/profile/elon-musk</td>\n",
       "    </tr>\n",
       "    <tr>\n",
       "      <th>3</th>\n",
       "      <td>Bill Gates</td>\n",
       "      <td>$124 B</td>\n",
       "      <td>United States</td>\n",
       "      <td>Microsoft</td>\n",
       "      <td>4</td>\n",
       "      <td>65.0</td>\n",
       "      <td>Technology</td>\n",
       "      <td>https://www.forbes.com/profile/bill-gates</td>\n",
       "    </tr>\n",
       "    <tr>\n",
       "      <th>4</th>\n",
       "      <td>Mark Zuckerberg</td>\n",
       "      <td>$97 B</td>\n",
       "      <td>United States</td>\n",
       "      <td>Facebook</td>\n",
       "      <td>5</td>\n",
       "      <td>36.0</td>\n",
       "      <td>Technology</td>\n",
       "      <td>https://www.forbes.com/profile/mark-zuckerberg</td>\n",
       "    </tr>\n",
       "    <tr>\n",
       "      <th>5</th>\n",
       "      <td>Warren Buffett</td>\n",
       "      <td>$96 B</td>\n",
       "      <td>United States</td>\n",
       "      <td>Berkshire Hathaway</td>\n",
       "      <td>6</td>\n",
       "      <td>90.0</td>\n",
       "      <td>Finance &amp; Investments</td>\n",
       "      <td>https://www.forbes.com/profile/warren-buffett</td>\n",
       "    </tr>\n",
       "  </tbody>\n",
       "</table>\n",
       "</div>"
      ],
      "text/plain": [
       "              Name NetWorth        Country              Source  Rank   Age  \\\n",
       "0       Jeff Bezos   $177 B  United States              Amazon     1  57.0   \n",
       "1        Elon Musk   $151 B  United States       Tesla, SpaceX     2  49.0   \n",
       "3       Bill Gates   $124 B  United States           Microsoft     4  65.0   \n",
       "4  Mark Zuckerberg    $97 B  United States            Facebook     5  36.0   \n",
       "5   Warren Buffett    $96 B  United States  Berkshire Hathaway     6  90.0   \n",
       "\n",
       "                Industry                                            urls  \n",
       "0             Technology       https://www.forbes.com/profile/jeff-bezos  \n",
       "1             Automotive        https://www.forbes.com/profile/elon-musk  \n",
       "3             Technology       https://www.forbes.com/profile/bill-gates  \n",
       "4             Technology  https://www.forbes.com/profile/mark-zuckerberg  \n",
       "5  Finance & Investments   https://www.forbes.com/profile/warren-buffett  "
      ]
     },
     "execution_count": 8,
     "metadata": {},
     "output_type": "execute_result"
    }
   ],
   "source": [
    "df.head()"
   ]
  },
  {
   "cell_type": "markdown",
   "metadata": {
    "cell_id": "00024-75c42c73-e020-44fa-b149-2e8f4461f468",
    "deepnote_cell_type": "markdown"
   },
   "source": [
    "**Now, let's start the web scraping process!First of all, we need to create a new column called Education_info to store the to be scraped content. We will implement the beautifulsoup package of python. We will loop through each billionaire's profile and locate the education tag. Consequently, we will avoid any nans and append the results in a temporal list**"
   ]
  },
  {
   "cell_type": "code",
   "execution_count": 9,
   "metadata": {
    "cell_id": "00025-35a31ce4-d46e-4c56-b867-a05cd74acb21",
    "deepnote_cell_type": "code",
    "deepnote_to_be_reexecuted": false,
    "execution_millis": 418533,
    "execution_start": 1645761672994,
    "source_hash": "1885a0c2"
   },
   "outputs": [],
   "source": [
    "#create a new column called Education_info, where we'll save the final results in\n",
    "df['Education_info'] = df['urls']\n",
    "\n",
    "Education_scraped = []\n",
    "for url in df['urls']:\n",
    "    try:\n",
    "        r = requests.get(url)\n",
    "        soup = BeautifulSoup(r.text)\n",
    "    \n",
    "        try:\n",
    "             # locate to the \"Education\" tag of each person\n",
    "            Education  = soup.find('span',text = 'Education')\n",
    "            \n",
    "            # go to the parent tag of Education, and access the content of the next tag of Education\n",
    "            Education = Education.parent.contents[1].text\n",
    "            \n",
    "        except:\n",
    "            Education = None\n",
    "        \n",
    "    except MissingSchema:\n",
    "        Education = None\n",
    "        \n",
    "    #  save the scraped string in the temporal list\n",
    "    Education_scraped.append(Education)"
   ]
  },
  {
   "cell_type": "markdown",
   "metadata": {
    "cell_id": "00026-f0e683a5-82e1-47ac-ac54-682400b196c5",
    "deepnote_cell_type": "markdown"
   },
   "source": [
    "**Let's take a look at the data we have accquired from scraping**"
   ]
  },
  {
   "cell_type": "code",
   "execution_count": 10,
   "metadata": {
    "cell_id": "00027-137b2ef6-7464-4884-8320-fd3bfe5682d8",
    "deepnote_cell_type": "code",
    "deepnote_to_be_reexecuted": false,
    "execution_millis": 2,
    "execution_start": 1645762091527,
    "source_hash": "d6078663"
   },
   "outputs": [
    {
     "data": {
      "text/plain": [
       "['Bachelor of Arts/Science, Princeton University',\n",
       " 'Bachelor of Arts/Science, University of Pennsylvania',\n",
       " 'Drop Out, Harvard University',\n",
       " 'Drop Out, Harvard University',\n",
       " 'Master of Science, Columbia University; Bachelor of Arts/Science, University of Nebraska Lincoln',\n",
       " 'Drop Out, University of Chicago; Drop Out, University of Illinois, Urbana-Champaign',\n",
       " 'Master of Science, Stanford University; Bachelor of Arts/Science, University of Michigan',\n",
       " 'Master of Science, Stanford University; Bachelor of Arts/Science, University of Maryland, College Park',\n",
       " 'Bachelor of Arts/Science, Harvard University; Drop Out, Stanford University',\n",
       " 'Bachelor of Arts/Science, Trinity University']"
      ]
     },
     "execution_count": 10,
     "metadata": {},
     "output_type": "execute_result"
    }
   ],
   "source": [
    "Education_scraped[:10]"
   ]
  },
  {
   "cell_type": "markdown",
   "metadata": {
    "cell_id": "00028-6838cca5-7891-4afb-9dc6-bec515a85792",
    "deepnote_cell_type": "markdown"
   },
   "source": [
    "**It is time to store these education information of billionaires into our dataframe's Education_info and take a look at our dataset**"
   ]
  },
  {
   "cell_type": "code",
   "execution_count": 11,
   "metadata": {
    "cell_id": "00029-7c911f07-bfef-4f9b-87c4-47c0e15fc1db",
    "deepnote_cell_type": "code",
    "deepnote_to_be_reexecuted": false,
    "execution_millis": 12,
    "execution_start": 1645762091567,
    "source_hash": "8375b523"
   },
   "outputs": [
    {
     "data": {
      "text/html": [
       "<div>\n",
       "<style scoped>\n",
       "    .dataframe tbody tr th:only-of-type {\n",
       "        vertical-align: middle;\n",
       "    }\n",
       "\n",
       "    .dataframe tbody tr th {\n",
       "        vertical-align: top;\n",
       "    }\n",
       "\n",
       "    .dataframe thead th {\n",
       "        text-align: right;\n",
       "    }\n",
       "</style>\n",
       "<table border=\"1\" class=\"dataframe\">\n",
       "  <thead>\n",
       "    <tr style=\"text-align: right;\">\n",
       "      <th></th>\n",
       "      <th>Name</th>\n",
       "      <th>NetWorth</th>\n",
       "      <th>Country</th>\n",
       "      <th>Source</th>\n",
       "      <th>Rank</th>\n",
       "      <th>Age</th>\n",
       "      <th>Industry</th>\n",
       "      <th>urls</th>\n",
       "      <th>Education_info</th>\n",
       "    </tr>\n",
       "  </thead>\n",
       "  <tbody>\n",
       "    <tr>\n",
       "      <th>0</th>\n",
       "      <td>Jeff Bezos</td>\n",
       "      <td>$177 B</td>\n",
       "      <td>United States</td>\n",
       "      <td>Amazon</td>\n",
       "      <td>1</td>\n",
       "      <td>57.0</td>\n",
       "      <td>Technology</td>\n",
       "      <td>https://www.forbes.com/profile/jeff-bezos</td>\n",
       "      <td>Bachelor of Arts/Science, Princeton University</td>\n",
       "    </tr>\n",
       "    <tr>\n",
       "      <th>1</th>\n",
       "      <td>Elon Musk</td>\n",
       "      <td>$151 B</td>\n",
       "      <td>United States</td>\n",
       "      <td>Tesla, SpaceX</td>\n",
       "      <td>2</td>\n",
       "      <td>49.0</td>\n",
       "      <td>Automotive</td>\n",
       "      <td>https://www.forbes.com/profile/elon-musk</td>\n",
       "      <td>Bachelor of Arts/Science, University of Pennsy...</td>\n",
       "    </tr>\n",
       "    <tr>\n",
       "      <th>3</th>\n",
       "      <td>Bill Gates</td>\n",
       "      <td>$124 B</td>\n",
       "      <td>United States</td>\n",
       "      <td>Microsoft</td>\n",
       "      <td>4</td>\n",
       "      <td>65.0</td>\n",
       "      <td>Technology</td>\n",
       "      <td>https://www.forbes.com/profile/bill-gates</td>\n",
       "      <td>Drop Out, Harvard University</td>\n",
       "    </tr>\n",
       "    <tr>\n",
       "      <th>4</th>\n",
       "      <td>Mark Zuckerberg</td>\n",
       "      <td>$97 B</td>\n",
       "      <td>United States</td>\n",
       "      <td>Facebook</td>\n",
       "      <td>5</td>\n",
       "      <td>36.0</td>\n",
       "      <td>Technology</td>\n",
       "      <td>https://www.forbes.com/profile/mark-zuckerberg</td>\n",
       "      <td>Drop Out, Harvard University</td>\n",
       "    </tr>\n",
       "    <tr>\n",
       "      <th>5</th>\n",
       "      <td>Warren Buffett</td>\n",
       "      <td>$96 B</td>\n",
       "      <td>United States</td>\n",
       "      <td>Berkshire Hathaway</td>\n",
       "      <td>6</td>\n",
       "      <td>90.0</td>\n",
       "      <td>Finance &amp; Investments</td>\n",
       "      <td>https://www.forbes.com/profile/warren-buffett</td>\n",
       "      <td>Master of Science, Columbia University; Bachel...</td>\n",
       "    </tr>\n",
       "  </tbody>\n",
       "</table>\n",
       "</div>"
      ],
      "text/plain": [
       "              Name NetWorth        Country              Source  Rank   Age  \\\n",
       "0       Jeff Bezos   $177 B  United States              Amazon     1  57.0   \n",
       "1        Elon Musk   $151 B  United States       Tesla, SpaceX     2  49.0   \n",
       "3       Bill Gates   $124 B  United States           Microsoft     4  65.0   \n",
       "4  Mark Zuckerberg    $97 B  United States            Facebook     5  36.0   \n",
       "5   Warren Buffett    $96 B  United States  Berkshire Hathaway     6  90.0   \n",
       "\n",
       "                Industry                                            urls  \\\n",
       "0             Technology       https://www.forbes.com/profile/jeff-bezos   \n",
       "1             Automotive        https://www.forbes.com/profile/elon-musk   \n",
       "3             Technology       https://www.forbes.com/profile/bill-gates   \n",
       "4             Technology  https://www.forbes.com/profile/mark-zuckerberg   \n",
       "5  Finance & Investments   https://www.forbes.com/profile/warren-buffett   \n",
       "\n",
       "                                      Education_info  \n",
       "0     Bachelor of Arts/Science, Princeton University  \n",
       "1  Bachelor of Arts/Science, University of Pennsy...  \n",
       "3                       Drop Out, Harvard University  \n",
       "4                       Drop Out, Harvard University  \n",
       "5  Master of Science, Columbia University; Bachel...  "
      ]
     },
     "execution_count": 11,
     "metadata": {},
     "output_type": "execute_result"
    }
   ],
   "source": [
    "df['Education_info'] = Education_scraped\n",
    "df.head()"
   ]
  },
  {
   "cell_type": "markdown",
   "metadata": {
    "cell_id": "00030-0e4d3a44-815b-4d85-a6e6-f15c1234a3ac",
    "deepnote_cell_type": "markdown"
   },
   "source": [
    "**Last but not least, we want to export the current data as a brand new csv file for the convenience of further cleaing and later analysis**"
   ]
  },
  {
   "cell_type": "code",
   "execution_count": 12,
   "metadata": {
    "cell_id": "00031-ea34282c-622e-4daf-9651-faeba8e6f73d",
    "deepnote_cell_type": "code",
    "deepnote_to_be_reexecuted": false,
    "execution_millis": 14,
    "execution_start": 1645762091576,
    "source_hash": "ff9e7984"
   },
   "outputs": [],
   "source": [
    "# save the df as a csv file\n",
    "df.to_csv('billionaire_scraped.csv')"
   ]
  },
  {
   "cell_type": "markdown",
   "metadata": {
    "cell_id": "00032-725fbc18-9e88-43a0-988b-42367290b687",
    "deepnote_cell_type": "markdown"
   },
   "source": [
    "**Let's read in the billionaire_scraped csv file and assign it to df_colleege**"
   ]
  },
  {
   "cell_type": "code",
   "execution_count": 13,
   "metadata": {
    "cell_id": "00033-c7a54fb3-a959-44b3-a985-3830fb434f89",
    "deepnote_cell_type": "code",
    "deepnote_to_be_reexecuted": false,
    "execution_millis": 70,
    "execution_start": 1645762091596,
    "source_hash": "2c61ee9d"
   },
   "outputs": [
    {
     "data": {
      "text/html": [
       "<div>\n",
       "<style scoped>\n",
       "    .dataframe tbody tr th:only-of-type {\n",
       "        vertical-align: middle;\n",
       "    }\n",
       "\n",
       "    .dataframe tbody tr th {\n",
       "        vertical-align: top;\n",
       "    }\n",
       "\n",
       "    .dataframe thead th {\n",
       "        text-align: right;\n",
       "    }\n",
       "</style>\n",
       "<table border=\"1\" class=\"dataframe\">\n",
       "  <thead>\n",
       "    <tr style=\"text-align: right;\">\n",
       "      <th></th>\n",
       "      <th>Unnamed: 0</th>\n",
       "      <th>Name</th>\n",
       "      <th>NetWorth</th>\n",
       "      <th>Country</th>\n",
       "      <th>Source</th>\n",
       "      <th>Rank</th>\n",
       "      <th>Age</th>\n",
       "      <th>Industry</th>\n",
       "      <th>urls</th>\n",
       "      <th>Education_info</th>\n",
       "    </tr>\n",
       "  </thead>\n",
       "  <tbody>\n",
       "    <tr>\n",
       "      <th>0</th>\n",
       "      <td>0</td>\n",
       "      <td>Jeff Bezos</td>\n",
       "      <td>$177 B</td>\n",
       "      <td>United States</td>\n",
       "      <td>Amazon</td>\n",
       "      <td>1</td>\n",
       "      <td>57.0</td>\n",
       "      <td>Technology</td>\n",
       "      <td>https://www.forbes.com/profile/jeff-bezos</td>\n",
       "      <td>Bachelor of Arts/Science, Princeton University</td>\n",
       "    </tr>\n",
       "    <tr>\n",
       "      <th>1</th>\n",
       "      <td>1</td>\n",
       "      <td>Elon Musk</td>\n",
       "      <td>$151 B</td>\n",
       "      <td>United States</td>\n",
       "      <td>Tesla, SpaceX</td>\n",
       "      <td>2</td>\n",
       "      <td>49.0</td>\n",
       "      <td>Automotive</td>\n",
       "      <td>https://www.forbes.com/profile/elon-musk</td>\n",
       "      <td>Bachelor of Arts/Science, University of Pennsy...</td>\n",
       "    </tr>\n",
       "    <tr>\n",
       "      <th>2</th>\n",
       "      <td>3</td>\n",
       "      <td>Bill Gates</td>\n",
       "      <td>$124 B</td>\n",
       "      <td>United States</td>\n",
       "      <td>Microsoft</td>\n",
       "      <td>4</td>\n",
       "      <td>65.0</td>\n",
       "      <td>Technology</td>\n",
       "      <td>https://www.forbes.com/profile/bill-gates</td>\n",
       "      <td>Drop Out, Harvard University</td>\n",
       "    </tr>\n",
       "    <tr>\n",
       "      <th>3</th>\n",
       "      <td>4</td>\n",
       "      <td>Mark Zuckerberg</td>\n",
       "      <td>$97 B</td>\n",
       "      <td>United States</td>\n",
       "      <td>Facebook</td>\n",
       "      <td>5</td>\n",
       "      <td>36.0</td>\n",
       "      <td>Technology</td>\n",
       "      <td>https://www.forbes.com/profile/mark-zuckerberg</td>\n",
       "      <td>Drop Out, Harvard University</td>\n",
       "    </tr>\n",
       "    <tr>\n",
       "      <th>4</th>\n",
       "      <td>5</td>\n",
       "      <td>Warren Buffett</td>\n",
       "      <td>$96 B</td>\n",
       "      <td>United States</td>\n",
       "      <td>Berkshire Hathaway</td>\n",
       "      <td>6</td>\n",
       "      <td>90.0</td>\n",
       "      <td>Finance &amp; Investments</td>\n",
       "      <td>https://www.forbes.com/profile/warren-buffett</td>\n",
       "      <td>Master of Science, Columbia University; Bachel...</td>\n",
       "    </tr>\n",
       "    <tr>\n",
       "      <th>...</th>\n",
       "      <td>...</td>\n",
       "      <td>...</td>\n",
       "      <td>...</td>\n",
       "      <td>...</td>\n",
       "      <td>...</td>\n",
       "      <td>...</td>\n",
       "      <td>...</td>\n",
       "      <td>...</td>\n",
       "      <td>...</td>\n",
       "      <td>...</td>\n",
       "    </tr>\n",
       "    <tr>\n",
       "      <th>719</th>\n",
       "      <td>2732</td>\n",
       "      <td>Vlad Tenev</td>\n",
       "      <td>$1 B</td>\n",
       "      <td>United States</td>\n",
       "      <td>stock trading</td>\n",
       "      <td>2674</td>\n",
       "      <td>34.0</td>\n",
       "      <td>Finance &amp; Investments</td>\n",
       "      <td>https://www.forbes.com/profile/vlad-tenev</td>\n",
       "      <td>Bachelor of Arts/Science, Stanford University</td>\n",
       "    </tr>\n",
       "    <tr>\n",
       "      <th>720</th>\n",
       "      <td>2739</td>\n",
       "      <td>Vlad Vendrow &amp; family</td>\n",
       "      <td>$1 B</td>\n",
       "      <td>United States</td>\n",
       "      <td>software</td>\n",
       "      <td>2674</td>\n",
       "      <td>53.0</td>\n",
       "      <td>Technology</td>\n",
       "      <td>https://www.forbes.com/profile/vlad-vendrow-&amp;-...</td>\n",
       "      <td>NaN</td>\n",
       "    </tr>\n",
       "    <tr>\n",
       "      <th>721</th>\n",
       "      <td>2742</td>\n",
       "      <td>J. Wayne Weaver</td>\n",
       "      <td>$1 B</td>\n",
       "      <td>United States</td>\n",
       "      <td>Shoes</td>\n",
       "      <td>2674</td>\n",
       "      <td>85.0</td>\n",
       "      <td>Diversified</td>\n",
       "      <td>https://www.forbes.com/profile/j.-wayne-weaver</td>\n",
       "      <td>NaN</td>\n",
       "    </tr>\n",
       "    <tr>\n",
       "      <th>722</th>\n",
       "      <td>2743</td>\n",
       "      <td>Sandy Weill</td>\n",
       "      <td>$1 B</td>\n",
       "      <td>United States</td>\n",
       "      <td>Citigroup</td>\n",
       "      <td>2674</td>\n",
       "      <td>88.0</td>\n",
       "      <td>Finance &amp; Investments</td>\n",
       "      <td>https://www.forbes.com/profile/sandy-weill</td>\n",
       "      <td>Bachelor of Arts/Science, Cornell University</td>\n",
       "    </tr>\n",
       "    <tr>\n",
       "      <th>723</th>\n",
       "      <td>2749</td>\n",
       "      <td>Yu De-Chao</td>\n",
       "      <td>$1 B</td>\n",
       "      <td>United States</td>\n",
       "      <td>pharmaceuticals</td>\n",
       "      <td>2674</td>\n",
       "      <td>57.0</td>\n",
       "      <td>Healthcare</td>\n",
       "      <td>https://www.forbes.com/profile/yu-de-chao</td>\n",
       "      <td>Ph.D, Chinese Academy of Sciences</td>\n",
       "    </tr>\n",
       "  </tbody>\n",
       "</table>\n",
       "<p>724 rows × 10 columns</p>\n",
       "</div>"
      ],
      "text/plain": [
       "     Unnamed: 0                   Name NetWorth        Country  \\\n",
       "0             0             Jeff Bezos   $177 B  United States   \n",
       "1             1              Elon Musk   $151 B  United States   \n",
       "2             3             Bill Gates   $124 B  United States   \n",
       "3             4        Mark Zuckerberg    $97 B  United States   \n",
       "4             5         Warren Buffett    $96 B  United States   \n",
       "..          ...                    ...      ...            ...   \n",
       "719        2732             Vlad Tenev     $1 B  United States   \n",
       "720        2739  Vlad Vendrow & family     $1 B  United States   \n",
       "721        2742        J. Wayne Weaver     $1 B  United States   \n",
       "722        2743            Sandy Weill     $1 B  United States   \n",
       "723        2749             Yu De-Chao     $1 B  United States   \n",
       "\n",
       "                 Source  Rank   Age               Industry  \\\n",
       "0                Amazon     1  57.0             Technology   \n",
       "1         Tesla, SpaceX     2  49.0             Automotive   \n",
       "2             Microsoft     4  65.0             Technology   \n",
       "3              Facebook     5  36.0             Technology   \n",
       "4    Berkshire Hathaway     6  90.0  Finance & Investments   \n",
       "..                  ...   ...   ...                    ...   \n",
       "719       stock trading  2674  34.0  Finance & Investments   \n",
       "720            software  2674  53.0             Technology   \n",
       "721               Shoes  2674  85.0            Diversified   \n",
       "722           Citigroup  2674  88.0  Finance & Investments   \n",
       "723     pharmaceuticals  2674  57.0             Healthcare   \n",
       "\n",
       "                                                  urls  \\\n",
       "0            https://www.forbes.com/profile/jeff-bezos   \n",
       "1             https://www.forbes.com/profile/elon-musk   \n",
       "2            https://www.forbes.com/profile/bill-gates   \n",
       "3       https://www.forbes.com/profile/mark-zuckerberg   \n",
       "4        https://www.forbes.com/profile/warren-buffett   \n",
       "..                                                 ...   \n",
       "719          https://www.forbes.com/profile/vlad-tenev   \n",
       "720  https://www.forbes.com/profile/vlad-vendrow-&-...   \n",
       "721     https://www.forbes.com/profile/j.-wayne-weaver   \n",
       "722         https://www.forbes.com/profile/sandy-weill   \n",
       "723          https://www.forbes.com/profile/yu-de-chao   \n",
       "\n",
       "                                        Education_info  \n",
       "0       Bachelor of Arts/Science, Princeton University  \n",
       "1    Bachelor of Arts/Science, University of Pennsy...  \n",
       "2                         Drop Out, Harvard University  \n",
       "3                         Drop Out, Harvard University  \n",
       "4    Master of Science, Columbia University; Bachel...  \n",
       "..                                                 ...  \n",
       "719      Bachelor of Arts/Science, Stanford University  \n",
       "720                                                NaN  \n",
       "721                                                NaN  \n",
       "722       Bachelor of Arts/Science, Cornell University  \n",
       "723                  Ph.D, Chinese Academy of Sciences  \n",
       "\n",
       "[724 rows x 10 columns]"
      ]
     },
     "execution_count": 13,
     "metadata": {},
     "output_type": "execute_result"
    }
   ],
   "source": [
    "# read in billionaire dataset\n",
    "df_college = pd.read_csv('billionaire_scraped.csv')\n",
    "df_college"
   ]
  },
  {
   "cell_type": "markdown",
   "metadata": {
    "cell_id": "00034-b9e99fc8-716e-4767-a349-ca1f7db2cb76",
    "deepnote_cell_type": "markdown"
   },
   "source": [
    "**Let's check the number of nan values in the current dataset.**"
   ]
  },
  {
   "cell_type": "code",
   "execution_count": 14,
   "metadata": {
    "cell_id": "00035-b7462a6a-2fb9-4eaa-bf9a-4e4efb04b96f",
    "deepnote_cell_type": "code",
    "deepnote_to_be_reexecuted": false,
    "execution_millis": 9,
    "execution_start": 1645762091668,
    "source_hash": "cf562345"
   },
   "outputs": [
    {
     "data": {
      "text/plain": [
       "Unnamed: 0          0\n",
       "Name                0\n",
       "NetWorth            0\n",
       "Country             0\n",
       "Source              0\n",
       "Rank                0\n",
       "Age                 4\n",
       "Industry            0\n",
       "urls                0\n",
       "Education_info    181\n",
       "dtype: int64"
      ]
     },
     "execution_count": 14,
     "metadata": {},
     "output_type": "execute_result"
    }
   ],
   "source": [
    "df_college.isnull().sum()"
   ]
  },
  {
   "cell_type": "markdown",
   "metadata": {
    "cell_id": "00036-d8c95b29-effb-4450-bd86-bd00cf987cd1",
    "deepnote_cell_type": "markdown"
   },
   "source": [
    "**We want to drop all the rows that contain nan values in the Education_info because our research question focuses on the correlation between graduation within expected time rates of univerisities and the US billionaires. If the billionaires' education info includes a nan value, then this billionaire essentially doesn't provide us any valuable information. In addition, we only want to include billionaires' undergraduate education information. Therefore, we filter those who only contain PHD or Master degrees out.**"
   ]
  },
  {
   "cell_type": "code",
   "execution_count": 15,
   "metadata": {
    "cell_id": "00037-0f3e27da-b972-44a2-bde4-b8d70a2d7a6e",
    "deepnote_cell_type": "code",
    "deepnote_to_be_reexecuted": false,
    "execution_millis": 75,
    "execution_start": 1645762091683,
    "source_hash": "62bb92ea"
   },
   "outputs": [
    {
     "data": {
      "text/html": [
       "<div>\n",
       "<style scoped>\n",
       "    .dataframe tbody tr th:only-of-type {\n",
       "        vertical-align: middle;\n",
       "    }\n",
       "\n",
       "    .dataframe tbody tr th {\n",
       "        vertical-align: top;\n",
       "    }\n",
       "\n",
       "    .dataframe thead th {\n",
       "        text-align: right;\n",
       "    }\n",
       "</style>\n",
       "<table border=\"1\" class=\"dataframe\">\n",
       "  <thead>\n",
       "    <tr style=\"text-align: right;\">\n",
       "      <th></th>\n",
       "      <th>index</th>\n",
       "      <th>Unnamed: 0</th>\n",
       "      <th>Name</th>\n",
       "      <th>NetWorth</th>\n",
       "      <th>Country</th>\n",
       "      <th>Source</th>\n",
       "      <th>Rank</th>\n",
       "      <th>Age</th>\n",
       "      <th>Industry</th>\n",
       "      <th>urls</th>\n",
       "      <th>Education_info</th>\n",
       "    </tr>\n",
       "  </thead>\n",
       "  <tbody>\n",
       "    <tr>\n",
       "      <th>0</th>\n",
       "      <td>0</td>\n",
       "      <td>0</td>\n",
       "      <td>Jeff Bezos</td>\n",
       "      <td>$177 B</td>\n",
       "      <td>United States</td>\n",
       "      <td>Amazon</td>\n",
       "      <td>1</td>\n",
       "      <td>57.0</td>\n",
       "      <td>Technology</td>\n",
       "      <td>https://www.forbes.com/profile/jeff-bezos</td>\n",
       "      <td>Bachelor of Arts/Science, Princeton University</td>\n",
       "    </tr>\n",
       "    <tr>\n",
       "      <th>1</th>\n",
       "      <td>1</td>\n",
       "      <td>1</td>\n",
       "      <td>Elon Musk</td>\n",
       "      <td>$151 B</td>\n",
       "      <td>United States</td>\n",
       "      <td>Tesla, SpaceX</td>\n",
       "      <td>2</td>\n",
       "      <td>49.0</td>\n",
       "      <td>Automotive</td>\n",
       "      <td>https://www.forbes.com/profile/elon-musk</td>\n",
       "      <td>Bachelor of Arts/Science, University of Pennsy...</td>\n",
       "    </tr>\n",
       "    <tr>\n",
       "      <th>2</th>\n",
       "      <td>2</td>\n",
       "      <td>3</td>\n",
       "      <td>Bill Gates</td>\n",
       "      <td>$124 B</td>\n",
       "      <td>United States</td>\n",
       "      <td>Microsoft</td>\n",
       "      <td>4</td>\n",
       "      <td>65.0</td>\n",
       "      <td>Technology</td>\n",
       "      <td>https://www.forbes.com/profile/bill-gates</td>\n",
       "      <td>Drop Out, Harvard University</td>\n",
       "    </tr>\n",
       "    <tr>\n",
       "      <th>3</th>\n",
       "      <td>3</td>\n",
       "      <td>4</td>\n",
       "      <td>Mark Zuckerberg</td>\n",
       "      <td>$97 B</td>\n",
       "      <td>United States</td>\n",
       "      <td>Facebook</td>\n",
       "      <td>5</td>\n",
       "      <td>36.0</td>\n",
       "      <td>Technology</td>\n",
       "      <td>https://www.forbes.com/profile/mark-zuckerberg</td>\n",
       "      <td>Drop Out, Harvard University</td>\n",
       "    </tr>\n",
       "    <tr>\n",
       "      <th>4</th>\n",
       "      <td>4</td>\n",
       "      <td>5</td>\n",
       "      <td>Warren Buffett</td>\n",
       "      <td>$96 B</td>\n",
       "      <td>United States</td>\n",
       "      <td>Berkshire Hathaway</td>\n",
       "      <td>6</td>\n",
       "      <td>90.0</td>\n",
       "      <td>Finance &amp; Investments</td>\n",
       "      <td>https://www.forbes.com/profile/warren-buffett</td>\n",
       "      <td>Master of Science, Columbia University; Bachel...</td>\n",
       "    </tr>\n",
       "    <tr>\n",
       "      <th>...</th>\n",
       "      <td>...</td>\n",
       "      <td>...</td>\n",
       "      <td>...</td>\n",
       "      <td>...</td>\n",
       "      <td>...</td>\n",
       "      <td>...</td>\n",
       "      <td>...</td>\n",
       "      <td>...</td>\n",
       "      <td>...</td>\n",
       "      <td>...</td>\n",
       "      <td>...</td>\n",
       "    </tr>\n",
       "    <tr>\n",
       "      <th>495</th>\n",
       "      <td>710</td>\n",
       "      <td>2685</td>\n",
       "      <td>Larry Fink</td>\n",
       "      <td>$1 B</td>\n",
       "      <td>United States</td>\n",
       "      <td>money management</td>\n",
       "      <td>2674</td>\n",
       "      <td>68.0</td>\n",
       "      <td>Finance &amp; Investments</td>\n",
       "      <td>https://www.forbes.com/profile/larry-fink</td>\n",
       "      <td>Master of Business Administration, Anderson Sc...</td>\n",
       "    </tr>\n",
       "    <tr>\n",
       "      <th>496</th>\n",
       "      <td>712</td>\n",
       "      <td>2701</td>\n",
       "      <td>David Katzman</td>\n",
       "      <td>$1 B</td>\n",
       "      <td>United States</td>\n",
       "      <td>teeth aligners</td>\n",
       "      <td>2674</td>\n",
       "      <td>61.0</td>\n",
       "      <td>Service</td>\n",
       "      <td>https://www.forbes.com/profile/david-katzman</td>\n",
       "      <td>Bachelor of Arts/Science, Michigan State Unive...</td>\n",
       "    </tr>\n",
       "    <tr>\n",
       "      <th>497</th>\n",
       "      <td>713</td>\n",
       "      <td>2702</td>\n",
       "      <td>Bom Kim</td>\n",
       "      <td>$1 B</td>\n",
       "      <td>United States</td>\n",
       "      <td>online retailing</td>\n",
       "      <td>2674</td>\n",
       "      <td>42.0</td>\n",
       "      <td>Technology</td>\n",
       "      <td>https://www.forbes.com/profile/bom-kim</td>\n",
       "      <td>Bachelor of Arts/Science, Harvard University</td>\n",
       "    </tr>\n",
       "    <tr>\n",
       "      <th>498</th>\n",
       "      <td>719</td>\n",
       "      <td>2732</td>\n",
       "      <td>Vlad Tenev</td>\n",
       "      <td>$1 B</td>\n",
       "      <td>United States</td>\n",
       "      <td>stock trading</td>\n",
       "      <td>2674</td>\n",
       "      <td>34.0</td>\n",
       "      <td>Finance &amp; Investments</td>\n",
       "      <td>https://www.forbes.com/profile/vlad-tenev</td>\n",
       "      <td>Bachelor of Arts/Science, Stanford University</td>\n",
       "    </tr>\n",
       "    <tr>\n",
       "      <th>499</th>\n",
       "      <td>722</td>\n",
       "      <td>2743</td>\n",
       "      <td>Sandy Weill</td>\n",
       "      <td>$1 B</td>\n",
       "      <td>United States</td>\n",
       "      <td>Citigroup</td>\n",
       "      <td>2674</td>\n",
       "      <td>88.0</td>\n",
       "      <td>Finance &amp; Investments</td>\n",
       "      <td>https://www.forbes.com/profile/sandy-weill</td>\n",
       "      <td>Bachelor of Arts/Science, Cornell University</td>\n",
       "    </tr>\n",
       "  </tbody>\n",
       "</table>\n",
       "<p>500 rows × 11 columns</p>\n",
       "</div>"
      ],
      "text/plain": [
       "     index  Unnamed: 0             Name NetWorth        Country  \\\n",
       "0        0           0       Jeff Bezos   $177 B  United States   \n",
       "1        1           1        Elon Musk   $151 B  United States   \n",
       "2        2           3       Bill Gates   $124 B  United States   \n",
       "3        3           4  Mark Zuckerberg    $97 B  United States   \n",
       "4        4           5   Warren Buffett    $96 B  United States   \n",
       "..     ...         ...              ...      ...            ...   \n",
       "495    710        2685       Larry Fink     $1 B  United States   \n",
       "496    712        2701    David Katzman     $1 B  United States   \n",
       "497    713        2702          Bom Kim     $1 B  United States   \n",
       "498    719        2732       Vlad Tenev     $1 B  United States   \n",
       "499    722        2743      Sandy Weill     $1 B  United States   \n",
       "\n",
       "                 Source  Rank   Age               Industry  \\\n",
       "0                Amazon     1  57.0             Technology   \n",
       "1         Tesla, SpaceX     2  49.0             Automotive   \n",
       "2             Microsoft     4  65.0             Technology   \n",
       "3              Facebook     5  36.0             Technology   \n",
       "4    Berkshire Hathaway     6  90.0  Finance & Investments   \n",
       "..                  ...   ...   ...                    ...   \n",
       "495    money management  2674  68.0  Finance & Investments   \n",
       "496      teeth aligners  2674  61.0                Service   \n",
       "497    online retailing  2674  42.0             Technology   \n",
       "498       stock trading  2674  34.0  Finance & Investments   \n",
       "499           Citigroup  2674  88.0  Finance & Investments   \n",
       "\n",
       "                                               urls  \\\n",
       "0         https://www.forbes.com/profile/jeff-bezos   \n",
       "1          https://www.forbes.com/profile/elon-musk   \n",
       "2         https://www.forbes.com/profile/bill-gates   \n",
       "3    https://www.forbes.com/profile/mark-zuckerberg   \n",
       "4     https://www.forbes.com/profile/warren-buffett   \n",
       "..                                              ...   \n",
       "495       https://www.forbes.com/profile/larry-fink   \n",
       "496    https://www.forbes.com/profile/david-katzman   \n",
       "497          https://www.forbes.com/profile/bom-kim   \n",
       "498       https://www.forbes.com/profile/vlad-tenev   \n",
       "499      https://www.forbes.com/profile/sandy-weill   \n",
       "\n",
       "                                        Education_info  \n",
       "0       Bachelor of Arts/Science, Princeton University  \n",
       "1    Bachelor of Arts/Science, University of Pennsy...  \n",
       "2                         Drop Out, Harvard University  \n",
       "3                         Drop Out, Harvard University  \n",
       "4    Master of Science, Columbia University; Bachel...  \n",
       "..                                                 ...  \n",
       "495  Master of Business Administration, Anderson Sc...  \n",
       "496  Bachelor of Arts/Science, Michigan State Unive...  \n",
       "497       Bachelor of Arts/Science, Harvard University  \n",
       "498      Bachelor of Arts/Science, Stanford University  \n",
       "499       Bachelor of Arts/Science, Cornell University  \n",
       "\n",
       "[500 rows x 11 columns]"
      ]
     },
     "execution_count": 15,
     "metadata": {},
     "output_type": "execute_result"
    }
   ],
   "source": [
    "df_college = df_college.dropna(subset=['Education_info'])\n",
    "df_college = df_college[df_college['Education_info'].str.contains('Bachelor|Drop Out')].reset_index()\n",
    "df_college"
   ]
  },
  {
   "cell_type": "markdown",
   "metadata": {
    "cell_id": "00038-2af1bfee-0e81-4e9d-9b87-284261aee6de",
    "deepnote_cell_type": "markdown"
   },
   "source": [
    "**Let's take a look at the dimension of our current dataset.**"
   ]
  },
  {
   "cell_type": "code",
   "execution_count": 16,
   "metadata": {
    "cell_id": "00039-09b18327-a8c0-42fc-9ff8-d4f657364a95",
    "deepnote_cell_type": "code",
    "deepnote_to_be_reexecuted": false,
    "execution_millis": 7,
    "execution_start": 1645762091760,
    "source_hash": "f504b16e"
   },
   "outputs": [
    {
     "data": {
      "text/plain": [
       "(500, 11)"
      ]
     },
     "execution_count": 16,
     "metadata": {},
     "output_type": "execute_result"
    }
   ],
   "source": [
    "df_college.shape"
   ]
  },
  {
   "cell_type": "markdown",
   "metadata": {
    "cell_id": "00040-6b4bc6e5-9725-45c9-85d4-8dbefa8b8641",
    "deepnote_cell_type": "markdown"
   },
   "source": [
    "**Since the Unnamed:0 and urls columns are irrelevant information to our analysis, we will drop them from the existing dataset.**"
   ]
  },
  {
   "cell_type": "code",
   "execution_count": 17,
   "metadata": {
    "cell_id": "00041-587e49be-5bb8-4331-9f85-01bcefecd185",
    "deepnote_cell_type": "code",
    "deepnote_to_be_reexecuted": false,
    "execution_millis": 49,
    "execution_start": 1645762091770,
    "source_hash": "9ee4e7d0"
   },
   "outputs": [
    {
     "data": {
      "text/html": [
       "<div>\n",
       "<style scoped>\n",
       "    .dataframe tbody tr th:only-of-type {\n",
       "        vertical-align: middle;\n",
       "    }\n",
       "\n",
       "    .dataframe tbody tr th {\n",
       "        vertical-align: top;\n",
       "    }\n",
       "\n",
       "    .dataframe thead th {\n",
       "        text-align: right;\n",
       "    }\n",
       "</style>\n",
       "<table border=\"1\" class=\"dataframe\">\n",
       "  <thead>\n",
       "    <tr style=\"text-align: right;\">\n",
       "      <th></th>\n",
       "      <th>Name</th>\n",
       "      <th>NetWorth</th>\n",
       "      <th>Source</th>\n",
       "      <th>Rank</th>\n",
       "      <th>Industry</th>\n",
       "      <th>Education_info</th>\n",
       "    </tr>\n",
       "  </thead>\n",
       "  <tbody>\n",
       "    <tr>\n",
       "      <th>0</th>\n",
       "      <td>Jeff Bezos</td>\n",
       "      <td>$177 B</td>\n",
       "      <td>Amazon</td>\n",
       "      <td>1</td>\n",
       "      <td>Technology</td>\n",
       "      <td>Bachelor of Arts/Science, Princeton University</td>\n",
       "    </tr>\n",
       "    <tr>\n",
       "      <th>1</th>\n",
       "      <td>Elon Musk</td>\n",
       "      <td>$151 B</td>\n",
       "      <td>Tesla, SpaceX</td>\n",
       "      <td>2</td>\n",
       "      <td>Automotive</td>\n",
       "      <td>Bachelor of Arts/Science, University of Pennsy...</td>\n",
       "    </tr>\n",
       "    <tr>\n",
       "      <th>2</th>\n",
       "      <td>Bill Gates</td>\n",
       "      <td>$124 B</td>\n",
       "      <td>Microsoft</td>\n",
       "      <td>4</td>\n",
       "      <td>Technology</td>\n",
       "      <td>Drop Out, Harvard University</td>\n",
       "    </tr>\n",
       "    <tr>\n",
       "      <th>3</th>\n",
       "      <td>Mark Zuckerberg</td>\n",
       "      <td>$97 B</td>\n",
       "      <td>Facebook</td>\n",
       "      <td>5</td>\n",
       "      <td>Technology</td>\n",
       "      <td>Drop Out, Harvard University</td>\n",
       "    </tr>\n",
       "    <tr>\n",
       "      <th>4</th>\n",
       "      <td>Warren Buffett</td>\n",
       "      <td>$96 B</td>\n",
       "      <td>Berkshire Hathaway</td>\n",
       "      <td>6</td>\n",
       "      <td>Finance &amp; Investments</td>\n",
       "      <td>Master of Science, Columbia University; Bachel...</td>\n",
       "    </tr>\n",
       "    <tr>\n",
       "      <th>...</th>\n",
       "      <td>...</td>\n",
       "      <td>...</td>\n",
       "      <td>...</td>\n",
       "      <td>...</td>\n",
       "      <td>...</td>\n",
       "      <td>...</td>\n",
       "    </tr>\n",
       "    <tr>\n",
       "      <th>495</th>\n",
       "      <td>Larry Fink</td>\n",
       "      <td>$1 B</td>\n",
       "      <td>money management</td>\n",
       "      <td>2674</td>\n",
       "      <td>Finance &amp; Investments</td>\n",
       "      <td>Master of Business Administration, Anderson Sc...</td>\n",
       "    </tr>\n",
       "    <tr>\n",
       "      <th>496</th>\n",
       "      <td>David Katzman</td>\n",
       "      <td>$1 B</td>\n",
       "      <td>teeth aligners</td>\n",
       "      <td>2674</td>\n",
       "      <td>Service</td>\n",
       "      <td>Bachelor of Arts/Science, Michigan State Unive...</td>\n",
       "    </tr>\n",
       "    <tr>\n",
       "      <th>497</th>\n",
       "      <td>Bom Kim</td>\n",
       "      <td>$1 B</td>\n",
       "      <td>online retailing</td>\n",
       "      <td>2674</td>\n",
       "      <td>Technology</td>\n",
       "      <td>Bachelor of Arts/Science, Harvard University</td>\n",
       "    </tr>\n",
       "    <tr>\n",
       "      <th>498</th>\n",
       "      <td>Vlad Tenev</td>\n",
       "      <td>$1 B</td>\n",
       "      <td>stock trading</td>\n",
       "      <td>2674</td>\n",
       "      <td>Finance &amp; Investments</td>\n",
       "      <td>Bachelor of Arts/Science, Stanford University</td>\n",
       "    </tr>\n",
       "    <tr>\n",
       "      <th>499</th>\n",
       "      <td>Sandy Weill</td>\n",
       "      <td>$1 B</td>\n",
       "      <td>Citigroup</td>\n",
       "      <td>2674</td>\n",
       "      <td>Finance &amp; Investments</td>\n",
       "      <td>Bachelor of Arts/Science, Cornell University</td>\n",
       "    </tr>\n",
       "  </tbody>\n",
       "</table>\n",
       "<p>500 rows × 6 columns</p>\n",
       "</div>"
      ],
      "text/plain": [
       "                Name NetWorth              Source  Rank  \\\n",
       "0         Jeff Bezos   $177 B              Amazon     1   \n",
       "1          Elon Musk   $151 B       Tesla, SpaceX     2   \n",
       "2         Bill Gates   $124 B           Microsoft     4   \n",
       "3    Mark Zuckerberg    $97 B            Facebook     5   \n",
       "4     Warren Buffett    $96 B  Berkshire Hathaway     6   \n",
       "..               ...      ...                 ...   ...   \n",
       "495       Larry Fink     $1 B    money management  2674   \n",
       "496    David Katzman     $1 B      teeth aligners  2674   \n",
       "497          Bom Kim     $1 B    online retailing  2674   \n",
       "498       Vlad Tenev     $1 B       stock trading  2674   \n",
       "499      Sandy Weill     $1 B           Citigroup  2674   \n",
       "\n",
       "                  Industry                                     Education_info  \n",
       "0               Technology     Bachelor of Arts/Science, Princeton University  \n",
       "1               Automotive  Bachelor of Arts/Science, University of Pennsy...  \n",
       "2               Technology                       Drop Out, Harvard University  \n",
       "3               Technology                       Drop Out, Harvard University  \n",
       "4    Finance & Investments  Master of Science, Columbia University; Bachel...  \n",
       "..                     ...                                                ...  \n",
       "495  Finance & Investments  Master of Business Administration, Anderson Sc...  \n",
       "496                Service  Bachelor of Arts/Science, Michigan State Unive...  \n",
       "497             Technology       Bachelor of Arts/Science, Harvard University  \n",
       "498  Finance & Investments      Bachelor of Arts/Science, Stanford University  \n",
       "499  Finance & Investments       Bachelor of Arts/Science, Cornell University  \n",
       "\n",
       "[500 rows x 6 columns]"
      ]
     },
     "execution_count": 17,
     "metadata": {},
     "output_type": "execute_result"
    }
   ],
   "source": [
    "df_college = df_college[['Name', 'NetWorth','Source','Rank','Industry','Education_info']]\n",
    "df_college"
   ]
  },
  {
   "cell_type": "markdown",
   "metadata": {
    "cell_id": "00042-ecb732f9-34d2-4ac2-a4cc-1f0703776957",
    "deepnote_cell_type": "markdown"
   },
   "source": [
    "**The Education_info column is in an extremely haphazard format. Therefore, we want to construct a function to standardize the content into straightforward names of undergraduate institutions.**"
   ]
  },
  {
   "cell_type": "code",
   "execution_count": 18,
   "metadata": {
    "cell_id": "00043-fb2d50f1-08ef-42cf-b681-bcea6ee491f3",
    "deepnote_cell_type": "code",
    "deepnote_to_be_reexecuted": false,
    "execution_millis": 23,
    "execution_start": 1645762091841,
    "source_hash": "5b6c6138"
   },
   "outputs": [],
   "source": [
    "def standardize_name(string):\n",
    "    string = string.strip()\n",
    "    string = string.replace('Bachelor of Arts/Science,','')\n",
    "    string = string.replace('Master of Science, ','')\n",
    "    string = string.replace('Master of Business Administration,','')\n",
    "    string = string.replace('Drop Out,','')\n",
    "    string = string.replace('Anderson School of Management;','')\n",
    "    string = string.replace('Columbia University;','')\n",
    "    string = string.replace('Doctor of Jurisprudence,','')\n",
    "    string = string.replace('Bachelor of Science,','')\n",
    "    string = string.replace('Diploma, The Hotchkiss School;','')\n",
    "    string = string.replace('Harvard Business School;  ','')\n",
    "    string = string.replace('Master of Arts/Science,','')\n",
    "    string = string.replace('Stanford University;  ','')\n",
    "    string = string.replace('Harvard University;  ','')\n",
    "    string = string.replace('; LLB, Wayne State University','')\n",
    "    string = string.replace('Massachusetts Institute of Technology; ','')\n",
    "    string = string.replace('Doctorate, ','')\n",
    "    string = string.replace('Princeton University; ','')\n",
    "    string = string.replace('University of California, San Diego; ','')\n",
    "    string = string.replace(', The Wharton School','')\n",
    "    string = string.replace('New York University;  ','')\n",
    "    string = string.replace('David A. Tepper School of Business;  ','')\n",
    "    string = string.replace('Bachelor of Engineering, ','')\n",
    "    string = string.replace(';  Samuel Curtis Johnson Graduate School of Management','')\n",
    "    string = string.replace('Doctorate, California Institute of Technology;  ','')\n",
    "    string = string.replace(';  Stanford Business School','')\n",
    "    string = string.replace('Delhi University;  Delhi University; ','')\n",
    "    string = string.replace('Stanford Graduate School of Business;  ','')\n",
    "    string = string.replace('LLB, ','')\n",
    "    string = string.replace('Cleveland State University;  ','')\n",
    "    string = string.replace('; Law Degree, New York University','')\n",
    "    string = string.replace('Cleveland State University;  ','')\n",
    "    string = string.replace('University of Southern California; ','')\n",
    "    string = string.replace('Cornell University; ','')\n",
    "    string = string.replace('Georgetown University;  ','')\n",
    "    string = string.replace('; Masters of Public Health, UCLA;  University of California, Irvine','')\n",
    "    string = string.replace(';  Harvard Law School','')\n",
    "    string = string.replace('Colby College;  ','')\n",
    "    string = string.replace(';  University of Western Ontario','')\n",
    "    string = string.replace('; Master of Philosophy, Oxford University','')\n",
    "    string = string.replace('Bachelor of Arts/Economics, ','')\n",
    "    string = string.replace('Columbia Business School;  ','')\n",
    "    string = string.replace('INSEAD;  ','')\n",
    "    string = string.replace('; Ph.D, University of Wisconsin Madison','')\n",
    "    string = string.replace('; California Polytechnic State University','')\n",
    "    string = string.replace('Medical Doctor, Hahnemann Medical College;  ','')\n",
    "    string = string.replace('CW Post College; ','')\n",
    "    string = string.replace('Lake Forest College;  ','')\n",
    "    string = string.replace('; Law Degree, Northwestern University','')\n",
    "    string = string.replace('Stanford Graduate School of Business;  ','')\n",
    "    string = string.replace(';  University of Madras','')\n",
    "    string = string.replace(';  University of Phoenix','')\n",
    "    string = string.replace(' University of Pennsylvania;  ','')\n",
    "    string = string.replace(', Stephen M. Ross School of Business','')\n",
    "    string = string.replace('Indian Institute of Technology, Bombay;  ','')\n",
    "    string = string.replace(';  Harvard Business School','')\n",
    "    string = string.replace('Bachelor of Science in Engineering, ','')\n",
    "    string = string.replace('Stanford Business School;  ','')\n",
    "    string = string.replace('; Medical Doctor, Indiana University','')\n",
    "    string = string.replace(';  University of Chicago;  University of Pennsylvania;  University of Pennsylvania','')\n",
    "    string = string.replace('Columbia Business School;  ','')\n",
    "    string = string.replace(';  The University of Chicago; Williams College','')\n",
    "    string = string.replace('; Santa Clara University','')\n",
    "    string = string.strip()\n",
    "    string = string.replace(';  University of Illinois, Urbana-Champaign','')\n",
    "    string = string.replace('; University of California, Berkeley','')\n",
    "    string = string.replace(';  University of California, Berkeley','')\n",
    "    string = string.replace('Bachelor of Technology, ','')\n",
    "    string = string.replace(';  Tippie School of Management','')\n",
    "    string = string.replace('Bachelor of Business Administration, ','')\n",
    "    string = string.replace(';  Wake Forest University School of Business','')\n",
    "    string = string.replace('; Master of Arts, University of Arkansas','')\n",
    "    string = string.replace('Diploma, High School;  ','')\n",
    "    string = string.replace('Law Degree, American University;  ','')\n",
    "    string = string.replace('Master, Drexel University;  ','')\n",
    "    string = string.replace('Dartmouth College;  ','')\n",
    "    string = string.replace('Robert J. Trulaske, Sr. College of Business;  ','')\n",
    "    string = string.replace('; Johns Hopkins University;  Yale University','')\n",
    "    string = string.replace(';  UC Hastings','')\n",
    "    string = string.replace(';  University of Witwatersrand; Medical Doctor, University of Witwatersrand','')\n",
    "    string = string.replace(';  Columbia Business School','')\n",
    "    string = string.replace('; Diploma, High School','')\n",
    "    string = string.replace(';  University of Missouri','')\n",
    "    string = string.replace('Master of Laws, University of Michigan;  ','')\n",
    "    string = string.replace('Broad College of Business;  ','')\n",
    "    string = string.replace(';  Rice University','')\n",
    "    string = string.replace('; North Carolina State University; North Carolina State University','')\n",
    "    string = string.replace('; Stanford University','')\n",
    "    string = string.replace('; Master of Arts, Western Michigan University','')\n",
    "    string = string.replace('; University of California, Los Angeles; University of California, Los Angeles','')\n",
    "    string = string.replace('Dickinson College; ','')\n",
    "    string = string.replace(';  University of Houston','')\n",
    "    string = string.replace('MIT Sloan School of Management','Massachusetts Institute of Technology')\n",
    "    string = string.replace('Christ Church, Oxford University;  ','')\n",
    "    string = string.replace('California State Polytechnical University; ','')\n",
    "    string = string.replace('; University of Minnesota','')\n",
    "    string = string.replace(';  University of Michigan','')\n",
    "    string = string.replace('Bowdoin College; ','')\n",
    "    string = string.replace('; University of Illinois, Urbana-Champaign','')\n",
    "    string = string.replace(';  Leonard N. Stern School of Business','')\n",
    "    string = string.replace('Creighton University;  ','')\n",
    "    string = string.replace(';  University of Houston','')\n",
    "    string = string.replace('Claremont McKenna College;  ','')\n",
    "    string = string.replace(';  University of Chicago','')\n",
    "    string = string.replace('; Master of Science in Engineering, Stanford University ','')\n",
    "    string = string.replace(';  Stanford University','')\n",
    "    string = string.replace(';  University of Southern California','')\n",
    "    string = string.replace('Leonard N. Stern School of Business;  ','')\n",
    "    string = string.replace('; Tsinghua University','')\n",
    "    string = string.replace('; Master of Architecture, University of California, Berkeley','')\n",
    "    string = string.replace('Indian Institute of Technology;  ','')\n",
    "    string = string.replace('; Master of Science in Engineering, Stanford University','')\n",
    "    string = string.replace(';  The University of Texas at Austin','')\n",
    "    string = string.replace(';  Southwestern Law School','')\n",
    "    string = string.replace(';  University of Pennsylvania','')\n",
    "    string = string.replace('; Vanderbilt University','')\n",
    "    string = string.replace('New York Law School;  ','')\n",
    "    string = string.replace('Chinese Culture University;  ','')\n",
    "    string = string.replace('Associate in Arts/Science, ','')\n",
    "    string = string.replace(';  Southern College of Optometry; Southern College of Optometry','')\n",
    "    string = string.replace('Brooklyn Law School;  ','')\n",
    "    string = string.replace(';  Washington University in St. Louis','')\n",
    "    string = string.replace('Harvard Law School; ','')\n",
    "    string = string.replace(';  Stanford Graduate School of Business','')\n",
    "    string = string.replace('; Master of Arts, Northern Illinois University','')\n",
    "    string = string.replace(';  Vanderbilt University','')\n",
    "    string = string.replace(';  Clark University','')\n",
    "    string = string.replace(';  Pomona College; Ph.D, University of California, San Diego','')\n",
    "    string = string.replace('; University of New Orleans; Ph.D, University of Utah','')\n",
    "    string = string.replace(';  Washington & Lee University','')\n",
    "    string = string.replace(';  Tufts University','')\n",
    "    string = string.replace('Long Island University; ','')\n",
    "    string = string.replace(';  Southern Methodist University','')\n",
    "    string = string.replace('; Medical Doctor, Yeshiva U Albert Einstein College of Medicine','')\n",
    "    string = string.replace('; San Francisco State University','')\n",
    "    string = string.replace('Ph.D, ','')\n",
    "    string = string.replace(';  University of Virginia','')\n",
    "    string = string.replace('City College of New York; ','')\n",
    "    string = string.replace(';  University of Vermont','')\n",
    "    string = string.replace('Law Degree, Pace University;  ','')\n",
    "    string = string.replace('Tsinghua University; ','')\n",
    "    string = string.replace('; The University of Texas at Austin','')\n",
    "    string = string.replace(';  Harvard University','')\n",
    "    string = string.replace('Robert H. Smith School of Business;  ','')\n",
    "    string = string.replace('; Université de Paris VI; Ph.D, Université de Paris VI','')\n",
    "    string = string.replace('; Université de Paris VI; Université de Paris VI','')\n",
    "    string = string.replace(', The Netherlands; Erasmus University Rotterdam, The Netherlands','')\n",
    "    string = string.replace('; Master of Arts, University of North Florida','')\n",
    "    string = string.replace('; University of Kansas','')\n",
    "    string = string.replace(';  University of California, Santa Barbara','')\n",
    "    string = string.replace(';  New York Law School','')\n",
    "    string = string.replace('Graduate School of Business','University')\n",
    "    string = string.replace('; University of Pennsylvania','')\n",
    "    string = string.replace(' Master of Arts, ','')\n",
    "    string = string.replace('Medical Doctor, University of Virginia; ','')\n",
    "    string = string.replace(' College of Law','')\n",
    "    string = string.replace('; University of Pennsylvania','')\n",
    "    string = string.strip()\n",
    "    \n",
    "    \n",
    "    \n",
    "    \n",
    "    return string"
   ]
  },
  {
   "cell_type": "markdown",
   "metadata": {
    "cell_id": "00044-6e40696b-8743-44a4-9e61-91ecafd75587",
    "deepnote_cell_type": "markdown"
   },
   "source": [
    "**Let's apply the function we wrote just now and assign the new information into the Education column.**"
   ]
  },
  {
   "cell_type": "code",
   "execution_count": 19,
   "metadata": {
    "cell_id": "00045-bc39d723-a4bf-4a57-9ae7-bfe91b126cc0",
    "deepnote_cell_type": "code",
    "deepnote_to_be_reexecuted": false,
    "execution_millis": 41,
    "execution_start": 1645762091887,
    "source_hash": "2076bf8a"
   },
   "outputs": [
    {
     "name": "stderr",
     "output_type": "stream",
     "text": [
      "/tmp/ipykernel_194/3908901607.py:1: SettingWithCopyWarning: \n",
      "A value is trying to be set on a copy of a slice from a DataFrame.\n",
      "Try using .loc[row_indexer,col_indexer] = value instead\n",
      "\n",
      "See the caveats in the documentation: https://pandas.pydata.org/pandas-docs/stable/user_guide/indexing.html#returning-a-view-versus-a-copy\n",
      "  df_college['Education_info'] = df_college['Education_info'].apply(standardize_name)\n"
     ]
    },
    {
     "data": {
      "text/html": [
       "<div>\n",
       "<style scoped>\n",
       "    .dataframe tbody tr th:only-of-type {\n",
       "        vertical-align: middle;\n",
       "    }\n",
       "\n",
       "    .dataframe tbody tr th {\n",
       "        vertical-align: top;\n",
       "    }\n",
       "\n",
       "    .dataframe thead th {\n",
       "        text-align: right;\n",
       "    }\n",
       "</style>\n",
       "<table border=\"1\" class=\"dataframe\">\n",
       "  <thead>\n",
       "    <tr style=\"text-align: right;\">\n",
       "      <th></th>\n",
       "      <th>Name</th>\n",
       "      <th>NetWorth</th>\n",
       "      <th>Source</th>\n",
       "      <th>Rank</th>\n",
       "      <th>Industry</th>\n",
       "      <th>Education</th>\n",
       "    </tr>\n",
       "  </thead>\n",
       "  <tbody>\n",
       "    <tr>\n",
       "      <th>0</th>\n",
       "      <td>Jeff Bezos</td>\n",
       "      <td>$177 B</td>\n",
       "      <td>Amazon</td>\n",
       "      <td>1</td>\n",
       "      <td>Technology</td>\n",
       "      <td>Princeton University</td>\n",
       "    </tr>\n",
       "    <tr>\n",
       "      <th>1</th>\n",
       "      <td>Elon Musk</td>\n",
       "      <td>$151 B</td>\n",
       "      <td>Tesla, SpaceX</td>\n",
       "      <td>2</td>\n",
       "      <td>Automotive</td>\n",
       "      <td>University of Pennsylvania</td>\n",
       "    </tr>\n",
       "    <tr>\n",
       "      <th>2</th>\n",
       "      <td>Bill Gates</td>\n",
       "      <td>$124 B</td>\n",
       "      <td>Microsoft</td>\n",
       "      <td>4</td>\n",
       "      <td>Technology</td>\n",
       "      <td>Harvard University</td>\n",
       "    </tr>\n",
       "    <tr>\n",
       "      <th>3</th>\n",
       "      <td>Mark Zuckerberg</td>\n",
       "      <td>$97 B</td>\n",
       "      <td>Facebook</td>\n",
       "      <td>5</td>\n",
       "      <td>Technology</td>\n",
       "      <td>Harvard University</td>\n",
       "    </tr>\n",
       "    <tr>\n",
       "      <th>4</th>\n",
       "      <td>Warren Buffett</td>\n",
       "      <td>$96 B</td>\n",
       "      <td>Berkshire Hathaway</td>\n",
       "      <td>6</td>\n",
       "      <td>Finance &amp; Investments</td>\n",
       "      <td>University of Nebraska Lincoln</td>\n",
       "    </tr>\n",
       "    <tr>\n",
       "      <th>...</th>\n",
       "      <td>...</td>\n",
       "      <td>...</td>\n",
       "      <td>...</td>\n",
       "      <td>...</td>\n",
       "      <td>...</td>\n",
       "      <td>...</td>\n",
       "    </tr>\n",
       "    <tr>\n",
       "      <th>495</th>\n",
       "      <td>Larry Fink</td>\n",
       "      <td>$1 B</td>\n",
       "      <td>money management</td>\n",
       "      <td>2674</td>\n",
       "      <td>Finance &amp; Investments</td>\n",
       "      <td>University of California, Los Angeles</td>\n",
       "    </tr>\n",
       "    <tr>\n",
       "      <th>496</th>\n",
       "      <td>David Katzman</td>\n",
       "      <td>$1 B</td>\n",
       "      <td>teeth aligners</td>\n",
       "      <td>2674</td>\n",
       "      <td>Service</td>\n",
       "      <td>Michigan State University</td>\n",
       "    </tr>\n",
       "    <tr>\n",
       "      <th>497</th>\n",
       "      <td>Bom Kim</td>\n",
       "      <td>$1 B</td>\n",
       "      <td>online retailing</td>\n",
       "      <td>2674</td>\n",
       "      <td>Technology</td>\n",
       "      <td>Harvard University</td>\n",
       "    </tr>\n",
       "    <tr>\n",
       "      <th>498</th>\n",
       "      <td>Vlad Tenev</td>\n",
       "      <td>$1 B</td>\n",
       "      <td>stock trading</td>\n",
       "      <td>2674</td>\n",
       "      <td>Finance &amp; Investments</td>\n",
       "      <td>Stanford University</td>\n",
       "    </tr>\n",
       "    <tr>\n",
       "      <th>499</th>\n",
       "      <td>Sandy Weill</td>\n",
       "      <td>$1 B</td>\n",
       "      <td>Citigroup</td>\n",
       "      <td>2674</td>\n",
       "      <td>Finance &amp; Investments</td>\n",
       "      <td>Cornell University</td>\n",
       "    </tr>\n",
       "  </tbody>\n",
       "</table>\n",
       "<p>500 rows × 6 columns</p>\n",
       "</div>"
      ],
      "text/plain": [
       "                Name NetWorth              Source  Rank  \\\n",
       "0         Jeff Bezos   $177 B              Amazon     1   \n",
       "1          Elon Musk   $151 B       Tesla, SpaceX     2   \n",
       "2         Bill Gates   $124 B           Microsoft     4   \n",
       "3    Mark Zuckerberg    $97 B            Facebook     5   \n",
       "4     Warren Buffett    $96 B  Berkshire Hathaway     6   \n",
       "..               ...      ...                 ...   ...   \n",
       "495       Larry Fink     $1 B    money management  2674   \n",
       "496    David Katzman     $1 B      teeth aligners  2674   \n",
       "497          Bom Kim     $1 B    online retailing  2674   \n",
       "498       Vlad Tenev     $1 B       stock trading  2674   \n",
       "499      Sandy Weill     $1 B           Citigroup  2674   \n",
       "\n",
       "                  Industry                              Education  \n",
       "0               Technology                   Princeton University  \n",
       "1               Automotive             University of Pennsylvania  \n",
       "2               Technology                     Harvard University  \n",
       "3               Technology                     Harvard University  \n",
       "4    Finance & Investments         University of Nebraska Lincoln  \n",
       "..                     ...                                    ...  \n",
       "495  Finance & Investments  University of California, Los Angeles  \n",
       "496                Service              Michigan State University  \n",
       "497             Technology                     Harvard University  \n",
       "498  Finance & Investments                    Stanford University  \n",
       "499  Finance & Investments                     Cornell University  \n",
       "\n",
       "[500 rows x 6 columns]"
      ]
     },
     "execution_count": 19,
     "metadata": {},
     "output_type": "execute_result"
    }
   ],
   "source": [
    "df_college['Education_info'] = df_college['Education_info'].apply(standardize_name)\n",
    "df_college = df_college.rename(columns = {'Education_info':'Education'})\n",
    "df_college"
   ]
  },
  {
   "cell_type": "markdown",
   "metadata": {
    "cell_id": "00046-0630c0be-9524-4bf7-a928-007e2c556757",
    "deepnote_cell_type": "markdown"
   },
   "source": [
    "**Let's take a look at the rank of the number of billionaire alumnis in each univeristy in descendning order.**"
   ]
  },
  {
   "cell_type": "code",
   "execution_count": 20,
   "metadata": {
    "cell_id": "00047-7ef6a913-cc26-4993-90f8-d30206886e0f",
    "deepnote_cell_type": "code",
    "deepnote_to_be_reexecuted": false,
    "execution_millis": 6,
    "execution_start": 1645762091973,
    "source_hash": "ed8beec4"
   },
   "outputs": [
    {
     "data": {
      "text/html": [
       "<div>\n",
       "<style scoped>\n",
       "    .dataframe tbody tr th:only-of-type {\n",
       "        vertical-align: middle;\n",
       "    }\n",
       "\n",
       "    .dataframe tbody tr th {\n",
       "        vertical-align: top;\n",
       "    }\n",
       "\n",
       "    .dataframe thead th {\n",
       "        text-align: right;\n",
       "    }\n",
       "</style>\n",
       "<table border=\"1\" class=\"dataframe\">\n",
       "  <thead>\n",
       "    <tr style=\"text-align: right;\">\n",
       "      <th></th>\n",
       "      <th>Name</th>\n",
       "      <th>NetWorth</th>\n",
       "      <th>Source</th>\n",
       "      <th>Rank</th>\n",
       "      <th>Industry</th>\n",
       "    </tr>\n",
       "    <tr>\n",
       "      <th>Education</th>\n",
       "      <th></th>\n",
       "      <th></th>\n",
       "      <th></th>\n",
       "      <th></th>\n",
       "      <th></th>\n",
       "    </tr>\n",
       "  </thead>\n",
       "  <tbody>\n",
       "    <tr>\n",
       "      <th>Stanford University</th>\n",
       "      <td>31</td>\n",
       "      <td>31</td>\n",
       "      <td>31</td>\n",
       "      <td>31</td>\n",
       "      <td>31</td>\n",
       "    </tr>\n",
       "    <tr>\n",
       "      <th>Harvard University</th>\n",
       "      <td>25</td>\n",
       "      <td>25</td>\n",
       "      <td>25</td>\n",
       "      <td>25</td>\n",
       "      <td>25</td>\n",
       "    </tr>\n",
       "    <tr>\n",
       "      <th>University of Pennsylvania</th>\n",
       "      <td>25</td>\n",
       "      <td>25</td>\n",
       "      <td>25</td>\n",
       "      <td>25</td>\n",
       "      <td>25</td>\n",
       "    </tr>\n",
       "    <tr>\n",
       "      <th>Yale University</th>\n",
       "      <td>13</td>\n",
       "      <td>13</td>\n",
       "      <td>13</td>\n",
       "      <td>13</td>\n",
       "      <td>13</td>\n",
       "    </tr>\n",
       "    <tr>\n",
       "      <th>University of California, Berkeley</th>\n",
       "      <td>12</td>\n",
       "      <td>12</td>\n",
       "      <td>12</td>\n",
       "      <td>12</td>\n",
       "      <td>12</td>\n",
       "    </tr>\n",
       "    <tr>\n",
       "      <th>...</th>\n",
       "      <td>...</td>\n",
       "      <td>...</td>\n",
       "      <td>...</td>\n",
       "      <td>...</td>\n",
       "      <td>...</td>\n",
       "    </tr>\n",
       "    <tr>\n",
       "      <th>Ohio Northern University</th>\n",
       "      <td>1</td>\n",
       "      <td>1</td>\n",
       "      <td>1</td>\n",
       "      <td>1</td>\n",
       "      <td>1</td>\n",
       "    </tr>\n",
       "    <tr>\n",
       "      <th>Ohio State University</th>\n",
       "      <td>1</td>\n",
       "      <td>1</td>\n",
       "      <td>1</td>\n",
       "      <td>1</td>\n",
       "      <td>1</td>\n",
       "    </tr>\n",
       "    <tr>\n",
       "      <th>Oklahoma State University</th>\n",
       "      <td>1</td>\n",
       "      <td>1</td>\n",
       "      <td>1</td>\n",
       "      <td>1</td>\n",
       "      <td>1</td>\n",
       "    </tr>\n",
       "    <tr>\n",
       "      <th>Oxford University</th>\n",
       "      <td>1</td>\n",
       "      <td>1</td>\n",
       "      <td>1</td>\n",
       "      <td>1</td>\n",
       "      <td>1</td>\n",
       "    </tr>\n",
       "    <tr>\n",
       "      <th>Samford University</th>\n",
       "      <td>1</td>\n",
       "      <td>1</td>\n",
       "      <td>1</td>\n",
       "      <td>1</td>\n",
       "      <td>1</td>\n",
       "    </tr>\n",
       "  </tbody>\n",
       "</table>\n",
       "<p>216 rows × 5 columns</p>\n",
       "</div>"
      ],
      "text/plain": [
       "                                    Name  NetWorth  Source  Rank  Industry\n",
       "Education                                                                 \n",
       "Stanford University                   31        31      31    31        31\n",
       "Harvard University                    25        25      25    25        25\n",
       "University of Pennsylvania            25        25      25    25        25\n",
       "Yale University                       13        13      13    13        13\n",
       "University of California, Berkeley    12        12      12    12        12\n",
       "...                                  ...       ...     ...   ...       ...\n",
       "Ohio Northern University               1         1       1     1         1\n",
       "Ohio State University                  1         1       1     1         1\n",
       "Oklahoma State University              1         1       1     1         1\n",
       "Oxford University                      1         1       1     1         1\n",
       "Samford University                     1         1       1     1         1\n",
       "\n",
       "[216 rows x 5 columns]"
      ]
     },
     "execution_count": 20,
     "metadata": {},
     "output_type": "execute_result"
    }
   ],
   "source": [
    "# group by college and rank by the number of billionaire alumni in descending order\n",
    "grouped_df = df_college.groupby('Education').count().sort_values(by='Name', ascending=False)\n",
    "grouped_df"
   ]
  },
  {
   "cell_type": "markdown",
   "metadata": {
    "cell_id": "00048-dcfb6f7e-4dd0-4f70-a241-690e67a8f299",
    "deepnote_cell_type": "markdown"
   },
   "source": [
    "**From the college instituion details dataset we found online(https://data.world/databeats/college-completion), we stored their names in a csv file named cc_institution_details.csv. Then, let's read in the dataset and assign it to cc_df**"
   ]
  },
  {
   "cell_type": "code",
   "execution_count": 21,
   "metadata": {
    "cell_id": "00049-d4185a9e-5b96-46f9-9eb2-9e9a6f4cc290",
    "deepnote_cell_type": "code",
    "deepnote_to_be_reexecuted": false,
    "execution_millis": 214,
    "execution_start": 1645762092026,
    "source_hash": "79aac941"
   },
   "outputs": [
    {
     "data": {
      "text/html": [
       "<div>\n",
       "<style scoped>\n",
       "    .dataframe tbody tr th:only-of-type {\n",
       "        vertical-align: middle;\n",
       "    }\n",
       "\n",
       "    .dataframe tbody tr th {\n",
       "        vertical-align: top;\n",
       "    }\n",
       "\n",
       "    .dataframe thead th {\n",
       "        text-align: right;\n",
       "    }\n",
       "</style>\n",
       "<table border=\"1\" class=\"dataframe\">\n",
       "  <thead>\n",
       "    <tr style=\"text-align: right;\">\n",
       "      <th></th>\n",
       "      <th>unitid</th>\n",
       "      <th>chronname</th>\n",
       "      <th>city</th>\n",
       "      <th>state</th>\n",
       "      <th>level</th>\n",
       "      <th>control</th>\n",
       "      <th>basic</th>\n",
       "      <th>hbcu</th>\n",
       "      <th>flagship</th>\n",
       "      <th>long_x</th>\n",
       "      <th>...</th>\n",
       "      <th>vsa_grad_after6_transfer</th>\n",
       "      <th>vsa_grad_elsewhere_after6_transfer</th>\n",
       "      <th>vsa_enroll_after6_transfer</th>\n",
       "      <th>vsa_enroll_elsewhere_after6_transfer</th>\n",
       "      <th>similar</th>\n",
       "      <th>state_sector_ct</th>\n",
       "      <th>carnegie_ct</th>\n",
       "      <th>counted_pct</th>\n",
       "      <th>nicknames</th>\n",
       "      <th>cohort_size</th>\n",
       "    </tr>\n",
       "  </thead>\n",
       "  <tbody>\n",
       "    <tr>\n",
       "      <th>0</th>\n",
       "      <td>100654</td>\n",
       "      <td>Alabama A&amp;M University</td>\n",
       "      <td>Normal</td>\n",
       "      <td>Alabama</td>\n",
       "      <td>4-year</td>\n",
       "      <td>Public</td>\n",
       "      <td>Masters Colleges and Universities--larger prog...</td>\n",
       "      <td>X</td>\n",
       "      <td>NaN</td>\n",
       "      <td>-86.568502</td>\n",
       "      <td>...</td>\n",
       "      <td>36.4</td>\n",
       "      <td>5.6</td>\n",
       "      <td>17.2</td>\n",
       "      <td>11.1</td>\n",
       "      <td>232937|100724|405997|113607|139533|144005|2285...</td>\n",
       "      <td>13</td>\n",
       "      <td>386</td>\n",
       "      <td>99.7|07</td>\n",
       "      <td>NaN</td>\n",
       "      <td>882.0</td>\n",
       "    </tr>\n",
       "    <tr>\n",
       "      <th>1</th>\n",
       "      <td>100663</td>\n",
       "      <td>University of Alabama at Birmingham</td>\n",
       "      <td>Birmingham</td>\n",
       "      <td>Alabama</td>\n",
       "      <td>4-year</td>\n",
       "      <td>Public</td>\n",
       "      <td>Research Universities--very high research acti...</td>\n",
       "      <td>NaN</td>\n",
       "      <td>NaN</td>\n",
       "      <td>-86.809170</td>\n",
       "      <td>...</td>\n",
       "      <td>NaN</td>\n",
       "      <td>NaN</td>\n",
       "      <td>NaN</td>\n",
       "      <td>NaN</td>\n",
       "      <td>196060|180461|201885|145600|209542|236939|1268...</td>\n",
       "      <td>13</td>\n",
       "      <td>106</td>\n",
       "      <td>56.0|07</td>\n",
       "      <td>UAB</td>\n",
       "      <td>1376.0</td>\n",
       "    </tr>\n",
       "    <tr>\n",
       "      <th>2</th>\n",
       "      <td>100690</td>\n",
       "      <td>Amridge University</td>\n",
       "      <td>Montgomery</td>\n",
       "      <td>Alabama</td>\n",
       "      <td>4-year</td>\n",
       "      <td>Private not-for-profit</td>\n",
       "      <td>Baccalaureate Colleges--Arts &amp; Sciences</td>\n",
       "      <td>NaN</td>\n",
       "      <td>NaN</td>\n",
       "      <td>-86.174010</td>\n",
       "      <td>...</td>\n",
       "      <td>NaN</td>\n",
       "      <td>NaN</td>\n",
       "      <td>NaN</td>\n",
       "      <td>NaN</td>\n",
       "      <td>217925|441511|205124|247825|197647|221856|1353...</td>\n",
       "      <td>16</td>\n",
       "      <td>252</td>\n",
       "      <td>100.0|07</td>\n",
       "      <td>NaN</td>\n",
       "      <td>3.0</td>\n",
       "    </tr>\n",
       "    <tr>\n",
       "      <th>3</th>\n",
       "      <td>100706</td>\n",
       "      <td>University of Alabama at Huntsville</td>\n",
       "      <td>Huntsville</td>\n",
       "      <td>Alabama</td>\n",
       "      <td>4-year</td>\n",
       "      <td>Public</td>\n",
       "      <td>Research Universities--very high research acti...</td>\n",
       "      <td>NaN</td>\n",
       "      <td>NaN</td>\n",
       "      <td>-86.638420</td>\n",
       "      <td>...</td>\n",
       "      <td>0.0</td>\n",
       "      <td>0.0</td>\n",
       "      <td>0.0</td>\n",
       "      <td>0.0</td>\n",
       "      <td>232186|133881|196103|196413|207388|171128|1900...</td>\n",
       "      <td>13</td>\n",
       "      <td>106</td>\n",
       "      <td>43.1|07</td>\n",
       "      <td>UAH</td>\n",
       "      <td>759.0</td>\n",
       "    </tr>\n",
       "    <tr>\n",
       "      <th>4</th>\n",
       "      <td>100724</td>\n",
       "      <td>Alabama State University</td>\n",
       "      <td>Montgomery</td>\n",
       "      <td>Alabama</td>\n",
       "      <td>4-year</td>\n",
       "      <td>Public</td>\n",
       "      <td>Masters Colleges and Universities--larger prog...</td>\n",
       "      <td>X</td>\n",
       "      <td>NaN</td>\n",
       "      <td>-86.295677</td>\n",
       "      <td>...</td>\n",
       "      <td>NaN</td>\n",
       "      <td>NaN</td>\n",
       "      <td>NaN</td>\n",
       "      <td>NaN</td>\n",
       "      <td>100654|232937|242617|243197|144005|241739|2354...</td>\n",
       "      <td>13</td>\n",
       "      <td>386</td>\n",
       "      <td>88.0|07</td>\n",
       "      <td>ASU</td>\n",
       "      <td>1351.0</td>\n",
       "    </tr>\n",
       "  </tbody>\n",
       "</table>\n",
       "<p>5 rows × 62 columns</p>\n",
       "</div>"
      ],
      "text/plain": [
       "   unitid                            chronname        city    state   level  \\\n",
       "0  100654               Alabama A&M University      Normal  Alabama  4-year   \n",
       "1  100663  University of Alabama at Birmingham  Birmingham  Alabama  4-year   \n",
       "2  100690                   Amridge University  Montgomery  Alabama  4-year   \n",
       "3  100706  University of Alabama at Huntsville  Huntsville  Alabama  4-year   \n",
       "4  100724             Alabama State University  Montgomery  Alabama  4-year   \n",
       "\n",
       "                  control                                              basic  \\\n",
       "0                  Public  Masters Colleges and Universities--larger prog...   \n",
       "1                  Public  Research Universities--very high research acti...   \n",
       "2  Private not-for-profit            Baccalaureate Colleges--Arts & Sciences   \n",
       "3                  Public  Research Universities--very high research acti...   \n",
       "4                  Public  Masters Colleges and Universities--larger prog...   \n",
       "\n",
       "  hbcu flagship     long_x  ...  vsa_grad_after6_transfer  \\\n",
       "0    X      NaN -86.568502  ...                      36.4   \n",
       "1  NaN      NaN -86.809170  ...                       NaN   \n",
       "2  NaN      NaN -86.174010  ...                       NaN   \n",
       "3  NaN      NaN -86.638420  ...                       0.0   \n",
       "4    X      NaN -86.295677  ...                       NaN   \n",
       "\n",
       "  vsa_grad_elsewhere_after6_transfer  vsa_enroll_after6_transfer  \\\n",
       "0                                5.6                        17.2   \n",
       "1                                NaN                         NaN   \n",
       "2                                NaN                         NaN   \n",
       "3                                0.0                         0.0   \n",
       "4                                NaN                         NaN   \n",
       "\n",
       "   vsa_enroll_elsewhere_after6_transfer  \\\n",
       "0                                  11.1   \n",
       "1                                   NaN   \n",
       "2                                   NaN   \n",
       "3                                   0.0   \n",
       "4                                   NaN   \n",
       "\n",
       "                                             similar  state_sector_ct  \\\n",
       "0  232937|100724|405997|113607|139533|144005|2285...               13   \n",
       "1  196060|180461|201885|145600|209542|236939|1268...               13   \n",
       "2  217925|441511|205124|247825|197647|221856|1353...               16   \n",
       "3  232186|133881|196103|196413|207388|171128|1900...               13   \n",
       "4  100654|232937|242617|243197|144005|241739|2354...               13   \n",
       "\n",
       "   carnegie_ct  counted_pct  nicknames  cohort_size  \n",
       "0          386      99.7|07        NaN        882.0  \n",
       "1          106      56.0|07        UAB       1376.0  \n",
       "2          252     100.0|07        NaN          3.0  \n",
       "3          106      43.1|07        UAH        759.0  \n",
       "4          386      88.0|07        ASU       1351.0  \n",
       "\n",
       "[5 rows x 62 columns]"
      ]
     },
     "execution_count": 21,
     "metadata": {},
     "output_type": "execute_result"
    }
   ],
   "source": [
    "# read in college instituion details dataset\n",
    "cc_df = pd.read_csv('cc_institution_details.csv', encoding='Latin-1')\n",
    "cc_df.head()"
   ]
  },
  {
   "cell_type": "markdown",
   "metadata": {
    "cell_id": "00050-fe2ea8af-4469-4cbb-993d-69f816d282f0",
    "deepnote_cell_type": "markdown"
   },
   "source": [
    "**Let's take a look at the dimension of the dataset.**"
   ]
  },
  {
   "cell_type": "code",
   "execution_count": 22,
   "metadata": {
    "cell_id": "00051-756c9851-341d-4592-8f54-016dd6d61137",
    "deepnote_cell_type": "code",
    "deepnote_to_be_reexecuted": false,
    "execution_millis": 5,
    "execution_start": 1645762092241,
    "source_hash": "27c6812"
   },
   "outputs": [
    {
     "data": {
      "text/plain": [
       "(3798, 62)"
      ]
     },
     "execution_count": 22,
     "metadata": {},
     "output_type": "execute_result"
    }
   ],
   "source": [
    "cc_df.shape"
   ]
  },
  {
   "cell_type": "markdown",
   "metadata": {
    "cell_id": "00052-711da450-93ca-4479-a918-ef307da0d655",
    "deepnote_cell_type": "markdown"
   },
   "source": [
    "**We will only keep the columns that have information regarding names, states, controls of colleges, because these information are crucial for us to establish correlations between universities and billionaires. In addition, the grad_100_value and grad_150_value columns indicate the percentage of students who graduated in four years and five years.We can later calculate the incompletion rate by subtracting them from 100%.**"
   ]
  },
  {
   "cell_type": "code",
   "execution_count": 23,
   "metadata": {
    "cell_id": "00053-864bebdb-5a74-4da1-b225-dc095056e832",
    "deepnote_cell_type": "code",
    "deepnote_to_be_reexecuted": false,
    "execution_millis": 3,
    "execution_start": 1645762092249,
    "source_hash": "c9d1e4b3"
   },
   "outputs": [],
   "source": [
    "# Filter out the columns we don't need\n",
    "cc_df = cc_df[['chronname', 'state', 'control', 'grad_100_value', 'grad_150_value']]"
   ]
  },
  {
   "cell_type": "markdown",
   "metadata": {
    "cell_id": "00054-02a25a16-ae42-4f88-b27a-754036cc65f4",
    "deepnote_cell_type": "markdown"
   },
   "source": [
    "**Let's take a look at the quantity of the nans.**"
   ]
  },
  {
   "cell_type": "code",
   "execution_count": 24,
   "metadata": {
    "cell_id": "00055-642f416f-584d-44a7-bef2-646f84dcbd7f",
    "deepnote_cell_type": "code",
    "deepnote_to_be_reexecuted": false,
    "execution_millis": 15,
    "execution_start": 1645762092268,
    "source_hash": "30fca1c6"
   },
   "outputs": [
    {
     "data": {
      "text/plain": [
       "chronname           0\n",
       "state               0\n",
       "control             0\n",
       "grad_100_value    331\n",
       "grad_150_value    331\n",
       "dtype: int64"
      ]
     },
     "execution_count": 24,
     "metadata": {},
     "output_type": "execute_result"
    }
   ],
   "source": [
    "cc_df.isnull().sum()"
   ]
  },
  {
   "cell_type": "markdown",
   "metadata": {
    "cell_id": "00056-945f28f6-ee6f-4b5a-a808-632982c455b4",
    "deepnote_cell_type": "markdown"
   },
   "source": [
    "**We want to drop all the rows that contain nans in the grad_100_value and grad_150_value column because nans with such high quantity will for sure cause trouble in our analysis.**"
   ]
  },
  {
   "cell_type": "code",
   "execution_count": 25,
   "metadata": {
    "cell_id": "00057-a45b4fc4-c65a-4a43-8f93-3007266c836d",
    "deepnote_cell_type": "code",
    "deepnote_to_be_reexecuted": false,
    "execution_millis": 2,
    "execution_start": 1645762092311,
    "source_hash": "fe477159"
   },
   "outputs": [],
   "source": [
    "# Drop any rows that contain missing data\n",
    "cc_df = cc_df.dropna(subset=['grad_100_value', 'grad_150_value'])"
   ]
  },
  {
   "cell_type": "markdown",
   "metadata": {
    "cell_id": "00058-fa5e4794-d85c-4ae8-9bf9-fd315b662b66",
    "deepnote_cell_type": "markdown"
   },
   "source": [
    "**For the sake of clarity, we want to rename chronname and control to name and type**"
   ]
  },
  {
   "cell_type": "code",
   "execution_count": 26,
   "metadata": {
    "cell_id": "00059-fc437a6f-d033-4633-8e93-4ca1b3f140ae",
    "deepnote_cell_type": "code",
    "deepnote_to_be_reexecuted": false,
    "execution_millis": 26594810,
    "execution_start": 1645762092334,
    "source_hash": "189d852a"
   },
   "outputs": [],
   "source": [
    "cc_df = cc_df.rename(columns={\"chronname\": \"name\", \"control\": \"type\"})"
   ]
  },
  {
   "cell_type": "markdown",
   "metadata": {
    "cell_id": "00060-3a45127e-f257-4f6d-a5c1-3d440778f352",
    "deepnote_cell_type": "markdown"
   },
   "source": [
    "**Since we are also interested in the incompletion rates of these universities, we subtract the values in grad_100_value and grad_150_value from 100 to obtain the incompletion rates. Then, we assign these values to new columns of nongrad_100_value and nongrad_150_value.**"
   ]
  },
  {
   "cell_type": "code",
   "execution_count": 27,
   "metadata": {
    "cell_id": "00061-3492852b-f1c8-47bc-b450-0363da3ab2cc",
    "deepnote_cell_type": "code",
    "deepnote_to_be_reexecuted": false,
    "execution_millis": 27,
    "execution_start": 1645762092383,
    "source_hash": "83087b58"
   },
   "outputs": [
    {
     "data": {
      "text/html": [
       "<div>\n",
       "<style scoped>\n",
       "    .dataframe tbody tr th:only-of-type {\n",
       "        vertical-align: middle;\n",
       "    }\n",
       "\n",
       "    .dataframe tbody tr th {\n",
       "        vertical-align: top;\n",
       "    }\n",
       "\n",
       "    .dataframe thead th {\n",
       "        text-align: right;\n",
       "    }\n",
       "</style>\n",
       "<table border=\"1\" class=\"dataframe\">\n",
       "  <thead>\n",
       "    <tr style=\"text-align: right;\">\n",
       "      <th></th>\n",
       "      <th>name</th>\n",
       "      <th>state</th>\n",
       "      <th>type</th>\n",
       "      <th>grad_100_value</th>\n",
       "      <th>grad_150_value</th>\n",
       "      <th>nongrad_100_value</th>\n",
       "      <th>nongrad_150_value</th>\n",
       "    </tr>\n",
       "  </thead>\n",
       "  <tbody>\n",
       "    <tr>\n",
       "      <th>0</th>\n",
       "      <td>Alabama A&amp;M University</td>\n",
       "      <td>Alabama</td>\n",
       "      <td>Public</td>\n",
       "      <td>10.0</td>\n",
       "      <td>29.1</td>\n",
       "      <td>90.0</td>\n",
       "      <td>70.9</td>\n",
       "    </tr>\n",
       "    <tr>\n",
       "      <th>1</th>\n",
       "      <td>University of Alabama at Birmingham</td>\n",
       "      <td>Alabama</td>\n",
       "      <td>Public</td>\n",
       "      <td>29.4</td>\n",
       "      <td>53.5</td>\n",
       "      <td>70.6</td>\n",
       "      <td>46.5</td>\n",
       "    </tr>\n",
       "    <tr>\n",
       "      <th>2</th>\n",
       "      <td>Amridge University</td>\n",
       "      <td>Alabama</td>\n",
       "      <td>Private not-for-profit</td>\n",
       "      <td>0.0</td>\n",
       "      <td>66.7</td>\n",
       "      <td>100.0</td>\n",
       "      <td>33.3</td>\n",
       "    </tr>\n",
       "    <tr>\n",
       "      <th>3</th>\n",
       "      <td>University of Alabama at Huntsville</td>\n",
       "      <td>Alabama</td>\n",
       "      <td>Public</td>\n",
       "      <td>16.5</td>\n",
       "      <td>48.4</td>\n",
       "      <td>83.5</td>\n",
       "      <td>51.6</td>\n",
       "    </tr>\n",
       "    <tr>\n",
       "      <th>4</th>\n",
       "      <td>Alabama State University</td>\n",
       "      <td>Alabama</td>\n",
       "      <td>Public</td>\n",
       "      <td>8.8</td>\n",
       "      <td>25.2</td>\n",
       "      <td>91.2</td>\n",
       "      <td>74.8</td>\n",
       "    </tr>\n",
       "    <tr>\n",
       "      <th>...</th>\n",
       "      <td>...</td>\n",
       "      <td>...</td>\n",
       "      <td>...</td>\n",
       "      <td>...</td>\n",
       "      <td>...</td>\n",
       "      <td>...</td>\n",
       "      <td>...</td>\n",
       "    </tr>\n",
       "    <tr>\n",
       "      <th>3793</th>\n",
       "      <td>Grace College of Divinity</td>\n",
       "      <td>North Carolina</td>\n",
       "      <td>Private not-for-profit</td>\n",
       "      <td>0.0</td>\n",
       "      <td>0.0</td>\n",
       "      <td>100.0</td>\n",
       "      <td>100.0</td>\n",
       "    </tr>\n",
       "    <tr>\n",
       "      <th>3794</th>\n",
       "      <td>John Paul the Great Catholic University</td>\n",
       "      <td>California</td>\n",
       "      <td>Private not-for-profit</td>\n",
       "      <td>51.5</td>\n",
       "      <td>51.5</td>\n",
       "      <td>48.5</td>\n",
       "      <td>48.5</td>\n",
       "    </tr>\n",
       "    <tr>\n",
       "      <th>3795</th>\n",
       "      <td>Chamberlain College of Nursing-Missouri</td>\n",
       "      <td>Missouri</td>\n",
       "      <td>Private for-profit</td>\n",
       "      <td>37.5</td>\n",
       "      <td>37.5</td>\n",
       "      <td>62.5</td>\n",
       "      <td>62.5</td>\n",
       "    </tr>\n",
       "    <tr>\n",
       "      <th>3796</th>\n",
       "      <td>Minneapolis Media Institute</td>\n",
       "      <td>Minnesota</td>\n",
       "      <td>Private for-profit</td>\n",
       "      <td>42.1</td>\n",
       "      <td>55.9</td>\n",
       "      <td>57.9</td>\n",
       "      <td>44.1</td>\n",
       "    </tr>\n",
       "    <tr>\n",
       "      <th>3797</th>\n",
       "      <td>Brown College-Brooklyn Center</td>\n",
       "      <td>Minnesota</td>\n",
       "      <td>Private for-profit</td>\n",
       "      <td>34.8</td>\n",
       "      <td>47.8</td>\n",
       "      <td>65.2</td>\n",
       "      <td>52.2</td>\n",
       "    </tr>\n",
       "  </tbody>\n",
       "</table>\n",
       "<p>3467 rows × 7 columns</p>\n",
       "</div>"
      ],
      "text/plain": [
       "                                         name           state  \\\n",
       "0                      Alabama A&M University         Alabama   \n",
       "1         University of Alabama at Birmingham         Alabama   \n",
       "2                          Amridge University         Alabama   \n",
       "3         University of Alabama at Huntsville         Alabama   \n",
       "4                    Alabama State University         Alabama   \n",
       "...                                       ...             ...   \n",
       "3793                Grace College of Divinity  North Carolina   \n",
       "3794  John Paul the Great Catholic University      California   \n",
       "3795  Chamberlain College of Nursing-Missouri        Missouri   \n",
       "3796              Minneapolis Media Institute       Minnesota   \n",
       "3797            Brown College-Brooklyn Center       Minnesota   \n",
       "\n",
       "                        type  grad_100_value  grad_150_value  \\\n",
       "0                     Public            10.0            29.1   \n",
       "1                     Public            29.4            53.5   \n",
       "2     Private not-for-profit             0.0            66.7   \n",
       "3                     Public            16.5            48.4   \n",
       "4                     Public             8.8            25.2   \n",
       "...                      ...             ...             ...   \n",
       "3793  Private not-for-profit             0.0             0.0   \n",
       "3794  Private not-for-profit            51.5            51.5   \n",
       "3795      Private for-profit            37.5            37.5   \n",
       "3796      Private for-profit            42.1            55.9   \n",
       "3797      Private for-profit            34.8            47.8   \n",
       "\n",
       "      nongrad_100_value  nongrad_150_value  \n",
       "0                  90.0               70.9  \n",
       "1                  70.6               46.5  \n",
       "2                 100.0               33.3  \n",
       "3                  83.5               51.6  \n",
       "4                  91.2               74.8  \n",
       "...                 ...                ...  \n",
       "3793              100.0              100.0  \n",
       "3794               48.5               48.5  \n",
       "3795               62.5               62.5  \n",
       "3796               57.9               44.1  \n",
       "3797               65.2               52.2  \n",
       "\n",
       "[3467 rows x 7 columns]"
      ]
     },
     "execution_count": 27,
     "metadata": {},
     "output_type": "execute_result"
    }
   ],
   "source": [
    "# Calculate the nongraduate rate columns\n",
    "cc_df['nongrad_100_value'] = 100 - cc_df['grad_100_value']\n",
    "cc_df['nongrad_150_value'] = 100 - cc_df['grad_150_value']\n",
    "cc_df"
   ]
  },
  {
   "cell_type": "markdown",
   "metadata": {
    "cell_id": "00062-5143570a-70b2-4747-9b6b-1fb00c50d909",
    "deepnote_cell_type": "markdown"
   },
   "source": [
    "# Data Analysis & Results (EDA)"
   ]
  },
  {
   "cell_type": "markdown",
   "metadata": {
    "cell_id": "00064-cd4783da-ee22-4ba5-8a84-a0e7141531ce",
    "deepnote_cell_type": "code",
    "deepnote_to_be_reexecuted": false,
    "execution_millis": 8,
    "execution_start": 1645762092405,
    "source_hash": "147ca9d7"
   },
   "source": [
    "## 1. Preperation"
   ]
  },
  {
   "cell_type": "markdown",
   "metadata": {
    "cell_id": "a840d97c-a2fd-4bdc-a939-58fa0d548889",
    "deepnote_cell_type": "markdown",
    "tags": []
   },
   "source": [
    "**We want to first renamee the college name column in both cc_df and df_college dataframes to 'College', and then reorder the columns in cc_df to have 'College' as the first column.**"
   ]
  },
  {
   "cell_type": "code",
   "execution_count": 28,
   "metadata": {
    "cell_id": "f7992121-9748-4b38-b3fc-a8db25ecdd0c",
    "deepnote_cell_type": "code",
    "deepnote_to_be_reexecuted": false,
    "execution_millis": 46,
    "execution_start": 1645762092435,
    "source_hash": "208518fd",
    "tags": []
   },
   "outputs": [
    {
     "data": {
      "text/html": [
       "<div>\n",
       "<style scoped>\n",
       "    .dataframe tbody tr th:only-of-type {\n",
       "        vertical-align: middle;\n",
       "    }\n",
       "\n",
       "    .dataframe tbody tr th {\n",
       "        vertical-align: top;\n",
       "    }\n",
       "\n",
       "    .dataframe thead th {\n",
       "        text-align: right;\n",
       "    }\n",
       "</style>\n",
       "<table border=\"1\" class=\"dataframe\">\n",
       "  <thead>\n",
       "    <tr style=\"text-align: right;\">\n",
       "      <th></th>\n",
       "      <th>Name</th>\n",
       "      <th>NetWorth</th>\n",
       "      <th>Source</th>\n",
       "      <th>Rank</th>\n",
       "      <th>Industry</th>\n",
       "      <th>College</th>\n",
       "    </tr>\n",
       "  </thead>\n",
       "  <tbody>\n",
       "    <tr>\n",
       "      <th>0</th>\n",
       "      <td>Jeff Bezos</td>\n",
       "      <td>$177 B</td>\n",
       "      <td>Amazon</td>\n",
       "      <td>1</td>\n",
       "      <td>Technology</td>\n",
       "      <td>Princeton University</td>\n",
       "    </tr>\n",
       "    <tr>\n",
       "      <th>1</th>\n",
       "      <td>Elon Musk</td>\n",
       "      <td>$151 B</td>\n",
       "      <td>Tesla, SpaceX</td>\n",
       "      <td>2</td>\n",
       "      <td>Automotive</td>\n",
       "      <td>University of Pennsylvania</td>\n",
       "    </tr>\n",
       "    <tr>\n",
       "      <th>2</th>\n",
       "      <td>Bill Gates</td>\n",
       "      <td>$124 B</td>\n",
       "      <td>Microsoft</td>\n",
       "      <td>4</td>\n",
       "      <td>Technology</td>\n",
       "      <td>Harvard University</td>\n",
       "    </tr>\n",
       "    <tr>\n",
       "      <th>3</th>\n",
       "      <td>Mark Zuckerberg</td>\n",
       "      <td>$97 B</td>\n",
       "      <td>Facebook</td>\n",
       "      <td>5</td>\n",
       "      <td>Technology</td>\n",
       "      <td>Harvard University</td>\n",
       "    </tr>\n",
       "    <tr>\n",
       "      <th>4</th>\n",
       "      <td>Warren Buffett</td>\n",
       "      <td>$96 B</td>\n",
       "      <td>Berkshire Hathaway</td>\n",
       "      <td>6</td>\n",
       "      <td>Finance &amp; Investments</td>\n",
       "      <td>University of Nebraska Lincoln</td>\n",
       "    </tr>\n",
       "    <tr>\n",
       "      <th>...</th>\n",
       "      <td>...</td>\n",
       "      <td>...</td>\n",
       "      <td>...</td>\n",
       "      <td>...</td>\n",
       "      <td>...</td>\n",
       "      <td>...</td>\n",
       "    </tr>\n",
       "    <tr>\n",
       "      <th>495</th>\n",
       "      <td>Larry Fink</td>\n",
       "      <td>$1 B</td>\n",
       "      <td>money management</td>\n",
       "      <td>2674</td>\n",
       "      <td>Finance &amp; Investments</td>\n",
       "      <td>University of California, Los Angeles</td>\n",
       "    </tr>\n",
       "    <tr>\n",
       "      <th>496</th>\n",
       "      <td>David Katzman</td>\n",
       "      <td>$1 B</td>\n",
       "      <td>teeth aligners</td>\n",
       "      <td>2674</td>\n",
       "      <td>Service</td>\n",
       "      <td>Michigan State University</td>\n",
       "    </tr>\n",
       "    <tr>\n",
       "      <th>497</th>\n",
       "      <td>Bom Kim</td>\n",
       "      <td>$1 B</td>\n",
       "      <td>online retailing</td>\n",
       "      <td>2674</td>\n",
       "      <td>Technology</td>\n",
       "      <td>Harvard University</td>\n",
       "    </tr>\n",
       "    <tr>\n",
       "      <th>498</th>\n",
       "      <td>Vlad Tenev</td>\n",
       "      <td>$1 B</td>\n",
       "      <td>stock trading</td>\n",
       "      <td>2674</td>\n",
       "      <td>Finance &amp; Investments</td>\n",
       "      <td>Stanford University</td>\n",
       "    </tr>\n",
       "    <tr>\n",
       "      <th>499</th>\n",
       "      <td>Sandy Weill</td>\n",
       "      <td>$1 B</td>\n",
       "      <td>Citigroup</td>\n",
       "      <td>2674</td>\n",
       "      <td>Finance &amp; Investments</td>\n",
       "      <td>Cornell University</td>\n",
       "    </tr>\n",
       "  </tbody>\n",
       "</table>\n",
       "<p>500 rows × 6 columns</p>\n",
       "</div>"
      ],
      "text/plain": [
       "                Name NetWorth              Source  Rank  \\\n",
       "0         Jeff Bezos   $177 B              Amazon     1   \n",
       "1          Elon Musk   $151 B       Tesla, SpaceX     2   \n",
       "2         Bill Gates   $124 B           Microsoft     4   \n",
       "3    Mark Zuckerberg    $97 B            Facebook     5   \n",
       "4     Warren Buffett    $96 B  Berkshire Hathaway     6   \n",
       "..               ...      ...                 ...   ...   \n",
       "495       Larry Fink     $1 B    money management  2674   \n",
       "496    David Katzman     $1 B      teeth aligners  2674   \n",
       "497          Bom Kim     $1 B    online retailing  2674   \n",
       "498       Vlad Tenev     $1 B       stock trading  2674   \n",
       "499      Sandy Weill     $1 B           Citigroup  2674   \n",
       "\n",
       "                  Industry                                College  \n",
       "0               Technology                   Princeton University  \n",
       "1               Automotive             University of Pennsylvania  \n",
       "2               Technology                     Harvard University  \n",
       "3               Technology                     Harvard University  \n",
       "4    Finance & Investments         University of Nebraska Lincoln  \n",
       "..                     ...                                    ...  \n",
       "495  Finance & Investments  University of California, Los Angeles  \n",
       "496                Service              Michigan State University  \n",
       "497             Technology                     Harvard University  \n",
       "498  Finance & Investments                    Stanford University  \n",
       "499  Finance & Investments                     Cornell University  \n",
       "\n",
       "[500 rows x 6 columns]"
      ]
     },
     "execution_count": 28,
     "metadata": {},
     "output_type": "execute_result"
    }
   ],
   "source": [
    "# rename cc_df 'name' column to 'College', df_college 'Education' column to 'College'\n",
    "cc_df = cc_df.assign(College=cc_df['name']).drop(columns=['name'])\n",
    "col_names = ['College', 'state', 'type', 'grad_100_value', 'grad_150_value', 'nongrad_100_value', 'nongrad_150_value']\n",
    "cc_df = cc_df.reindex(columns=col_names)\n",
    "\n",
    "df_college = df_college.assign(College=df_college['Education']).drop(columns=['Education'])\n",
    "df_college\n"
   ]
  },
  {
   "cell_type": "markdown",
   "metadata": {
    "cell_id": "1a159b45-f7f9-40f0-b932-d7dd704c420e",
    "deepnote_cell_type": "markdown",
    "tags": []
   },
   "source": [
    "**In order to merge the two dataframes cc_df and df_college together to create one dataframe with information about both where each billionaire went to college and the graduation rates of each college, we need to first standaardize the names of colleges in the two dataframes. Here, we have defined a function standardize_name to transform the college names in 'College' column of cc_df to match the 'College' column in df_college.**"
   ]
  },
  {
   "cell_type": "code",
   "execution_count": 29,
   "metadata": {
    "cell_id": "c48eec94-4401-432c-a364-3818e55544e0",
    "deepnote_cell_type": "code",
    "deepnote_to_be_reexecuted": false,
    "execution_millis": 1,
    "execution_start": 1645762092415,
    "source_hash": "bcf357cf",
    "tags": []
   },
   "outputs": [],
   "source": [
    "# standardizes college names in cc_df to match those in df_college\n",
    "def standardize_name(string):\n",
    "    \n",
    "    arr = df_college['College'].to_numpy()\n",
    "    if 'University of California' in string:\n",
    "        string = string.replace('University of California at', 'University of California,')\n",
    "        for i in arr:\n",
    "            if string in i:\n",
    "                string = i\n",
    "\n",
    "    else:\n",
    "        string = string.replace('-', ', ')\n",
    "        string = string.split('at')[0]\n",
    "        string = string.strip()\n",
    "        for i in arr:\n",
    "            if string in i:\n",
    "                string = i\n",
    "            \n",
    "    return string"
   ]
  },
  {
   "cell_type": "markdown",
   "metadata": {
    "cell_id": "6f218639-cf26-4d7d-bbf2-f7c327842f26",
    "deepnote_cell_type": "markdown",
    "tags": []
   },
   "source": [
    "**Now, we apply the standardize_name method that we just defined above to the 'College' column in cc_df. We name this new series as standardized_col.**"
   ]
  },
  {
   "cell_type": "code",
   "execution_count": 30,
   "metadata": {
    "cell_id": "1a514484-c1ca-4847-9cca-c014384a0a7a",
    "deepnote_cell_type": "code",
    "deepnote_to_be_reexecuted": false,
    "execution_millis": 199,
    "execution_start": 1645762092494,
    "source_hash": "1e8a60b9",
    "tags": []
   },
   "outputs": [
    {
     "data": {
      "text/plain": [
       "0                         Alabama A&M University\n",
       "1                          University of Alabama\n",
       "2                             Amridge University\n",
       "3                          University of Alabama\n",
       "4                                     Alabama St\n",
       "                          ...                   \n",
       "3793                   Grace College of Divinity\n",
       "3794                           John Paul the Gre\n",
       "3795    Chamberlain College of Nursing, Missouri\n",
       "3796                 Minneapolis Media Institute\n",
       "3797              Brown College, Brooklyn Center\n",
       "Name: College, Length: 3467, dtype: object"
      ]
     },
     "execution_count": 30,
     "metadata": {},
     "output_type": "execute_result"
    }
   ],
   "source": [
    "# apply standardize_name method to cc_df\n",
    "standardized_col = cc_df['College'].apply(standardize_name)\n",
    "standardized_col"
   ]
  },
  {
   "cell_type": "markdown",
   "metadata": {
    "cell_id": "6a072294-0892-408f-a4cc-c9c5859f2ecb",
    "deepnote_cell_type": "markdown",
    "tags": []
   },
   "source": [
    "**We then update the standardized college names in cc_df by assigning the new series to the 'College' column in cc_df.**"
   ]
  },
  {
   "cell_type": "code",
   "execution_count": 31,
   "metadata": {
    "cell_id": "b8af41d2-3850-407c-a901-7faeec9497d0",
    "deepnote_cell_type": "code",
    "deepnote_to_be_reexecuted": false,
    "execution_millis": 68,
    "execution_start": 1645762092696,
    "source_hash": "6ec62837",
    "tags": []
   },
   "outputs": [
    {
     "data": {
      "text/html": [
       "<div>\n",
       "<style scoped>\n",
       "    .dataframe tbody tr th:only-of-type {\n",
       "        vertical-align: middle;\n",
       "    }\n",
       "\n",
       "    .dataframe tbody tr th {\n",
       "        vertical-align: top;\n",
       "    }\n",
       "\n",
       "    .dataframe thead th {\n",
       "        text-align: right;\n",
       "    }\n",
       "</style>\n",
       "<table border=\"1\" class=\"dataframe\">\n",
       "  <thead>\n",
       "    <tr style=\"text-align: right;\">\n",
       "      <th></th>\n",
       "      <th>College</th>\n",
       "      <th>state</th>\n",
       "      <th>type</th>\n",
       "      <th>grad_100_value</th>\n",
       "      <th>grad_150_value</th>\n",
       "      <th>nongrad_100_value</th>\n",
       "      <th>nongrad_150_value</th>\n",
       "    </tr>\n",
       "  </thead>\n",
       "  <tbody>\n",
       "    <tr>\n",
       "      <th>0</th>\n",
       "      <td>Alabama A&amp;M University</td>\n",
       "      <td>Alabama</td>\n",
       "      <td>Public</td>\n",
       "      <td>10.0</td>\n",
       "      <td>29.1</td>\n",
       "      <td>90.0</td>\n",
       "      <td>70.9</td>\n",
       "    </tr>\n",
       "    <tr>\n",
       "      <th>1</th>\n",
       "      <td>University of Alabama</td>\n",
       "      <td>Alabama</td>\n",
       "      <td>Public</td>\n",
       "      <td>29.4</td>\n",
       "      <td>53.5</td>\n",
       "      <td>70.6</td>\n",
       "      <td>46.5</td>\n",
       "    </tr>\n",
       "    <tr>\n",
       "      <th>2</th>\n",
       "      <td>Amridge University</td>\n",
       "      <td>Alabama</td>\n",
       "      <td>Private not-for-profit</td>\n",
       "      <td>0.0</td>\n",
       "      <td>66.7</td>\n",
       "      <td>100.0</td>\n",
       "      <td>33.3</td>\n",
       "    </tr>\n",
       "    <tr>\n",
       "      <th>3</th>\n",
       "      <td>University of Alabama</td>\n",
       "      <td>Alabama</td>\n",
       "      <td>Public</td>\n",
       "      <td>16.5</td>\n",
       "      <td>48.4</td>\n",
       "      <td>83.5</td>\n",
       "      <td>51.6</td>\n",
       "    </tr>\n",
       "    <tr>\n",
       "      <th>4</th>\n",
       "      <td>Alabama St</td>\n",
       "      <td>Alabama</td>\n",
       "      <td>Public</td>\n",
       "      <td>8.8</td>\n",
       "      <td>25.2</td>\n",
       "      <td>91.2</td>\n",
       "      <td>74.8</td>\n",
       "    </tr>\n",
       "    <tr>\n",
       "      <th>...</th>\n",
       "      <td>...</td>\n",
       "      <td>...</td>\n",
       "      <td>...</td>\n",
       "      <td>...</td>\n",
       "      <td>...</td>\n",
       "      <td>...</td>\n",
       "      <td>...</td>\n",
       "    </tr>\n",
       "    <tr>\n",
       "      <th>3793</th>\n",
       "      <td>Grace College of Divinity</td>\n",
       "      <td>North Carolina</td>\n",
       "      <td>Private not-for-profit</td>\n",
       "      <td>0.0</td>\n",
       "      <td>0.0</td>\n",
       "      <td>100.0</td>\n",
       "      <td>100.0</td>\n",
       "    </tr>\n",
       "    <tr>\n",
       "      <th>3794</th>\n",
       "      <td>John Paul the Gre</td>\n",
       "      <td>California</td>\n",
       "      <td>Private not-for-profit</td>\n",
       "      <td>51.5</td>\n",
       "      <td>51.5</td>\n",
       "      <td>48.5</td>\n",
       "      <td>48.5</td>\n",
       "    </tr>\n",
       "    <tr>\n",
       "      <th>3795</th>\n",
       "      <td>Chamberlain College of Nursing, Missouri</td>\n",
       "      <td>Missouri</td>\n",
       "      <td>Private for-profit</td>\n",
       "      <td>37.5</td>\n",
       "      <td>37.5</td>\n",
       "      <td>62.5</td>\n",
       "      <td>62.5</td>\n",
       "    </tr>\n",
       "    <tr>\n",
       "      <th>3796</th>\n",
       "      <td>Minneapolis Media Institute</td>\n",
       "      <td>Minnesota</td>\n",
       "      <td>Private for-profit</td>\n",
       "      <td>42.1</td>\n",
       "      <td>55.9</td>\n",
       "      <td>57.9</td>\n",
       "      <td>44.1</td>\n",
       "    </tr>\n",
       "    <tr>\n",
       "      <th>3797</th>\n",
       "      <td>Brown College, Brooklyn Center</td>\n",
       "      <td>Minnesota</td>\n",
       "      <td>Private for-profit</td>\n",
       "      <td>34.8</td>\n",
       "      <td>47.8</td>\n",
       "      <td>65.2</td>\n",
       "      <td>52.2</td>\n",
       "    </tr>\n",
       "  </tbody>\n",
       "</table>\n",
       "<p>3467 rows × 7 columns</p>\n",
       "</div>"
      ],
      "text/plain": [
       "                                       College           state  \\\n",
       "0                       Alabama A&M University         Alabama   \n",
       "1                        University of Alabama         Alabama   \n",
       "2                           Amridge University         Alabama   \n",
       "3                        University of Alabama         Alabama   \n",
       "4                                   Alabama St         Alabama   \n",
       "...                                        ...             ...   \n",
       "3793                 Grace College of Divinity  North Carolina   \n",
       "3794                         John Paul the Gre      California   \n",
       "3795  Chamberlain College of Nursing, Missouri        Missouri   \n",
       "3796               Minneapolis Media Institute       Minnesota   \n",
       "3797            Brown College, Brooklyn Center       Minnesota   \n",
       "\n",
       "                        type  grad_100_value  grad_150_value  \\\n",
       "0                     Public            10.0            29.1   \n",
       "1                     Public            29.4            53.5   \n",
       "2     Private not-for-profit             0.0            66.7   \n",
       "3                     Public            16.5            48.4   \n",
       "4                     Public             8.8            25.2   \n",
       "...                      ...             ...             ...   \n",
       "3793  Private not-for-profit             0.0             0.0   \n",
       "3794  Private not-for-profit            51.5            51.5   \n",
       "3795      Private for-profit            37.5            37.5   \n",
       "3796      Private for-profit            42.1            55.9   \n",
       "3797      Private for-profit            34.8            47.8   \n",
       "\n",
       "      nongrad_100_value  nongrad_150_value  \n",
       "0                  90.0               70.9  \n",
       "1                  70.6               46.5  \n",
       "2                 100.0               33.3  \n",
       "3                  83.5               51.6  \n",
       "4                  91.2               74.8  \n",
       "...                 ...                ...  \n",
       "3793              100.0              100.0  \n",
       "3794               48.5               48.5  \n",
       "3795               62.5               62.5  \n",
       "3796               57.9               44.1  \n",
       "3797               65.2               52.2  \n",
       "\n",
       "[3467 rows x 7 columns]"
      ]
     },
     "execution_count": 31,
     "metadata": {},
     "output_type": "execute_result"
    }
   ],
   "source": [
    "# update the college names in collge column in cc_df\n",
    "cc_df = cc_df.assign(College=standardized_col)\n",
    "cc_df"
   ]
  },
  {
   "cell_type": "markdown",
   "metadata": {
    "cell_id": "43f0f86c-1c0e-4acc-8ddc-9af2ba9eed9d",
    "deepnote_cell_type": "markdown",
    "tags": []
   },
   "source": [
    "**Due to the nature of our function standardize_name(), we considered colleges with multiple campuses around the U.S. to be one single university system, which created many duplicate college names in the 'College' column in cc_df. Here, we are dropping the duplicate college names in cc_df. **"
   ]
  },
  {
   "cell_type": "code",
   "execution_count": 32,
   "metadata": {
    "cell_id": "4926ebf8-b96d-4c67-b25a-c926243dccea",
    "deepnote_cell_type": "code",
    "deepnote_to_be_reexecuted": false,
    "execution_millis": 686,
    "execution_start": 1645762092814,
    "source_hash": "cffca114",
    "tags": []
   },
   "outputs": [
    {
     "data": {
      "text/html": [
       "<div>\n",
       "<style scoped>\n",
       "    .dataframe tbody tr th:only-of-type {\n",
       "        vertical-align: middle;\n",
       "    }\n",
       "\n",
       "    .dataframe tbody tr th {\n",
       "        vertical-align: top;\n",
       "    }\n",
       "\n",
       "    .dataframe thead th {\n",
       "        text-align: right;\n",
       "    }\n",
       "</style>\n",
       "<table border=\"1\" class=\"dataframe\">\n",
       "  <thead>\n",
       "    <tr style=\"text-align: right;\">\n",
       "      <th></th>\n",
       "      <th>College</th>\n",
       "      <th>state</th>\n",
       "      <th>type</th>\n",
       "      <th>grad_100_value</th>\n",
       "      <th>grad_150_value</th>\n",
       "      <th>nongrad_100_value</th>\n",
       "      <th>nongrad_150_value</th>\n",
       "    </tr>\n",
       "  </thead>\n",
       "  <tbody>\n",
       "    <tr>\n",
       "      <th>0</th>\n",
       "      <td>Alabama A&amp;M University</td>\n",
       "      <td>Alabama</td>\n",
       "      <td>Public</td>\n",
       "      <td>10.0</td>\n",
       "      <td>29.1</td>\n",
       "      <td>90.0</td>\n",
       "      <td>70.9</td>\n",
       "    </tr>\n",
       "    <tr>\n",
       "      <th>1</th>\n",
       "      <td>University of Alabama</td>\n",
       "      <td>Alabama</td>\n",
       "      <td>Public</td>\n",
       "      <td>29.4</td>\n",
       "      <td>53.5</td>\n",
       "      <td>70.6</td>\n",
       "      <td>46.5</td>\n",
       "    </tr>\n",
       "    <tr>\n",
       "      <th>2</th>\n",
       "      <td>Amridge University</td>\n",
       "      <td>Alabama</td>\n",
       "      <td>Private not-for-profit</td>\n",
       "      <td>0.0</td>\n",
       "      <td>66.7</td>\n",
       "      <td>100.0</td>\n",
       "      <td>33.3</td>\n",
       "    </tr>\n",
       "    <tr>\n",
       "      <th>4</th>\n",
       "      <td>Alabama St</td>\n",
       "      <td>Alabama</td>\n",
       "      <td>Public</td>\n",
       "      <td>8.8</td>\n",
       "      <td>25.2</td>\n",
       "      <td>91.2</td>\n",
       "      <td>74.8</td>\n",
       "    </tr>\n",
       "    <tr>\n",
       "      <th>6</th>\n",
       "      <td>Central Alabama Community College</td>\n",
       "      <td>Alabama</td>\n",
       "      <td>Public</td>\n",
       "      <td>7.7</td>\n",
       "      <td>9.1</td>\n",
       "      <td>92.3</td>\n",
       "      <td>90.9</td>\n",
       "    </tr>\n",
       "    <tr>\n",
       "      <th>...</th>\n",
       "      <td>...</td>\n",
       "      <td>...</td>\n",
       "      <td>...</td>\n",
       "      <td>...</td>\n",
       "      <td>...</td>\n",
       "      <td>...</td>\n",
       "      <td>...</td>\n",
       "    </tr>\n",
       "    <tr>\n",
       "      <th>3793</th>\n",
       "      <td>Grace College of Divinity</td>\n",
       "      <td>North Carolina</td>\n",
       "      <td>Private not-for-profit</td>\n",
       "      <td>0.0</td>\n",
       "      <td>0.0</td>\n",
       "      <td>100.0</td>\n",
       "      <td>100.0</td>\n",
       "    </tr>\n",
       "    <tr>\n",
       "      <th>3794</th>\n",
       "      <td>John Paul the Gre</td>\n",
       "      <td>California</td>\n",
       "      <td>Private not-for-profit</td>\n",
       "      <td>51.5</td>\n",
       "      <td>51.5</td>\n",
       "      <td>48.5</td>\n",
       "      <td>48.5</td>\n",
       "    </tr>\n",
       "    <tr>\n",
       "      <th>3795</th>\n",
       "      <td>Chamberlain College of Nursing, Missouri</td>\n",
       "      <td>Missouri</td>\n",
       "      <td>Private for-profit</td>\n",
       "      <td>37.5</td>\n",
       "      <td>37.5</td>\n",
       "      <td>62.5</td>\n",
       "      <td>62.5</td>\n",
       "    </tr>\n",
       "    <tr>\n",
       "      <th>3796</th>\n",
       "      <td>Minneapolis Media Institute</td>\n",
       "      <td>Minnesota</td>\n",
       "      <td>Private for-profit</td>\n",
       "      <td>42.1</td>\n",
       "      <td>55.9</td>\n",
       "      <td>57.9</td>\n",
       "      <td>44.1</td>\n",
       "    </tr>\n",
       "    <tr>\n",
       "      <th>3797</th>\n",
       "      <td>Brown College, Brooklyn Center</td>\n",
       "      <td>Minnesota</td>\n",
       "      <td>Private for-profit</td>\n",
       "      <td>34.8</td>\n",
       "      <td>47.8</td>\n",
       "      <td>65.2</td>\n",
       "      <td>52.2</td>\n",
       "    </tr>\n",
       "  </tbody>\n",
       "</table>\n",
       "<p>3011 rows × 7 columns</p>\n",
       "</div>"
      ],
      "text/plain": [
       "                                       College           state  \\\n",
       "0                       Alabama A&M University         Alabama   \n",
       "1                        University of Alabama         Alabama   \n",
       "2                           Amridge University         Alabama   \n",
       "4                                   Alabama St         Alabama   \n",
       "6            Central Alabama Community College         Alabama   \n",
       "...                                        ...             ...   \n",
       "3793                 Grace College of Divinity  North Carolina   \n",
       "3794                         John Paul the Gre      California   \n",
       "3795  Chamberlain College of Nursing, Missouri        Missouri   \n",
       "3796               Minneapolis Media Institute       Minnesota   \n",
       "3797            Brown College, Brooklyn Center       Minnesota   \n",
       "\n",
       "                        type  grad_100_value  grad_150_value  \\\n",
       "0                     Public            10.0            29.1   \n",
       "1                     Public            29.4            53.5   \n",
       "2     Private not-for-profit             0.0            66.7   \n",
       "4                     Public             8.8            25.2   \n",
       "6                     Public             7.7             9.1   \n",
       "...                      ...             ...             ...   \n",
       "3793  Private not-for-profit             0.0             0.0   \n",
       "3794  Private not-for-profit            51.5            51.5   \n",
       "3795      Private for-profit            37.5            37.5   \n",
       "3796      Private for-profit            42.1            55.9   \n",
       "3797      Private for-profit            34.8            47.8   \n",
       "\n",
       "      nongrad_100_value  nongrad_150_value  \n",
       "0                  90.0               70.9  \n",
       "1                  70.6               46.5  \n",
       "2                 100.0               33.3  \n",
       "4                  91.2               74.8  \n",
       "6                  92.3               90.9  \n",
       "...                 ...                ...  \n",
       "3793              100.0              100.0  \n",
       "3794               48.5               48.5  \n",
       "3795               62.5               62.5  \n",
       "3796               57.9               44.1  \n",
       "3797               65.2               52.2  \n",
       "\n",
       "[3011 rows x 7 columns]"
      ]
     },
     "execution_count": 32,
     "metadata": {},
     "output_type": "execute_result"
    }
   ],
   "source": [
    "# drop duplicate college names in cc_df\n",
    "cc_df = cc_df.drop_duplicates(subset=['College'], keep='first')\n",
    "cc_df"
   ]
  },
  {
   "cell_type": "markdown",
   "metadata": {
    "cell_id": "834a9c01-66bc-412b-8497-ce85e133001e",
    "deepnote_cell_type": "markdown",
    "tags": []
   },
   "source": [
    "**Now that we have standardized the college names in both cc_df and df_college, we are ready to merge the two dataframes using the 'College' column. Here, we merged cc_df onto df_college because we are only interested in the colleges that have billionaire alumni, thereby dropping the rows in cc_df that contain information on the rest of the colleges.**"
   ]
  },
  {
   "cell_type": "code",
   "execution_count": 33,
   "metadata": {
    "cell_id": "164c9800-047b-458b-938f-6674fac2609c",
    "deepnote_cell_type": "code",
    "deepnote_to_be_reexecuted": false,
    "execution_millis": 663,
    "execution_start": 1645762092838,
    "source_hash": "43e68239",
    "tags": []
   },
   "outputs": [
    {
     "data": {
      "text/html": [
       "<div>\n",
       "<style scoped>\n",
       "    .dataframe tbody tr th:only-of-type {\n",
       "        vertical-align: middle;\n",
       "    }\n",
       "\n",
       "    .dataframe tbody tr th {\n",
       "        vertical-align: top;\n",
       "    }\n",
       "\n",
       "    .dataframe thead th {\n",
       "        text-align: right;\n",
       "    }\n",
       "</style>\n",
       "<table border=\"1\" class=\"dataframe\">\n",
       "  <thead>\n",
       "    <tr style=\"text-align: right;\">\n",
       "      <th></th>\n",
       "      <th>Name</th>\n",
       "      <th>NetWorth</th>\n",
       "      <th>Source</th>\n",
       "      <th>Rank</th>\n",
       "      <th>Industry</th>\n",
       "      <th>College</th>\n",
       "      <th>state</th>\n",
       "      <th>type</th>\n",
       "      <th>grad_100_value</th>\n",
       "      <th>grad_150_value</th>\n",
       "      <th>nongrad_100_value</th>\n",
       "      <th>nongrad_150_value</th>\n",
       "    </tr>\n",
       "  </thead>\n",
       "  <tbody>\n",
       "    <tr>\n",
       "      <th>0</th>\n",
       "      <td>Jeff Bezos</td>\n",
       "      <td>$177 B</td>\n",
       "      <td>Amazon</td>\n",
       "      <td>1</td>\n",
       "      <td>Technology</td>\n",
       "      <td>Princeton University</td>\n",
       "      <td>Kansas</td>\n",
       "      <td>Public</td>\n",
       "      <td>36.5</td>\n",
       "      <td>39.8</td>\n",
       "      <td>63.5</td>\n",
       "      <td>60.2</td>\n",
       "    </tr>\n",
       "    <tr>\n",
       "      <th>1</th>\n",
       "      <td>Elon Musk</td>\n",
       "      <td>$151 B</td>\n",
       "      <td>Tesla, SpaceX</td>\n",
       "      <td>2</td>\n",
       "      <td>Automotive</td>\n",
       "      <td>University of Pennsylvania</td>\n",
       "      <td>Pennsylvania</td>\n",
       "      <td>Private not-for-profit</td>\n",
       "      <td>87.9</td>\n",
       "      <td>95.7</td>\n",
       "      <td>12.1</td>\n",
       "      <td>4.3</td>\n",
       "    </tr>\n",
       "    <tr>\n",
       "      <th>2</th>\n",
       "      <td>Bill Gates</td>\n",
       "      <td>$124 B</td>\n",
       "      <td>Microsoft</td>\n",
       "      <td>4</td>\n",
       "      <td>Technology</td>\n",
       "      <td>Harvard University</td>\n",
       "      <td>Massachusetts</td>\n",
       "      <td>Private not-for-profit</td>\n",
       "      <td>86.5</td>\n",
       "      <td>97.5</td>\n",
       "      <td>13.5</td>\n",
       "      <td>2.5</td>\n",
       "    </tr>\n",
       "    <tr>\n",
       "      <th>3</th>\n",
       "      <td>Mark Zuckerberg</td>\n",
       "      <td>$97 B</td>\n",
       "      <td>Facebook</td>\n",
       "      <td>5</td>\n",
       "      <td>Technology</td>\n",
       "      <td>Harvard University</td>\n",
       "      <td>Massachusetts</td>\n",
       "      <td>Private not-for-profit</td>\n",
       "      <td>86.5</td>\n",
       "      <td>97.5</td>\n",
       "      <td>13.5</td>\n",
       "      <td>2.5</td>\n",
       "    </tr>\n",
       "    <tr>\n",
       "      <th>4</th>\n",
       "      <td>Warren Buffett</td>\n",
       "      <td>$96 B</td>\n",
       "      <td>Berkshire Hathaway</td>\n",
       "      <td>6</td>\n",
       "      <td>Finance &amp; Investments</td>\n",
       "      <td>University of Nebraska Lincoln</td>\n",
       "      <td>Arkansas</td>\n",
       "      <td>Public</td>\n",
       "      <td>11.4</td>\n",
       "      <td>19.7</td>\n",
       "      <td>88.6</td>\n",
       "      <td>80.3</td>\n",
       "    </tr>\n",
       "    <tr>\n",
       "      <th>...</th>\n",
       "      <td>...</td>\n",
       "      <td>...</td>\n",
       "      <td>...</td>\n",
       "      <td>...</td>\n",
       "      <td>...</td>\n",
       "      <td>...</td>\n",
       "      <td>...</td>\n",
       "      <td>...</td>\n",
       "      <td>...</td>\n",
       "      <td>...</td>\n",
       "      <td>...</td>\n",
       "      <td>...</td>\n",
       "    </tr>\n",
       "    <tr>\n",
       "      <th>495</th>\n",
       "      <td>Larry Fink</td>\n",
       "      <td>$1 B</td>\n",
       "      <td>money management</td>\n",
       "      <td>2674</td>\n",
       "      <td>Finance &amp; Investments</td>\n",
       "      <td>University of California, Los Angeles</td>\n",
       "      <td>California</td>\n",
       "      <td>Public</td>\n",
       "      <td>69.0</td>\n",
       "      <td>90.3</td>\n",
       "      <td>31.0</td>\n",
       "      <td>9.7</td>\n",
       "    </tr>\n",
       "    <tr>\n",
       "      <th>496</th>\n",
       "      <td>David Katzman</td>\n",
       "      <td>$1 B</td>\n",
       "      <td>teeth aligners</td>\n",
       "      <td>2674</td>\n",
       "      <td>Service</td>\n",
       "      <td>Michigan State University</td>\n",
       "      <td>Michigan</td>\n",
       "      <td>Public</td>\n",
       "      <td>50.4</td>\n",
       "      <td>77.6</td>\n",
       "      <td>49.6</td>\n",
       "      <td>22.4</td>\n",
       "    </tr>\n",
       "    <tr>\n",
       "      <th>497</th>\n",
       "      <td>Bom Kim</td>\n",
       "      <td>$1 B</td>\n",
       "      <td>online retailing</td>\n",
       "      <td>2674</td>\n",
       "      <td>Technology</td>\n",
       "      <td>Harvard University</td>\n",
       "      <td>Massachusetts</td>\n",
       "      <td>Private not-for-profit</td>\n",
       "      <td>86.5</td>\n",
       "      <td>97.5</td>\n",
       "      <td>13.5</td>\n",
       "      <td>2.5</td>\n",
       "    </tr>\n",
       "    <tr>\n",
       "      <th>498</th>\n",
       "      <td>Vlad Tenev</td>\n",
       "      <td>$1 B</td>\n",
       "      <td>stock trading</td>\n",
       "      <td>2674</td>\n",
       "      <td>Finance &amp; Investments</td>\n",
       "      <td>Stanford University</td>\n",
       "      <td>Missouri</td>\n",
       "      <td>Public</td>\n",
       "      <td>10.5</td>\n",
       "      <td>20.9</td>\n",
       "      <td>89.5</td>\n",
       "      <td>79.1</td>\n",
       "    </tr>\n",
       "    <tr>\n",
       "      <th>499</th>\n",
       "      <td>Sandy Weill</td>\n",
       "      <td>$1 B</td>\n",
       "      <td>Citigroup</td>\n",
       "      <td>2674</td>\n",
       "      <td>Finance &amp; Investments</td>\n",
       "      <td>Cornell University</td>\n",
       "      <td>New York</td>\n",
       "      <td>Private not-for-profit</td>\n",
       "      <td>86.6</td>\n",
       "      <td>93.3</td>\n",
       "      <td>13.4</td>\n",
       "      <td>6.7</td>\n",
       "    </tr>\n",
       "  </tbody>\n",
       "</table>\n",
       "<p>500 rows × 12 columns</p>\n",
       "</div>"
      ],
      "text/plain": [
       "                Name NetWorth              Source  Rank  \\\n",
       "0         Jeff Bezos   $177 B              Amazon     1   \n",
       "1          Elon Musk   $151 B       Tesla, SpaceX     2   \n",
       "2         Bill Gates   $124 B           Microsoft     4   \n",
       "3    Mark Zuckerberg    $97 B            Facebook     5   \n",
       "4     Warren Buffett    $96 B  Berkshire Hathaway     6   \n",
       "..               ...      ...                 ...   ...   \n",
       "495       Larry Fink     $1 B    money management  2674   \n",
       "496    David Katzman     $1 B      teeth aligners  2674   \n",
       "497          Bom Kim     $1 B    online retailing  2674   \n",
       "498       Vlad Tenev     $1 B       stock trading  2674   \n",
       "499      Sandy Weill     $1 B           Citigroup  2674   \n",
       "\n",
       "                  Industry                                College  \\\n",
       "0               Technology                   Princeton University   \n",
       "1               Automotive             University of Pennsylvania   \n",
       "2               Technology                     Harvard University   \n",
       "3               Technology                     Harvard University   \n",
       "4    Finance & Investments         University of Nebraska Lincoln   \n",
       "..                     ...                                    ...   \n",
       "495  Finance & Investments  University of California, Los Angeles   \n",
       "496                Service              Michigan State University   \n",
       "497             Technology                     Harvard University   \n",
       "498  Finance & Investments                    Stanford University   \n",
       "499  Finance & Investments                     Cornell University   \n",
       "\n",
       "             state                    type  grad_100_value  grad_150_value  \\\n",
       "0           Kansas                  Public            36.5            39.8   \n",
       "1     Pennsylvania  Private not-for-profit            87.9            95.7   \n",
       "2    Massachusetts  Private not-for-profit            86.5            97.5   \n",
       "3    Massachusetts  Private not-for-profit            86.5            97.5   \n",
       "4         Arkansas                  Public            11.4            19.7   \n",
       "..             ...                     ...             ...             ...   \n",
       "495     California                  Public            69.0            90.3   \n",
       "496       Michigan                  Public            50.4            77.6   \n",
       "497  Massachusetts  Private not-for-profit            86.5            97.5   \n",
       "498       Missouri                  Public            10.5            20.9   \n",
       "499       New York  Private not-for-profit            86.6            93.3   \n",
       "\n",
       "     nongrad_100_value  nongrad_150_value  \n",
       "0                 63.5               60.2  \n",
       "1                 12.1                4.3  \n",
       "2                 13.5                2.5  \n",
       "3                 13.5                2.5  \n",
       "4                 88.6               80.3  \n",
       "..                 ...                ...  \n",
       "495               31.0                9.7  \n",
       "496               49.6               22.4  \n",
       "497               13.5                2.5  \n",
       "498               89.5               79.1  \n",
       "499               13.4                6.7  \n",
       "\n",
       "[500 rows x 12 columns]"
      ]
     },
     "execution_count": 33,
     "metadata": {},
     "output_type": "execute_result"
    }
   ],
   "source": [
    "# merge the updated cc_df with df_college\n",
    "merged_df = pd.merge(df_college, cc_df, how='left', on='College')\n",
    "merged_df"
   ]
  },
  {
   "cell_type": "markdown",
   "metadata": {
    "cell_id": "378f02af-fc8b-44ad-bc42-a54647d14a22",
    "deepnote_cell_type": "markdown",
    "tags": []
   },
   "source": [
    "**We found some flaws in our function standardize_name(), which resulted in some college names in 'College' column of cc_df untransformed, therefore unable to be matched to the college names in df_college upon merging. For this reason, we manually put in the missing values in merged_df and named it merged_df_1.**"
   ]
  },
  {
   "cell_type": "code",
   "execution_count": 34,
   "metadata": {
    "cell_id": "ba3104e3-bc46-4ae2-b40d-8be2ebd00708",
    "deepnote_cell_type": "code",
    "deepnote_to_be_reexecuted": false,
    "execution_millis": 584,
    "execution_start": 1645762092918,
    "source_hash": "8e593034",
    "tags": []
   },
   "outputs": [
    {
     "data": {
      "text/html": [
       "<div>\n",
       "<style scoped>\n",
       "    .dataframe tbody tr th:only-of-type {\n",
       "        vertical-align: middle;\n",
       "    }\n",
       "\n",
       "    .dataframe tbody tr th {\n",
       "        vertical-align: top;\n",
       "    }\n",
       "\n",
       "    .dataframe thead th {\n",
       "        text-align: right;\n",
       "    }\n",
       "</style>\n",
       "<table border=\"1\" class=\"dataframe\">\n",
       "  <thead>\n",
       "    <tr style=\"text-align: right;\">\n",
       "      <th></th>\n",
       "      <th>Name</th>\n",
       "      <th>NetWorth</th>\n",
       "      <th>Source</th>\n",
       "      <th>Rank</th>\n",
       "      <th>Age</th>\n",
       "      <th>Industry</th>\n",
       "      <th>College</th>\n",
       "      <th>state</th>\n",
       "      <th>type</th>\n",
       "      <th>grad_100_value</th>\n",
       "      <th>grad_150_value</th>\n",
       "      <th>nongrad_100_value</th>\n",
       "      <th>nongrad_150_value</th>\n",
       "    </tr>\n",
       "  </thead>\n",
       "  <tbody>\n",
       "    <tr>\n",
       "      <th>0</th>\n",
       "      <td>Jeff Bezos</td>\n",
       "      <td>$177 B</td>\n",
       "      <td>Amazon</td>\n",
       "      <td>1</td>\n",
       "      <td>57</td>\n",
       "      <td>Technology</td>\n",
       "      <td>Princeton University</td>\n",
       "      <td>Kansas</td>\n",
       "      <td>Public</td>\n",
       "      <td>36.5</td>\n",
       "      <td>39.8</td>\n",
       "      <td>63.5</td>\n",
       "      <td>60.2</td>\n",
       "    </tr>\n",
       "    <tr>\n",
       "      <th>1</th>\n",
       "      <td>Elon Musk</td>\n",
       "      <td>$151 B</td>\n",
       "      <td>Tesla, SpaceX</td>\n",
       "      <td>2</td>\n",
       "      <td>49</td>\n",
       "      <td>Automotive</td>\n",
       "      <td>University of Pennsylvania</td>\n",
       "      <td>Pennsylvania</td>\n",
       "      <td>Private not-for-profit</td>\n",
       "      <td>87.9</td>\n",
       "      <td>95.7</td>\n",
       "      <td>12.1</td>\n",
       "      <td>4.3</td>\n",
       "    </tr>\n",
       "    <tr>\n",
       "      <th>2</th>\n",
       "      <td>Bill Gates</td>\n",
       "      <td>$124 B</td>\n",
       "      <td>Microsoft</td>\n",
       "      <td>4</td>\n",
       "      <td>65</td>\n",
       "      <td>Technology</td>\n",
       "      <td>Harvard University</td>\n",
       "      <td>Massachusetts</td>\n",
       "      <td>Private not-for-profit</td>\n",
       "      <td>86.5</td>\n",
       "      <td>97.5</td>\n",
       "      <td>13.5</td>\n",
       "      <td>2.5</td>\n",
       "    </tr>\n",
       "    <tr>\n",
       "      <th>3</th>\n",
       "      <td>Mark Zuckerberg</td>\n",
       "      <td>$97 B</td>\n",
       "      <td>Facebook</td>\n",
       "      <td>5</td>\n",
       "      <td>36</td>\n",
       "      <td>Technology</td>\n",
       "      <td>Harvard University</td>\n",
       "      <td>Massachusetts</td>\n",
       "      <td>Private not-for-profit</td>\n",
       "      <td>86.5</td>\n",
       "      <td>97.5</td>\n",
       "      <td>13.5</td>\n",
       "      <td>2.5</td>\n",
       "    </tr>\n",
       "    <tr>\n",
       "      <th>4</th>\n",
       "      <td>Warren Buffett</td>\n",
       "      <td>$96 B</td>\n",
       "      <td>Berkshire Hathaway</td>\n",
       "      <td>6</td>\n",
       "      <td>90</td>\n",
       "      <td>Finance &amp; Investments</td>\n",
       "      <td>University of Nebraska Lincoln</td>\n",
       "      <td>Arkansas</td>\n",
       "      <td>Public</td>\n",
       "      <td>11.4</td>\n",
       "      <td>19.7</td>\n",
       "      <td>88.6</td>\n",
       "      <td>80.3</td>\n",
       "    </tr>\n",
       "    <tr>\n",
       "      <th>...</th>\n",
       "      <td>...</td>\n",
       "      <td>...</td>\n",
       "      <td>...</td>\n",
       "      <td>...</td>\n",
       "      <td>...</td>\n",
       "      <td>...</td>\n",
       "      <td>...</td>\n",
       "      <td>...</td>\n",
       "      <td>...</td>\n",
       "      <td>...</td>\n",
       "      <td>...</td>\n",
       "      <td>...</td>\n",
       "      <td>...</td>\n",
       "    </tr>\n",
       "    <tr>\n",
       "      <th>458</th>\n",
       "      <td>Larry Fink</td>\n",
       "      <td>$1 B</td>\n",
       "      <td>money management</td>\n",
       "      <td>2674</td>\n",
       "      <td>68</td>\n",
       "      <td>Finance &amp; Investments</td>\n",
       "      <td>University of California, Los Angeles</td>\n",
       "      <td>California</td>\n",
       "      <td>Public</td>\n",
       "      <td>69.0</td>\n",
       "      <td>90.3</td>\n",
       "      <td>31.0</td>\n",
       "      <td>9.7</td>\n",
       "    </tr>\n",
       "    <tr>\n",
       "      <th>459</th>\n",
       "      <td>David Katzman</td>\n",
       "      <td>$1 B</td>\n",
       "      <td>teeth aligners</td>\n",
       "      <td>2674</td>\n",
       "      <td>61</td>\n",
       "      <td>Service</td>\n",
       "      <td>Michigan State University</td>\n",
       "      <td>Michigan</td>\n",
       "      <td>Public</td>\n",
       "      <td>50.4</td>\n",
       "      <td>77.6</td>\n",
       "      <td>49.6</td>\n",
       "      <td>22.4</td>\n",
       "    </tr>\n",
       "    <tr>\n",
       "      <th>460</th>\n",
       "      <td>Bom Kim</td>\n",
       "      <td>$1 B</td>\n",
       "      <td>online retailing</td>\n",
       "      <td>2674</td>\n",
       "      <td>42</td>\n",
       "      <td>Technology</td>\n",
       "      <td>Harvard University</td>\n",
       "      <td>Massachusetts</td>\n",
       "      <td>Private not-for-profit</td>\n",
       "      <td>86.5</td>\n",
       "      <td>97.5</td>\n",
       "      <td>13.5</td>\n",
       "      <td>2.5</td>\n",
       "    </tr>\n",
       "    <tr>\n",
       "      <th>461</th>\n",
       "      <td>Vlad Tenev</td>\n",
       "      <td>$1 B</td>\n",
       "      <td>stock trading</td>\n",
       "      <td>2674</td>\n",
       "      <td>34</td>\n",
       "      <td>Finance &amp; Investments</td>\n",
       "      <td>Stanford University</td>\n",
       "      <td>Missouri</td>\n",
       "      <td>Public</td>\n",
       "      <td>10.5</td>\n",
       "      <td>20.9</td>\n",
       "      <td>89.5</td>\n",
       "      <td>79.1</td>\n",
       "    </tr>\n",
       "    <tr>\n",
       "      <th>462</th>\n",
       "      <td>Sandy Weill</td>\n",
       "      <td>$1 B</td>\n",
       "      <td>Citigroup</td>\n",
       "      <td>2674</td>\n",
       "      <td>88</td>\n",
       "      <td>Finance &amp; Investments</td>\n",
       "      <td>Cornell University</td>\n",
       "      <td>New York</td>\n",
       "      <td>Private not-for-profit</td>\n",
       "      <td>86.6</td>\n",
       "      <td>93.3</td>\n",
       "      <td>13.4</td>\n",
       "      <td>6.7</td>\n",
       "    </tr>\n",
       "  </tbody>\n",
       "</table>\n",
       "<p>463 rows × 13 columns</p>\n",
       "</div>"
      ],
      "text/plain": [
       "                Name NetWorth              Source  Rank  Age  \\\n",
       "0         Jeff Bezos   $177 B              Amazon     1   57   \n",
       "1          Elon Musk   $151 B       Tesla, SpaceX     2   49   \n",
       "2         Bill Gates   $124 B           Microsoft     4   65   \n",
       "3    Mark Zuckerberg    $97 B            Facebook     5   36   \n",
       "4     Warren Buffett    $96 B  Berkshire Hathaway     6   90   \n",
       "..               ...      ...                 ...   ...  ...   \n",
       "458       Larry Fink     $1 B    money management  2674   68   \n",
       "459    David Katzman     $1 B      teeth aligners  2674   61   \n",
       "460          Bom Kim     $1 B    online retailing  2674   42   \n",
       "461       Vlad Tenev     $1 B       stock trading  2674   34   \n",
       "462      Sandy Weill     $1 B           Citigroup  2674   88   \n",
       "\n",
       "                  Industry                                College  \\\n",
       "0               Technology                   Princeton University   \n",
       "1               Automotive             University of Pennsylvania   \n",
       "2               Technology                     Harvard University   \n",
       "3               Technology                     Harvard University   \n",
       "4    Finance & Investments         University of Nebraska Lincoln   \n",
       "..                     ...                                    ...   \n",
       "458  Finance & Investments  University of California, Los Angeles   \n",
       "459                Service              Michigan State University   \n",
       "460             Technology                     Harvard University   \n",
       "461  Finance & Investments                    Stanford University   \n",
       "462  Finance & Investments                     Cornell University   \n",
       "\n",
       "             state                    type  grad_100_value  grad_150_value  \\\n",
       "0           Kansas                  Public            36.5            39.8   \n",
       "1     Pennsylvania  Private not-for-profit            87.9            95.7   \n",
       "2    Massachusetts  Private not-for-profit            86.5            97.5   \n",
       "3    Massachusetts  Private not-for-profit            86.5            97.5   \n",
       "4         Arkansas                  Public            11.4            19.7   \n",
       "..             ...                     ...             ...             ...   \n",
       "458     California                  Public            69.0            90.3   \n",
       "459       Michigan                  Public            50.4            77.6   \n",
       "460  Massachusetts  Private not-for-profit            86.5            97.5   \n",
       "461       Missouri                  Public            10.5            20.9   \n",
       "462       New York  Private not-for-profit            86.6            93.3   \n",
       "\n",
       "     nongrad_100_value  nongrad_150_value  \n",
       "0                 63.5               60.2  \n",
       "1                 12.1                4.3  \n",
       "2                 13.5                2.5  \n",
       "3                 13.5                2.5  \n",
       "4                 88.6               80.3  \n",
       "..                 ...                ...  \n",
       "458               31.0                9.7  \n",
       "459               49.6               22.4  \n",
       "460               13.5                2.5  \n",
       "461               89.5               79.1  \n",
       "462               13.4                6.7  \n",
       "\n",
       "[463 rows x 13 columns]"
      ]
     },
     "execution_count": 34,
     "metadata": {},
     "output_type": "execute_result"
    }
   ],
   "source": [
    "# merged_df after manually correcting some values\n",
    "merged_df_1 = pd.read_csv('merged_df_1.csv')\n",
    "merged_df_1 = merged_df_1.drop(columns=['Unnamed: 0'])\n",
    "merged_df_1"
   ]
  },
  {
   "cell_type": "markdown",
   "metadata": {
    "cell_id": "0b20e139-dbaa-4cc9-8012-9421758145e0",
    "deepnote_cell_type": "markdown",
    "tags": []
   },
   "source": [
    "**Since we are interested in the number of billionaire alumni each college has, we created a dataframe count_df from merged_df_1 that contains the count of billionaire alumni of each college in the column 'Num_Alumni' and ranked the colleges in descending order.**"
   ]
  },
  {
   "cell_type": "code",
   "execution_count": 35,
   "metadata": {
    "cell_id": "ab4ee9b0-cdd5-4dfb-9e0e-67336005c7c5",
    "deepnote_cell_type": "code",
    "deepnote_table_loading": false,
    "deepnote_table_state": {
     "filters": [],
     "pageIndex": 1,
     "pageSize": 10,
     "sortBy": []
    },
    "deepnote_to_be_reexecuted": false,
    "execution_millis": 488,
    "execution_start": 1645762093016,
    "source_hash": "f59d6ac9",
    "tags": []
   },
   "outputs": [
    {
     "data": {
      "text/html": [
       "<div>\n",
       "<style scoped>\n",
       "    .dataframe tbody tr th:only-of-type {\n",
       "        vertical-align: middle;\n",
       "    }\n",
       "\n",
       "    .dataframe tbody tr th {\n",
       "        vertical-align: top;\n",
       "    }\n",
       "\n",
       "    .dataframe thead th {\n",
       "        text-align: right;\n",
       "    }\n",
       "</style>\n",
       "<table border=\"1\" class=\"dataframe\">\n",
       "  <thead>\n",
       "    <tr style=\"text-align: right;\">\n",
       "      <th></th>\n",
       "      <th>Num_Alumni</th>\n",
       "    </tr>\n",
       "    <tr>\n",
       "      <th>College</th>\n",
       "      <th></th>\n",
       "    </tr>\n",
       "  </thead>\n",
       "  <tbody>\n",
       "    <tr>\n",
       "      <th>Stanford University</th>\n",
       "      <td>31</td>\n",
       "    </tr>\n",
       "    <tr>\n",
       "      <th>Harvard University</th>\n",
       "      <td>25</td>\n",
       "    </tr>\n",
       "    <tr>\n",
       "      <th>University of Pennsylvania</th>\n",
       "      <td>25</td>\n",
       "    </tr>\n",
       "    <tr>\n",
       "      <th>Yale University</th>\n",
       "      <td>13</td>\n",
       "    </tr>\n",
       "    <tr>\n",
       "      <th>University of California, Berkeley</th>\n",
       "      <td>12</td>\n",
       "    </tr>\n",
       "    <tr>\n",
       "      <th>...</th>\n",
       "      <td>...</td>\n",
       "    </tr>\n",
       "    <tr>\n",
       "      <th>Montana State University</th>\n",
       "      <td>1</td>\n",
       "    </tr>\n",
       "    <tr>\n",
       "      <th>Minnesota State University</th>\n",
       "      <td>1</td>\n",
       "    </tr>\n",
       "    <tr>\n",
       "      <th>Middle Tennessee State University</th>\n",
       "      <td>1</td>\n",
       "    </tr>\n",
       "    <tr>\n",
       "      <th>Menlo College</th>\n",
       "      <td>1</td>\n",
       "    </tr>\n",
       "    <tr>\n",
       "      <th>San Francisco Conservatory of Music</th>\n",
       "      <td>1</td>\n",
       "    </tr>\n",
       "  </tbody>\n",
       "</table>\n",
       "<p>185 rows × 1 columns</p>\n",
       "</div>"
      ],
      "text/plain": [
       "                                     Num_Alumni\n",
       "College                                        \n",
       "Stanford University                          31\n",
       "Harvard University                           25\n",
       "University of Pennsylvania                   25\n",
       "Yale University                              13\n",
       "University of California, Berkeley           12\n",
       "...                                         ...\n",
       "Montana State University                      1\n",
       "Minnesota State University                    1\n",
       "Middle Tennessee State University             1\n",
       "Menlo College                                 1\n",
       "San Francisco Conservatory of Music           1\n",
       "\n",
       "[185 rows x 1 columns]"
      ]
     },
     "execution_count": 35,
     "metadata": {},
     "output_type": "execute_result"
    }
   ],
   "source": [
    "count_df = merged_df_1.groupby('College').count().sort_values(by='Name', ascending=False)\n",
    "count_df = count_df[['Name']].assign(Num_Alumni=count_df['Name']).drop(columns=['Name'])\n",
    "count_df"
   ]
  },
  {
   "cell_type": "markdown",
   "metadata": {
    "cell_id": "c8d0d311-1f68-431a-b72d-ad353601d970",
    "deepnote_cell_type": "markdown",
    "tags": []
   },
   "source": [
    "**We are also interested in seeing whether the networth of billionaires have any correlation to whether graduation rate and the number of billionaire alumni are related and how they are related. Currently, the 'NetWorth' column in merged_df_1 is stored in a string format with '<span class=\"tex2jax_ignore\">$' symbol and 'B' for billions. This makes it hard to rank based on the values. To transform the strings in the 'NetWorth' column of merged_df_1, we created a function standardize_networth() that strips '$' and 'B', and transforms every string into a floating point number.**"
   ]
  },
  {
   "cell_type": "code",
   "execution_count": 36,
   "metadata": {
    "cell_id": "d3240245-aa54-4e0c-ae81-ea00ce95ebc1",
    "deepnote_cell_type": "code",
    "deepnote_to_be_reexecuted": false,
    "execution_millis": 26504292,
    "execution_start": 1645762093466,
    "source_hash": "a03c2b9b",
    "tags": []
   },
   "outputs": [],
   "source": [
    "# method to transform the values in NetWorth column of merged_df_1 into floats\n",
    "def standardize_networth(string):\n",
    "\n",
    "    string = string.strip('$')\n",
    "    string = string.strip('B')\n",
    "    string = string.strip()\n",
    "    num = float(string)\n",
    "    num = num * (10 ** 9)\n",
    "\n",
    "    return num \n"
   ]
  },
  {
   "cell_type": "markdown",
   "metadata": {
    "cell_id": "b36780fc-f5bc-4360-a8ce-c609f146e507",
    "deepnote_cell_type": "markdown",
    "tags": []
   },
   "source": [
    "**Now, we apply the above function standardize_networth() to the 'NetWorth' column in merged_df_1 and updates it accordingly.**"
   ]
  },
  {
   "cell_type": "code",
   "execution_count": 37,
   "metadata": {
    "cell_id": "788da103-938e-4f17-8164-45eb97881cfa",
    "deepnote_cell_type": "code",
    "deepnote_to_be_reexecuted": false,
    "execution_millis": 39,
    "execution_start": 1645762093466,
    "source_hash": "5e21905f",
    "tags": []
   },
   "outputs": [
    {
     "data": {
      "text/html": [
       "<div>\n",
       "<style scoped>\n",
       "    .dataframe tbody tr th:only-of-type {\n",
       "        vertical-align: middle;\n",
       "    }\n",
       "\n",
       "    .dataframe tbody tr th {\n",
       "        vertical-align: top;\n",
       "    }\n",
       "\n",
       "    .dataframe thead th {\n",
       "        text-align: right;\n",
       "    }\n",
       "</style>\n",
       "<table border=\"1\" class=\"dataframe\">\n",
       "  <thead>\n",
       "    <tr style=\"text-align: right;\">\n",
       "      <th></th>\n",
       "      <th>Name</th>\n",
       "      <th>NetWorth</th>\n",
       "      <th>Source</th>\n",
       "      <th>Rank</th>\n",
       "      <th>Age</th>\n",
       "      <th>Industry</th>\n",
       "      <th>College</th>\n",
       "      <th>state</th>\n",
       "      <th>type</th>\n",
       "      <th>grad_100_value</th>\n",
       "      <th>grad_150_value</th>\n",
       "      <th>nongrad_100_value</th>\n",
       "      <th>nongrad_150_value</th>\n",
       "    </tr>\n",
       "  </thead>\n",
       "  <tbody>\n",
       "    <tr>\n",
       "      <th>0</th>\n",
       "      <td>Jeff Bezos</td>\n",
       "      <td>1.770000e+11</td>\n",
       "      <td>Amazon</td>\n",
       "      <td>1</td>\n",
       "      <td>57</td>\n",
       "      <td>Technology</td>\n",
       "      <td>Princeton University</td>\n",
       "      <td>Kansas</td>\n",
       "      <td>Public</td>\n",
       "      <td>36.5</td>\n",
       "      <td>39.8</td>\n",
       "      <td>63.5</td>\n",
       "      <td>60.2</td>\n",
       "    </tr>\n",
       "    <tr>\n",
       "      <th>1</th>\n",
       "      <td>Elon Musk</td>\n",
       "      <td>1.510000e+11</td>\n",
       "      <td>Tesla, SpaceX</td>\n",
       "      <td>2</td>\n",
       "      <td>49</td>\n",
       "      <td>Automotive</td>\n",
       "      <td>University of Pennsylvania</td>\n",
       "      <td>Pennsylvania</td>\n",
       "      <td>Private not-for-profit</td>\n",
       "      <td>87.9</td>\n",
       "      <td>95.7</td>\n",
       "      <td>12.1</td>\n",
       "      <td>4.3</td>\n",
       "    </tr>\n",
       "    <tr>\n",
       "      <th>2</th>\n",
       "      <td>Bill Gates</td>\n",
       "      <td>1.240000e+11</td>\n",
       "      <td>Microsoft</td>\n",
       "      <td>4</td>\n",
       "      <td>65</td>\n",
       "      <td>Technology</td>\n",
       "      <td>Harvard University</td>\n",
       "      <td>Massachusetts</td>\n",
       "      <td>Private not-for-profit</td>\n",
       "      <td>86.5</td>\n",
       "      <td>97.5</td>\n",
       "      <td>13.5</td>\n",
       "      <td>2.5</td>\n",
       "    </tr>\n",
       "    <tr>\n",
       "      <th>3</th>\n",
       "      <td>Mark Zuckerberg</td>\n",
       "      <td>9.700000e+10</td>\n",
       "      <td>Facebook</td>\n",
       "      <td>5</td>\n",
       "      <td>36</td>\n",
       "      <td>Technology</td>\n",
       "      <td>Harvard University</td>\n",
       "      <td>Massachusetts</td>\n",
       "      <td>Private not-for-profit</td>\n",
       "      <td>86.5</td>\n",
       "      <td>97.5</td>\n",
       "      <td>13.5</td>\n",
       "      <td>2.5</td>\n",
       "    </tr>\n",
       "    <tr>\n",
       "      <th>4</th>\n",
       "      <td>Warren Buffett</td>\n",
       "      <td>9.600000e+10</td>\n",
       "      <td>Berkshire Hathaway</td>\n",
       "      <td>6</td>\n",
       "      <td>90</td>\n",
       "      <td>Finance &amp; Investments</td>\n",
       "      <td>University of Nebraska Lincoln</td>\n",
       "      <td>Arkansas</td>\n",
       "      <td>Public</td>\n",
       "      <td>11.4</td>\n",
       "      <td>19.7</td>\n",
       "      <td>88.6</td>\n",
       "      <td>80.3</td>\n",
       "    </tr>\n",
       "    <tr>\n",
       "      <th>...</th>\n",
       "      <td>...</td>\n",
       "      <td>...</td>\n",
       "      <td>...</td>\n",
       "      <td>...</td>\n",
       "      <td>...</td>\n",
       "      <td>...</td>\n",
       "      <td>...</td>\n",
       "      <td>...</td>\n",
       "      <td>...</td>\n",
       "      <td>...</td>\n",
       "      <td>...</td>\n",
       "      <td>...</td>\n",
       "      <td>...</td>\n",
       "    </tr>\n",
       "    <tr>\n",
       "      <th>458</th>\n",
       "      <td>Larry Fink</td>\n",
       "      <td>1.000000e+09</td>\n",
       "      <td>money management</td>\n",
       "      <td>2674</td>\n",
       "      <td>68</td>\n",
       "      <td>Finance &amp; Investments</td>\n",
       "      <td>University of California, Los Angeles</td>\n",
       "      <td>California</td>\n",
       "      <td>Public</td>\n",
       "      <td>69.0</td>\n",
       "      <td>90.3</td>\n",
       "      <td>31.0</td>\n",
       "      <td>9.7</td>\n",
       "    </tr>\n",
       "    <tr>\n",
       "      <th>459</th>\n",
       "      <td>David Katzman</td>\n",
       "      <td>1.000000e+09</td>\n",
       "      <td>teeth aligners</td>\n",
       "      <td>2674</td>\n",
       "      <td>61</td>\n",
       "      <td>Service</td>\n",
       "      <td>Michigan State University</td>\n",
       "      <td>Michigan</td>\n",
       "      <td>Public</td>\n",
       "      <td>50.4</td>\n",
       "      <td>77.6</td>\n",
       "      <td>49.6</td>\n",
       "      <td>22.4</td>\n",
       "    </tr>\n",
       "    <tr>\n",
       "      <th>460</th>\n",
       "      <td>Bom Kim</td>\n",
       "      <td>1.000000e+09</td>\n",
       "      <td>online retailing</td>\n",
       "      <td>2674</td>\n",
       "      <td>42</td>\n",
       "      <td>Technology</td>\n",
       "      <td>Harvard University</td>\n",
       "      <td>Massachusetts</td>\n",
       "      <td>Private not-for-profit</td>\n",
       "      <td>86.5</td>\n",
       "      <td>97.5</td>\n",
       "      <td>13.5</td>\n",
       "      <td>2.5</td>\n",
       "    </tr>\n",
       "    <tr>\n",
       "      <th>461</th>\n",
       "      <td>Vlad Tenev</td>\n",
       "      <td>1.000000e+09</td>\n",
       "      <td>stock trading</td>\n",
       "      <td>2674</td>\n",
       "      <td>34</td>\n",
       "      <td>Finance &amp; Investments</td>\n",
       "      <td>Stanford University</td>\n",
       "      <td>Missouri</td>\n",
       "      <td>Public</td>\n",
       "      <td>10.5</td>\n",
       "      <td>20.9</td>\n",
       "      <td>89.5</td>\n",
       "      <td>79.1</td>\n",
       "    </tr>\n",
       "    <tr>\n",
       "      <th>462</th>\n",
       "      <td>Sandy Weill</td>\n",
       "      <td>1.000000e+09</td>\n",
       "      <td>Citigroup</td>\n",
       "      <td>2674</td>\n",
       "      <td>88</td>\n",
       "      <td>Finance &amp; Investments</td>\n",
       "      <td>Cornell University</td>\n",
       "      <td>New York</td>\n",
       "      <td>Private not-for-profit</td>\n",
       "      <td>86.6</td>\n",
       "      <td>93.3</td>\n",
       "      <td>13.4</td>\n",
       "      <td>6.7</td>\n",
       "    </tr>\n",
       "  </tbody>\n",
       "</table>\n",
       "<p>463 rows × 13 columns</p>\n",
       "</div>"
      ],
      "text/plain": [
       "                Name      NetWorth              Source  Rank  Age  \\\n",
       "0         Jeff Bezos  1.770000e+11              Amazon     1   57   \n",
       "1          Elon Musk  1.510000e+11       Tesla, SpaceX     2   49   \n",
       "2         Bill Gates  1.240000e+11           Microsoft     4   65   \n",
       "3    Mark Zuckerberg  9.700000e+10            Facebook     5   36   \n",
       "4     Warren Buffett  9.600000e+10  Berkshire Hathaway     6   90   \n",
       "..               ...           ...                 ...   ...  ...   \n",
       "458       Larry Fink  1.000000e+09    money management  2674   68   \n",
       "459    David Katzman  1.000000e+09      teeth aligners  2674   61   \n",
       "460          Bom Kim  1.000000e+09    online retailing  2674   42   \n",
       "461       Vlad Tenev  1.000000e+09       stock trading  2674   34   \n",
       "462      Sandy Weill  1.000000e+09           Citigroup  2674   88   \n",
       "\n",
       "                  Industry                                College  \\\n",
       "0               Technology                   Princeton University   \n",
       "1               Automotive             University of Pennsylvania   \n",
       "2               Technology                     Harvard University   \n",
       "3               Technology                     Harvard University   \n",
       "4    Finance & Investments         University of Nebraska Lincoln   \n",
       "..                     ...                                    ...   \n",
       "458  Finance & Investments  University of California, Los Angeles   \n",
       "459                Service              Michigan State University   \n",
       "460             Technology                     Harvard University   \n",
       "461  Finance & Investments                    Stanford University   \n",
       "462  Finance & Investments                     Cornell University   \n",
       "\n",
       "             state                    type  grad_100_value  grad_150_value  \\\n",
       "0           Kansas                  Public            36.5            39.8   \n",
       "1     Pennsylvania  Private not-for-profit            87.9            95.7   \n",
       "2    Massachusetts  Private not-for-profit            86.5            97.5   \n",
       "3    Massachusetts  Private not-for-profit            86.5            97.5   \n",
       "4         Arkansas                  Public            11.4            19.7   \n",
       "..             ...                     ...             ...             ...   \n",
       "458     California                  Public            69.0            90.3   \n",
       "459       Michigan                  Public            50.4            77.6   \n",
       "460  Massachusetts  Private not-for-profit            86.5            97.5   \n",
       "461       Missouri                  Public            10.5            20.9   \n",
       "462       New York  Private not-for-profit            86.6            93.3   \n",
       "\n",
       "     nongrad_100_value  nongrad_150_value  \n",
       "0                 63.5               60.2  \n",
       "1                 12.1                4.3  \n",
       "2                 13.5                2.5  \n",
       "3                 13.5                2.5  \n",
       "4                 88.6               80.3  \n",
       "..                 ...                ...  \n",
       "458               31.0                9.7  \n",
       "459               49.6               22.4  \n",
       "460               13.5                2.5  \n",
       "461               89.5               79.1  \n",
       "462               13.4                6.7  \n",
       "\n",
       "[463 rows x 13 columns]"
      ]
     },
     "execution_count": 37,
     "metadata": {},
     "output_type": "execute_result"
    }
   ],
   "source": [
    "# apply the standardize_networth method to the NetWorth column in merged_df_1\n",
    "networth = merged_df_1['NetWorth'].apply(standardize_networth)\n",
    "merged_df_1 = merged_df_1.assign(NetWorth=networth)\n",
    "merged_df_1"
   ]
  },
  {
   "cell_type": "markdown",
   "metadata": {
    "cell_id": "e5f8546f-f4c9-4ebe-9e0a-4d763d749d19",
    "deepnote_cell_type": "markdown",
    "tags": []
   },
   "source": [
    "**Now that we have the networth of all billionaires in a number format in merged_df_1, we are able to rank them in a descending order from the most wealthy to the least.** "
   ]
  },
  {
   "cell_type": "code",
   "execution_count": 38,
   "metadata": {
    "cell_id": "a230fdf5-7180-496b-8b5b-a5fac24bc7ff",
    "deepnote_cell_type": "code",
    "deepnote_to_be_reexecuted": false,
    "execution_millis": 39,
    "execution_start": 1645762093467,
    "source_hash": "8c1cc12e",
    "tags": []
   },
   "outputs": [
    {
     "data": {
      "text/html": [
       "<div>\n",
       "<style scoped>\n",
       "    .dataframe tbody tr th:only-of-type {\n",
       "        vertical-align: middle;\n",
       "    }\n",
       "\n",
       "    .dataframe tbody tr th {\n",
       "        vertical-align: top;\n",
       "    }\n",
       "\n",
       "    .dataframe thead th {\n",
       "        text-align: right;\n",
       "    }\n",
       "</style>\n",
       "<table border=\"1\" class=\"dataframe\">\n",
       "  <thead>\n",
       "    <tr style=\"text-align: right;\">\n",
       "      <th></th>\n",
       "      <th>Name</th>\n",
       "      <th>NetWorth</th>\n",
       "      <th>Source</th>\n",
       "      <th>Rank</th>\n",
       "      <th>Age</th>\n",
       "      <th>Industry</th>\n",
       "      <th>College</th>\n",
       "      <th>state</th>\n",
       "      <th>type</th>\n",
       "      <th>grad_100_value</th>\n",
       "      <th>grad_150_value</th>\n",
       "      <th>nongrad_100_value</th>\n",
       "      <th>nongrad_150_value</th>\n",
       "    </tr>\n",
       "  </thead>\n",
       "  <tbody>\n",
       "    <tr>\n",
       "      <th>0</th>\n",
       "      <td>Jeff Bezos</td>\n",
       "      <td>1.770000e+11</td>\n",
       "      <td>Amazon</td>\n",
       "      <td>1</td>\n",
       "      <td>57</td>\n",
       "      <td>Technology</td>\n",
       "      <td>Princeton University</td>\n",
       "      <td>Kansas</td>\n",
       "      <td>Public</td>\n",
       "      <td>36.5</td>\n",
       "      <td>39.8</td>\n",
       "      <td>63.5</td>\n",
       "      <td>60.2</td>\n",
       "    </tr>\n",
       "    <tr>\n",
       "      <th>1</th>\n",
       "      <td>Elon Musk</td>\n",
       "      <td>1.510000e+11</td>\n",
       "      <td>Tesla, SpaceX</td>\n",
       "      <td>2</td>\n",
       "      <td>49</td>\n",
       "      <td>Automotive</td>\n",
       "      <td>University of Pennsylvania</td>\n",
       "      <td>Pennsylvania</td>\n",
       "      <td>Private not-for-profit</td>\n",
       "      <td>87.9</td>\n",
       "      <td>95.7</td>\n",
       "      <td>12.1</td>\n",
       "      <td>4.3</td>\n",
       "    </tr>\n",
       "    <tr>\n",
       "      <th>2</th>\n",
       "      <td>Bill Gates</td>\n",
       "      <td>1.240000e+11</td>\n",
       "      <td>Microsoft</td>\n",
       "      <td>4</td>\n",
       "      <td>65</td>\n",
       "      <td>Technology</td>\n",
       "      <td>Harvard University</td>\n",
       "      <td>Massachusetts</td>\n",
       "      <td>Private not-for-profit</td>\n",
       "      <td>86.5</td>\n",
       "      <td>97.5</td>\n",
       "      <td>13.5</td>\n",
       "      <td>2.5</td>\n",
       "    </tr>\n",
       "    <tr>\n",
       "      <th>3</th>\n",
       "      <td>Mark Zuckerberg</td>\n",
       "      <td>9.700000e+10</td>\n",
       "      <td>Facebook</td>\n",
       "      <td>5</td>\n",
       "      <td>36</td>\n",
       "      <td>Technology</td>\n",
       "      <td>Harvard University</td>\n",
       "      <td>Massachusetts</td>\n",
       "      <td>Private not-for-profit</td>\n",
       "      <td>86.5</td>\n",
       "      <td>97.5</td>\n",
       "      <td>13.5</td>\n",
       "      <td>2.5</td>\n",
       "    </tr>\n",
       "    <tr>\n",
       "      <th>4</th>\n",
       "      <td>Warren Buffett</td>\n",
       "      <td>9.600000e+10</td>\n",
       "      <td>Berkshire Hathaway</td>\n",
       "      <td>6</td>\n",
       "      <td>90</td>\n",
       "      <td>Finance &amp; Investments</td>\n",
       "      <td>University of Nebraska Lincoln</td>\n",
       "      <td>Arkansas</td>\n",
       "      <td>Public</td>\n",
       "      <td>11.4</td>\n",
       "      <td>19.7</td>\n",
       "      <td>88.6</td>\n",
       "      <td>80.3</td>\n",
       "    </tr>\n",
       "    <tr>\n",
       "      <th>...</th>\n",
       "      <td>...</td>\n",
       "      <td>...</td>\n",
       "      <td>...</td>\n",
       "      <td>...</td>\n",
       "      <td>...</td>\n",
       "      <td>...</td>\n",
       "      <td>...</td>\n",
       "      <td>...</td>\n",
       "      <td>...</td>\n",
       "      <td>...</td>\n",
       "      <td>...</td>\n",
       "      <td>...</td>\n",
       "      <td>...</td>\n",
       "    </tr>\n",
       "    <tr>\n",
       "      <th>458</th>\n",
       "      <td>Larry Fink</td>\n",
       "      <td>1.000000e+09</td>\n",
       "      <td>money management</td>\n",
       "      <td>2674</td>\n",
       "      <td>68</td>\n",
       "      <td>Finance &amp; Investments</td>\n",
       "      <td>University of California, Los Angeles</td>\n",
       "      <td>California</td>\n",
       "      <td>Public</td>\n",
       "      <td>69.0</td>\n",
       "      <td>90.3</td>\n",
       "      <td>31.0</td>\n",
       "      <td>9.7</td>\n",
       "    </tr>\n",
       "    <tr>\n",
       "      <th>459</th>\n",
       "      <td>David Katzman</td>\n",
       "      <td>1.000000e+09</td>\n",
       "      <td>teeth aligners</td>\n",
       "      <td>2674</td>\n",
       "      <td>61</td>\n",
       "      <td>Service</td>\n",
       "      <td>Michigan State University</td>\n",
       "      <td>Michigan</td>\n",
       "      <td>Public</td>\n",
       "      <td>50.4</td>\n",
       "      <td>77.6</td>\n",
       "      <td>49.6</td>\n",
       "      <td>22.4</td>\n",
       "    </tr>\n",
       "    <tr>\n",
       "      <th>460</th>\n",
       "      <td>Bom Kim</td>\n",
       "      <td>1.000000e+09</td>\n",
       "      <td>online retailing</td>\n",
       "      <td>2674</td>\n",
       "      <td>42</td>\n",
       "      <td>Technology</td>\n",
       "      <td>Harvard University</td>\n",
       "      <td>Massachusetts</td>\n",
       "      <td>Private not-for-profit</td>\n",
       "      <td>86.5</td>\n",
       "      <td>97.5</td>\n",
       "      <td>13.5</td>\n",
       "      <td>2.5</td>\n",
       "    </tr>\n",
       "    <tr>\n",
       "      <th>461</th>\n",
       "      <td>Vlad Tenev</td>\n",
       "      <td>1.000000e+09</td>\n",
       "      <td>stock trading</td>\n",
       "      <td>2674</td>\n",
       "      <td>34</td>\n",
       "      <td>Finance &amp; Investments</td>\n",
       "      <td>Stanford University</td>\n",
       "      <td>Missouri</td>\n",
       "      <td>Public</td>\n",
       "      <td>10.5</td>\n",
       "      <td>20.9</td>\n",
       "      <td>89.5</td>\n",
       "      <td>79.1</td>\n",
       "    </tr>\n",
       "    <tr>\n",
       "      <th>462</th>\n",
       "      <td>Sandy Weill</td>\n",
       "      <td>1.000000e+09</td>\n",
       "      <td>Citigroup</td>\n",
       "      <td>2674</td>\n",
       "      <td>88</td>\n",
       "      <td>Finance &amp; Investments</td>\n",
       "      <td>Cornell University</td>\n",
       "      <td>New York</td>\n",
       "      <td>Private not-for-profit</td>\n",
       "      <td>86.6</td>\n",
       "      <td>93.3</td>\n",
       "      <td>13.4</td>\n",
       "      <td>6.7</td>\n",
       "    </tr>\n",
       "  </tbody>\n",
       "</table>\n",
       "<p>463 rows × 13 columns</p>\n",
       "</div>"
      ],
      "text/plain": [
       "                Name      NetWorth              Source  Rank  Age  \\\n",
       "0         Jeff Bezos  1.770000e+11              Amazon     1   57   \n",
       "1          Elon Musk  1.510000e+11       Tesla, SpaceX     2   49   \n",
       "2         Bill Gates  1.240000e+11           Microsoft     4   65   \n",
       "3    Mark Zuckerberg  9.700000e+10            Facebook     5   36   \n",
       "4     Warren Buffett  9.600000e+10  Berkshire Hathaway     6   90   \n",
       "..               ...           ...                 ...   ...  ...   \n",
       "458       Larry Fink  1.000000e+09    money management  2674   68   \n",
       "459    David Katzman  1.000000e+09      teeth aligners  2674   61   \n",
       "460          Bom Kim  1.000000e+09    online retailing  2674   42   \n",
       "461       Vlad Tenev  1.000000e+09       stock trading  2674   34   \n",
       "462      Sandy Weill  1.000000e+09           Citigroup  2674   88   \n",
       "\n",
       "                  Industry                                College  \\\n",
       "0               Technology                   Princeton University   \n",
       "1               Automotive             University of Pennsylvania   \n",
       "2               Technology                     Harvard University   \n",
       "3               Technology                     Harvard University   \n",
       "4    Finance & Investments         University of Nebraska Lincoln   \n",
       "..                     ...                                    ...   \n",
       "458  Finance & Investments  University of California, Los Angeles   \n",
       "459                Service              Michigan State University   \n",
       "460             Technology                     Harvard University   \n",
       "461  Finance & Investments                    Stanford University   \n",
       "462  Finance & Investments                     Cornell University   \n",
       "\n",
       "             state                    type  grad_100_value  grad_150_value  \\\n",
       "0           Kansas                  Public            36.5            39.8   \n",
       "1     Pennsylvania  Private not-for-profit            87.9            95.7   \n",
       "2    Massachusetts  Private not-for-profit            86.5            97.5   \n",
       "3    Massachusetts  Private not-for-profit            86.5            97.5   \n",
       "4         Arkansas                  Public            11.4            19.7   \n",
       "..             ...                     ...             ...             ...   \n",
       "458     California                  Public            69.0            90.3   \n",
       "459       Michigan                  Public            50.4            77.6   \n",
       "460  Massachusetts  Private not-for-profit            86.5            97.5   \n",
       "461       Missouri                  Public            10.5            20.9   \n",
       "462       New York  Private not-for-profit            86.6            93.3   \n",
       "\n",
       "     nongrad_100_value  nongrad_150_value  \n",
       "0                 63.5               60.2  \n",
       "1                 12.1                4.3  \n",
       "2                 13.5                2.5  \n",
       "3                 13.5                2.5  \n",
       "4                 88.6               80.3  \n",
       "..                 ...                ...  \n",
       "458               31.0                9.7  \n",
       "459               49.6               22.4  \n",
       "460               13.5                2.5  \n",
       "461               89.5               79.1  \n",
       "462               13.4                6.7  \n",
       "\n",
       "[463 rows x 13 columns]"
      ]
     },
     "execution_count": 38,
     "metadata": {},
     "output_type": "execute_result"
    }
   ],
   "source": [
    "# sorting the billionaires in the order of decreasing networth\n",
    "merged_df_1 = merged_df_1.sort_values(by='NetWorth', ascending=False)\n",
    "merged_df_1"
   ]
  },
  {
   "cell_type": "markdown",
   "metadata": {},
   "source": [
    "**To rank the colleges by number of billionaire alumni weighted by their networth, we've created a dataframe weighted_by_networth that uses each billionaire alumni's networth to rank the colleges.**"
   ]
  },
  {
   "cell_type": "code",
   "execution_count": 39,
   "metadata": {},
   "outputs": [
    {
     "data": {
      "text/html": [
       "<div>\n",
       "<style scoped>\n",
       "    .dataframe tbody tr th:only-of-type {\n",
       "        vertical-align: middle;\n",
       "    }\n",
       "\n",
       "    .dataframe tbody tr th {\n",
       "        vertical-align: top;\n",
       "    }\n",
       "\n",
       "    .dataframe thead th {\n",
       "        text-align: right;\n",
       "    }\n",
       "</style>\n",
       "<table border=\"1\" class=\"dataframe\">\n",
       "  <thead>\n",
       "    <tr style=\"text-align: right;\">\n",
       "      <th></th>\n",
       "      <th>NetWorth</th>\n",
       "      <th>grad_100_value</th>\n",
       "      <th>grad_150_value</th>\n",
       "      <th>nongrad_100_value</th>\n",
       "      <th>nongrad_150_value</th>\n",
       "    </tr>\n",
       "    <tr>\n",
       "      <th>College</th>\n",
       "      <th></th>\n",
       "      <th></th>\n",
       "      <th></th>\n",
       "      <th></th>\n",
       "      <th></th>\n",
       "    </tr>\n",
       "  </thead>\n",
       "  <tbody>\n",
       "    <tr>\n",
       "      <th>Harvard University</th>\n",
       "      <td>3.386000e+11</td>\n",
       "      <td>2162.5</td>\n",
       "      <td>2437.5</td>\n",
       "      <td>337.5</td>\n",
       "      <td>62.5</td>\n",
       "    </tr>\n",
       "    <tr>\n",
       "      <th>University of Pennsylvania</th>\n",
       "      <td>2.600000e+11</td>\n",
       "      <td>2197.5</td>\n",
       "      <td>2392.5</td>\n",
       "      <td>302.5</td>\n",
       "      <td>107.5</td>\n",
       "    </tr>\n",
       "    <tr>\n",
       "      <th>Princeton University</th>\n",
       "      <td>2.561000e+11</td>\n",
       "      <td>219.0</td>\n",
       "      <td>238.8</td>\n",
       "      <td>381.0</td>\n",
       "      <td>361.2</td>\n",
       "    </tr>\n",
       "    <tr>\n",
       "      <th>Stanford University</th>\n",
       "      <td>1.707000e+11</td>\n",
       "      <td>325.5</td>\n",
       "      <td>647.9</td>\n",
       "      <td>2774.5</td>\n",
       "      <td>2452.1</td>\n",
       "    </tr>\n",
       "    <tr>\n",
       "      <th>University of Arkansas</th>\n",
       "      <td>1.286000e+11</td>\n",
       "      <td>21.0</td>\n",
       "      <td>64.2</td>\n",
       "      <td>279.0</td>\n",
       "      <td>235.8</td>\n",
       "    </tr>\n",
       "    <tr>\n",
       "      <th>...</th>\n",
       "      <td>...</td>\n",
       "      <td>...</td>\n",
       "      <td>...</td>\n",
       "      <td>...</td>\n",
       "      <td>...</td>\n",
       "    </tr>\n",
       "    <tr>\n",
       "      <th>Middle Tennessee State University</th>\n",
       "      <td>1.300000e+09</td>\n",
       "      <td>16.1</td>\n",
       "      <td>45.6</td>\n",
       "      <td>83.9</td>\n",
       "      <td>54.4</td>\n",
       "    </tr>\n",
       "    <tr>\n",
       "      <th>Hamilton College</th>\n",
       "      <td>1.200000e+09</td>\n",
       "      <td>89.5</td>\n",
       "      <td>92.9</td>\n",
       "      <td>10.5</td>\n",
       "      <td>7.1</td>\n",
       "    </tr>\n",
       "    <tr>\n",
       "      <th>Oakland University</th>\n",
       "      <td>1.100000e+09</td>\n",
       "      <td>14.6</td>\n",
       "      <td>42.9</td>\n",
       "      <td>85.4</td>\n",
       "      <td>57.1</td>\n",
       "    </tr>\n",
       "    <tr>\n",
       "      <th>University of Cincinnati</th>\n",
       "      <td>1.100000e+09</td>\n",
       "      <td>18.5</td>\n",
       "      <td>38.0</td>\n",
       "      <td>81.5</td>\n",
       "      <td>62.0</td>\n",
       "    </tr>\n",
       "    <tr>\n",
       "      <th>Oklahoma State University</th>\n",
       "      <td>1.100000e+09</td>\n",
       "      <td>32.6</td>\n",
       "      <td>59.6</td>\n",
       "      <td>67.4</td>\n",
       "      <td>40.4</td>\n",
       "    </tr>\n",
       "  </tbody>\n",
       "</table>\n",
       "<p>185 rows × 5 columns</p>\n",
       "</div>"
      ],
      "text/plain": [
       "                                       NetWorth  grad_100_value  \\\n",
       "College                                                           \n",
       "Harvard University                 3.386000e+11          2162.5   \n",
       "University of Pennsylvania         2.600000e+11          2197.5   \n",
       "Princeton University               2.561000e+11           219.0   \n",
       "Stanford University                1.707000e+11           325.5   \n",
       "University of Arkansas             1.286000e+11            21.0   \n",
       "...                                         ...             ...   \n",
       "Middle Tennessee State University  1.300000e+09            16.1   \n",
       "Hamilton College                   1.200000e+09            89.5   \n",
       "Oakland University                 1.100000e+09            14.6   \n",
       "University of Cincinnati           1.100000e+09            18.5   \n",
       "Oklahoma State University          1.100000e+09            32.6   \n",
       "\n",
       "                                   grad_150_value  nongrad_100_value  \\\n",
       "College                                                                \n",
       "Harvard University                         2437.5              337.5   \n",
       "University of Pennsylvania                 2392.5              302.5   \n",
       "Princeton University                        238.8              381.0   \n",
       "Stanford University                         647.9             2774.5   \n",
       "University of Arkansas                       64.2              279.0   \n",
       "...                                           ...                ...   \n",
       "Middle Tennessee State University            45.6               83.9   \n",
       "Hamilton College                             92.9               10.5   \n",
       "Oakland University                           42.9               85.4   \n",
       "University of Cincinnati                     38.0               81.5   \n",
       "Oklahoma State University                    59.6               67.4   \n",
       "\n",
       "                                   nongrad_150_value  \n",
       "College                                               \n",
       "Harvard University                              62.5  \n",
       "University of Pennsylvania                     107.5  \n",
       "Princeton University                           361.2  \n",
       "Stanford University                           2452.1  \n",
       "University of Arkansas                         235.8  \n",
       "...                                              ...  \n",
       "Middle Tennessee State University               54.4  \n",
       "Hamilton College                                 7.1  \n",
       "Oakland University                              57.1  \n",
       "University of Cincinnati                        62.0  \n",
       "Oklahoma State University                       40.4  \n",
       "\n",
       "[185 rows x 5 columns]"
      ]
     },
     "execution_count": 39,
     "metadata": {},
     "output_type": "execute_result"
    }
   ],
   "source": [
    "# num of alumni weighted by networth\n",
    "weighted_by_networth = merged_df_1.groupby('College').sum().drop(columns=['Rank', 'Age']).sort_values('NetWorth', ascending=False)\n",
    "weighted_by_networth"
   ]
  },
  {
   "cell_type": "markdown",
   "metadata": {
    "cell_id": "8de52541-e2fc-4367-9f6e-d82b04a03cc9",
    "deepnote_cell_type": "markdown",
    "tags": []
   },
   "source": [
    "**Since we want the count of billionaire alumni and stats about each college side by side in a single dataframe, we've merged cc_df with and count_df and named it updated_cc_df. Now, we are ready to make some datavisualizations!**"
   ]
  },
  {
   "cell_type": "code",
   "execution_count": 40,
   "metadata": {
    "cell_id": "890c099a-cb2f-40b9-9cab-c5c659a59858",
    "deepnote_cell_type": "code",
    "deepnote_to_be_reexecuted": false,
    "execution_millis": 37,
    "execution_start": 1645762093470,
    "source_hash": "e0e90e01",
    "tags": []
   },
   "outputs": [
    {
     "data": {
      "text/html": [
       "<div>\n",
       "<style scoped>\n",
       "    .dataframe tbody tr th:only-of-type {\n",
       "        vertical-align: middle;\n",
       "    }\n",
       "\n",
       "    .dataframe tbody tr th {\n",
       "        vertical-align: top;\n",
       "    }\n",
       "\n",
       "    .dataframe thead th {\n",
       "        text-align: right;\n",
       "    }\n",
       "</style>\n",
       "<table border=\"1\" class=\"dataframe\">\n",
       "  <thead>\n",
       "    <tr style=\"text-align: right;\">\n",
       "      <th></th>\n",
       "      <th>Num_Alumni</th>\n",
       "      <th>College</th>\n",
       "      <th>state</th>\n",
       "      <th>type</th>\n",
       "      <th>grad_100_value</th>\n",
       "      <th>grad_150_value</th>\n",
       "      <th>nongrad_100_value</th>\n",
       "      <th>nongrad_150_value</th>\n",
       "    </tr>\n",
       "  </thead>\n",
       "  <tbody>\n",
       "    <tr>\n",
       "      <th>1490.0</th>\n",
       "      <td>31</td>\n",
       "      <td>Stanford University</td>\n",
       "      <td>Missouri</td>\n",
       "      <td>Public</td>\n",
       "      <td>10.5</td>\n",
       "      <td>20.9</td>\n",
       "      <td>89.5</td>\n",
       "      <td>79.1</td>\n",
       "    </tr>\n",
       "    <tr>\n",
       "      <th>1189.0</th>\n",
       "      <td>25</td>\n",
       "      <td>Harvard University</td>\n",
       "      <td>Massachusetts</td>\n",
       "      <td>Private not-for-profit</td>\n",
       "      <td>86.5</td>\n",
       "      <td>97.5</td>\n",
       "      <td>13.5</td>\n",
       "      <td>2.5</td>\n",
       "    </tr>\n",
       "    <tr>\n",
       "      <th>2389.0</th>\n",
       "      <td>25</td>\n",
       "      <td>University of Pennsylvania</td>\n",
       "      <td>Pennsylvania</td>\n",
       "      <td>Private not-for-profit</td>\n",
       "      <td>87.9</td>\n",
       "      <td>95.7</td>\n",
       "      <td>12.1</td>\n",
       "      <td>4.3</td>\n",
       "    </tr>\n",
       "    <tr>\n",
       "      <th>476.0</th>\n",
       "      <td>13</td>\n",
       "      <td>Yale University</td>\n",
       "      <td>Connecticut</td>\n",
       "      <td>Private not-for-profit</td>\n",
       "      <td>89.6</td>\n",
       "      <td>97.8</td>\n",
       "      <td>10.4</td>\n",
       "      <td>2.2</td>\n",
       "    </tr>\n",
       "    <tr>\n",
       "      <th>180.0</th>\n",
       "      <td>12</td>\n",
       "      <td>University of California, Berkeley</td>\n",
       "      <td>California</td>\n",
       "      <td>Public</td>\n",
       "      <td>72.2</td>\n",
       "      <td>91.0</td>\n",
       "      <td>27.8</td>\n",
       "      <td>9.0</td>\n",
       "    </tr>\n",
       "    <tr>\n",
       "      <th>...</th>\n",
       "      <td>...</td>\n",
       "      <td>...</td>\n",
       "      <td>...</td>\n",
       "      <td>...</td>\n",
       "      <td>...</td>\n",
       "      <td>...</td>\n",
       "      <td>...</td>\n",
       "      <td>...</td>\n",
       "    </tr>\n",
       "    <tr>\n",
       "      <th>1507.0</th>\n",
       "      <td>1</td>\n",
       "      <td>Montana State University</td>\n",
       "      <td>Montana</td>\n",
       "      <td>Public</td>\n",
       "      <td>12.3</td>\n",
       "      <td>26.7</td>\n",
       "      <td>87.7</td>\n",
       "      <td>73.3</td>\n",
       "    </tr>\n",
       "    <tr>\n",
       "      <th>1339.0</th>\n",
       "      <td>1</td>\n",
       "      <td>Minnesota State University</td>\n",
       "      <td>Minnesota</td>\n",
       "      <td>Public</td>\n",
       "      <td>21.0</td>\n",
       "      <td>31.8</td>\n",
       "      <td>79.0</td>\n",
       "      <td>68.2</td>\n",
       "    </tr>\n",
       "    <tr>\n",
       "      <th>2573.0</th>\n",
       "      <td>1</td>\n",
       "      <td>Middle Tennessee State University</td>\n",
       "      <td>Tennessee</td>\n",
       "      <td>Public</td>\n",
       "      <td>16.1</td>\n",
       "      <td>45.6</td>\n",
       "      <td>83.9</td>\n",
       "      <td>54.4</td>\n",
       "    </tr>\n",
       "    <tr>\n",
       "      <th>284.0</th>\n",
       "      <td>1</td>\n",
       "      <td>Menlo College</td>\n",
       "      <td>California</td>\n",
       "      <td>Private not-for-profit</td>\n",
       "      <td>28.0</td>\n",
       "      <td>40.8</td>\n",
       "      <td>72.0</td>\n",
       "      <td>59.2</td>\n",
       "    </tr>\n",
       "    <tr>\n",
       "      <th>337.0</th>\n",
       "      <td>1</td>\n",
       "      <td>San Francisco Conservatory of Music</td>\n",
       "      <td>California</td>\n",
       "      <td>Private not-for-profit</td>\n",
       "      <td>61.9</td>\n",
       "      <td>64.3</td>\n",
       "      <td>38.1</td>\n",
       "      <td>35.7</td>\n",
       "    </tr>\n",
       "  </tbody>\n",
       "</table>\n",
       "<p>185 rows × 8 columns</p>\n",
       "</div>"
      ],
      "text/plain": [
       "        Num_Alumni                              College          state  \\\n",
       "1490.0          31                  Stanford University       Missouri   \n",
       "1189.0          25                   Harvard University  Massachusetts   \n",
       "2389.0          25           University of Pennsylvania   Pennsylvania   \n",
       "476.0           13                      Yale University    Connecticut   \n",
       "180.0           12   University of California, Berkeley     California   \n",
       "...            ...                                  ...            ...   \n",
       "1507.0           1             Montana State University        Montana   \n",
       "1339.0           1           Minnesota State University      Minnesota   \n",
       "2573.0           1    Middle Tennessee State University      Tennessee   \n",
       "284.0            1                        Menlo College     California   \n",
       "337.0            1  San Francisco Conservatory of Music     California   \n",
       "\n",
       "                          type  grad_100_value  grad_150_value  \\\n",
       "1490.0                  Public            10.5            20.9   \n",
       "1189.0  Private not-for-profit            86.5            97.5   \n",
       "2389.0  Private not-for-profit            87.9            95.7   \n",
       "476.0   Private not-for-profit            89.6            97.8   \n",
       "180.0                   Public            72.2            91.0   \n",
       "...                        ...             ...             ...   \n",
       "1507.0                  Public            12.3            26.7   \n",
       "1339.0                  Public            21.0            31.8   \n",
       "2573.0                  Public            16.1            45.6   \n",
       "284.0   Private not-for-profit            28.0            40.8   \n",
       "337.0   Private not-for-profit            61.9            64.3   \n",
       "\n",
       "        nongrad_100_value  nongrad_150_value  \n",
       "1490.0               89.5               79.1  \n",
       "1189.0               13.5                2.5  \n",
       "2389.0               12.1                4.3  \n",
       "476.0                10.4                2.2  \n",
       "180.0                27.8                9.0  \n",
       "...                   ...                ...  \n",
       "1507.0               87.7               73.3  \n",
       "1339.0               79.0               68.2  \n",
       "2573.0               83.9               54.4  \n",
       "284.0                72.0               59.2  \n",
       "337.0                38.1               35.7  \n",
       "\n",
       "[185 rows x 8 columns]"
      ]
     },
     "execution_count": 40,
     "metadata": {},
     "output_type": "execute_result"
    }
   ],
   "source": [
    "# merge Num_Alumni in count_df with cc_df\n",
    "updated_cc_df = pd.merge(count_df, cc_df, how='left', left_index=True, right_on='College')\n",
    "updated_cc_df"
   ]
  },
  {
   "cell_type": "markdown",
   "metadata": {},
   "source": [
    "## 2. Barplot: which collges produce the most billionaire alumni?"
   ]
  },
  {
   "cell_type": "markdown",
   "metadata": {},
   "source": [
    "**Next, we would explore the distribution of number of billionaires among different colleges. We would look at (1) net number of billionaire alumni each college educated and (2) number of billionaire weighted by their networth that each college educated.**\n",
    "\n",
    "**In preparation, reset index of the two dataframes and only keep the columns for number of billionaire alumni and Networth, since we only focus on the ranking and these two variables.Store the two dataframes as rank_by_number and rak_by_networth.**"
   ]
  },
  {
   "cell_type": "code",
   "execution_count": 79,
   "metadata": {},
   "outputs": [
    {
     "data": {
      "text/html": [
       "<div>\n",
       "<style scoped>\n",
       "    .dataframe tbody tr th:only-of-type {\n",
       "        vertical-align: middle;\n",
       "    }\n",
       "\n",
       "    .dataframe tbody tr th {\n",
       "        vertical-align: top;\n",
       "    }\n",
       "\n",
       "    .dataframe thead th {\n",
       "        text-align: right;\n",
       "    }\n",
       "</style>\n",
       "<table border=\"1\" class=\"dataframe\">\n",
       "  <thead>\n",
       "    <tr style=\"text-align: right;\">\n",
       "      <th></th>\n",
       "      <th>College</th>\n",
       "      <th>Num_Alumni</th>\n",
       "    </tr>\n",
       "  </thead>\n",
       "  <tbody>\n",
       "    <tr>\n",
       "      <th>0</th>\n",
       "      <td>Stanford University</td>\n",
       "      <td>31</td>\n",
       "    </tr>\n",
       "    <tr>\n",
       "      <th>1</th>\n",
       "      <td>Harvard University</td>\n",
       "      <td>25</td>\n",
       "    </tr>\n",
       "    <tr>\n",
       "      <th>2</th>\n",
       "      <td>University of Pennsylvania</td>\n",
       "      <td>25</td>\n",
       "    </tr>\n",
       "    <tr>\n",
       "      <th>3</th>\n",
       "      <td>Yale University</td>\n",
       "      <td>13</td>\n",
       "    </tr>\n",
       "    <tr>\n",
       "      <th>4</th>\n",
       "      <td>University of California, Berkeley</td>\n",
       "      <td>12</td>\n",
       "    </tr>\n",
       "  </tbody>\n",
       "</table>\n",
       "</div>"
      ],
      "text/plain": [
       "                              College  Num_Alumni\n",
       "0                 Stanford University          31\n",
       "1                  Harvard University          25\n",
       "2          University of Pennsylvania          25\n",
       "3                     Yale University          13\n",
       "4  University of California, Berkeley          12"
      ]
     },
     "execution_count": 79,
     "metadata": {},
     "output_type": "execute_result"
    }
   ],
   "source": [
    "rank_by_number = count_df.reset_index()\n",
    "rank_by_number.columns = ['College','Num_Alumni']\n",
    "rank_by_number.head()"
   ]
  },
  {
   "cell_type": "code",
   "execution_count": 80,
   "metadata": {},
   "outputs": [
    {
     "data": {
      "text/html": [
       "<div>\n",
       "<style scoped>\n",
       "    .dataframe tbody tr th:only-of-type {\n",
       "        vertical-align: middle;\n",
       "    }\n",
       "\n",
       "    .dataframe tbody tr th {\n",
       "        vertical-align: top;\n",
       "    }\n",
       "\n",
       "    .dataframe thead th {\n",
       "        text-align: right;\n",
       "    }\n",
       "</style>\n",
       "<table border=\"1\" class=\"dataframe\">\n",
       "  <thead>\n",
       "    <tr style=\"text-align: right;\">\n",
       "      <th></th>\n",
       "      <th>College</th>\n",
       "      <th>NetWorth</th>\n",
       "    </tr>\n",
       "  </thead>\n",
       "  <tbody>\n",
       "    <tr>\n",
       "      <th>0</th>\n",
       "      <td>Harvard University</td>\n",
       "      <td>3.386000e+11</td>\n",
       "    </tr>\n",
       "    <tr>\n",
       "      <th>1</th>\n",
       "      <td>University of Pennsylvania</td>\n",
       "      <td>2.600000e+11</td>\n",
       "    </tr>\n",
       "    <tr>\n",
       "      <th>2</th>\n",
       "      <td>Princeton University</td>\n",
       "      <td>2.561000e+11</td>\n",
       "    </tr>\n",
       "    <tr>\n",
       "      <th>3</th>\n",
       "      <td>Stanford University</td>\n",
       "      <td>1.707000e+11</td>\n",
       "    </tr>\n",
       "    <tr>\n",
       "      <th>4</th>\n",
       "      <td>University of Arkansas</td>\n",
       "      <td>1.286000e+11</td>\n",
       "    </tr>\n",
       "  </tbody>\n",
       "</table>\n",
       "</div>"
      ],
      "text/plain": [
       "                      College      NetWorth\n",
       "0          Harvard University  3.386000e+11\n",
       "1  University of Pennsylvania  2.600000e+11\n",
       "2        Princeton University  2.561000e+11\n",
       "3         Stanford University  1.707000e+11\n",
       "4      University of Arkansas  1.286000e+11"
      ]
     },
     "execution_count": 80,
     "metadata": {},
     "output_type": "execute_result"
    }
   ],
   "source": [
    "rank_by_networth = weighted_by_networth['NetWorth'].to_frame().reset_index()\n",
    "rank_by_networth.columns = ['College','NetWorth']\n",
    "rank_by_networth.head()"
   ]
  },
  {
   "cell_type": "markdown",
   "metadata": {},
   "source": [
    "**Use describe() to see how are the values distributed.**"
   ]
  },
  {
   "cell_type": "code",
   "execution_count": 81,
   "metadata": {},
   "outputs": [
    {
     "data": {
      "text/html": [
       "<div>\n",
       "<style scoped>\n",
       "    .dataframe tbody tr th:only-of-type {\n",
       "        vertical-align: middle;\n",
       "    }\n",
       "\n",
       "    .dataframe tbody tr th {\n",
       "        vertical-align: top;\n",
       "    }\n",
       "\n",
       "    .dataframe thead th {\n",
       "        text-align: right;\n",
       "    }\n",
       "</style>\n",
       "<table border=\"1\" class=\"dataframe\">\n",
       "  <thead>\n",
       "    <tr style=\"text-align: right;\">\n",
       "      <th></th>\n",
       "      <th>Num_Alumni</th>\n",
       "    </tr>\n",
       "  </thead>\n",
       "  <tbody>\n",
       "    <tr>\n",
       "      <th>count</th>\n",
       "      <td>185.000000</td>\n",
       "    </tr>\n",
       "    <tr>\n",
       "      <th>mean</th>\n",
       "      <td>2.502703</td>\n",
       "    </tr>\n",
       "    <tr>\n",
       "      <th>std</th>\n",
       "      <td>3.793765</td>\n",
       "    </tr>\n",
       "    <tr>\n",
       "      <th>min</th>\n",
       "      <td>1.000000</td>\n",
       "    </tr>\n",
       "    <tr>\n",
       "      <th>25%</th>\n",
       "      <td>1.000000</td>\n",
       "    </tr>\n",
       "    <tr>\n",
       "      <th>50%</th>\n",
       "      <td>1.000000</td>\n",
       "    </tr>\n",
       "    <tr>\n",
       "      <th>75%</th>\n",
       "      <td>2.000000</td>\n",
       "    </tr>\n",
       "    <tr>\n",
       "      <th>max</th>\n",
       "      <td>31.000000</td>\n",
       "    </tr>\n",
       "  </tbody>\n",
       "</table>\n",
       "</div>"
      ],
      "text/plain": [
       "       Num_Alumni\n",
       "count  185.000000\n",
       "mean     2.502703\n",
       "std      3.793765\n",
       "min      1.000000\n",
       "25%      1.000000\n",
       "50%      1.000000\n",
       "75%      2.000000\n",
       "max     31.000000"
      ]
     },
     "execution_count": 81,
     "metadata": {},
     "output_type": "execute_result"
    }
   ],
   "source": [
    "rank_by_number.describe()"
   ]
  },
  {
   "cell_type": "code",
   "execution_count": 82,
   "metadata": {},
   "outputs": [
    {
     "data": {
      "text/html": [
       "<div>\n",
       "<style scoped>\n",
       "    .dataframe tbody tr th:only-of-type {\n",
       "        vertical-align: middle;\n",
       "    }\n",
       "\n",
       "    .dataframe tbody tr th {\n",
       "        vertical-align: top;\n",
       "    }\n",
       "\n",
       "    .dataframe thead th {\n",
       "        text-align: right;\n",
       "    }\n",
       "</style>\n",
       "<table border=\"1\" class=\"dataframe\">\n",
       "  <thead>\n",
       "    <tr style=\"text-align: right;\">\n",
       "      <th></th>\n",
       "      <th>NetWorth</th>\n",
       "    </tr>\n",
       "  </thead>\n",
       "  <tbody>\n",
       "    <tr>\n",
       "      <th>count</th>\n",
       "      <td>1.850000e+02</td>\n",
       "    </tr>\n",
       "    <tr>\n",
       "      <th>mean</th>\n",
       "      <td>1.794541e+10</td>\n",
       "    </tr>\n",
       "    <tr>\n",
       "      <th>std</th>\n",
       "      <td>4.259042e+10</td>\n",
       "    </tr>\n",
       "    <tr>\n",
       "      <th>min</th>\n",
       "      <td>1.100000e+09</td>\n",
       "    </tr>\n",
       "    <tr>\n",
       "      <th>25%</th>\n",
       "      <td>2.600000e+09</td>\n",
       "    </tr>\n",
       "    <tr>\n",
       "      <th>50%</th>\n",
       "      <td>4.800000e+09</td>\n",
       "    </tr>\n",
       "    <tr>\n",
       "      <th>75%</th>\n",
       "      <td>1.190000e+10</td>\n",
       "    </tr>\n",
       "    <tr>\n",
       "      <th>max</th>\n",
       "      <td>3.386000e+11</td>\n",
       "    </tr>\n",
       "  </tbody>\n",
       "</table>\n",
       "</div>"
      ],
      "text/plain": [
       "           NetWorth\n",
       "count  1.850000e+02\n",
       "mean   1.794541e+10\n",
       "std    4.259042e+10\n",
       "min    1.100000e+09\n",
       "25%    2.600000e+09\n",
       "50%    4.800000e+09\n",
       "75%    1.190000e+10\n",
       "max    3.386000e+11"
      ]
     },
     "execution_count": 82,
     "metadata": {},
     "output_type": "execute_result"
    }
   ],
   "source": [
    "rank_by_networth.describe()"
   ]
  },
  {
   "cell_type": "markdown",
   "metadata": {},
   "source": [
    "**This shows that a few colleges are pulling the mean up in terms of both number and networth. This indicates that a few colleges are producing the most billionaires.**\n",
    "\n",
    "**Let's look at the top 30 colleges that educated the most billionaires.**"
   ]
  },
  {
   "cell_type": "code",
   "execution_count": 83,
   "metadata": {},
   "outputs": [],
   "source": [
    "# Filter the top 30 colleges that produce the most net number of billionaires\n",
    "top_30_number = rank_by_number.sort_values(by = 'Num_Alumni', ascending = False)[:30]"
   ]
  },
  {
   "cell_type": "code",
   "execution_count": 84,
   "metadata": {},
   "outputs": [],
   "source": [
    "# Filter the top 30 colleges that produce the most alumni with weighted networth\n",
    "top_30_networth = rank_by_networth.sort_values(by = 'NetWorth', ascending = False)[:30]"
   ]
  },
  {
   "cell_type": "markdown",
   "metadata": {},
   "source": [
    "**Now we will use a barplot to look at these top 30 colleges**"
   ]
  },
  {
   "cell_type": "code",
   "execution_count": 88,
   "metadata": {},
   "outputs": [
    {
     "data": {
      "text/plain": [
       "Text(0.5, 1.0, 'Top 30 Colleges with the Most Billionaire Alumni')"
      ]
     },
     "execution_count": 88,
     "metadata": {},
     "output_type": "execute_result"
    },
    {
     "data": {
      "image/png": "[encoded data removed]",
      "text/plain": [
       "<Figure size 1080x720 with 1 Axes>"
      ]
     },
     "metadata": {},
     "output_type": "display_data"
    }
   ],
   "source": [
    "# draw barplot\n",
    "f = plt.figure(figsize=(15,10))\n",
    "sns.set_style(\"darkgrid\") \n",
    "fig = sns.barplot(data = top_30_number, x= 'Num_Alumni', y= 'College')\n",
    "plt.xlabel('Number of Billionaire Alumni', fontsize = '15')\n",
    "plt.ylabel('United States Institutions', fontsize = '15')\n",
    "plt.title('Top 30 Colleges with the Most Billionaire Alumni', fontsize = '20')"
   ]
  },
  {
   "cell_type": "code",
   "execution_count": 89,
   "metadata": {},
   "outputs": [
    {
     "data": {
      "text/plain": [
       "Text(0.5, 1.0, 'Top 30 Colleges with the Most Billionaire Alumni Weighted by Wealth')"
      ]
     },
     "execution_count": 89,
     "metadata": {},
     "output_type": "execute_result"
    },
    {
     "data": {
      "image/png": "[encoded data removed]",
      "text/plain": [
       "<Figure size 1080x720 with 1 Axes>"
      ]
     },
     "metadata": {},
     "output_type": "display_data"
    }
   ],
   "source": [
    "# draw barplot\n",
    "f = plt.figure(figsize=(15,10))\n",
    "sns.set_style(\"darkgrid\") \n",
    "fig = sns.barplot(data = top_30_networth, x= 'NetWorth', y= 'College')\n",
    "plt.xlabel('Number of Billionaire Alumni', fontsize = '15')\n",
    "plt.ylabel('United States Institutions', fontsize = '15')\n",
    "plt.title('Top 30 Colleges with the Most Billionaire Alumni Weighted by Wealth', fontsize = '20')"
   ]
  },
  {
   "cell_type": "markdown",
   "metadata": {},
   "source": [
    "**The bar plots confirm the trend that both number and networth of billionaire alumni is caused by a few colleges.We notice that some colleges appear in both plots, while some only appear in one. Let's look at which schools they are.**"
   ]
  },
  {
   "cell_type": "code",
   "execution_count": 90,
   "metadata": {},
   "outputs": [],
   "source": [
    "# colleges that exceed in alumni networth but not numbers\n",
    "higher_networth= []\n",
    "for college in top_30_networth['College']:\n",
    "    if college not in top_30_number['College'].tolist():\n",
    "        higher_networth.append(college)\n",
    "        \n",
    "# colleges that exceed in number of alumni but not networth\n",
    "higher_amount= []\n",
    "for college in top_30_number['College']:\n",
    "    if college not in top_30_networth['College'].tolist():\n",
    "        higher_amount.append(college)"
   ]
  },
  {
   "cell_type": "code",
   "execution_count": 91,
   "metadata": {},
   "outputs": [
    {
     "name": "stdout",
     "output_type": "stream",
     "text": [
      "Colleges that have higher networth alumni: ['University of Michigan at Ann Arbor', 'University of Nebraska Lincoln', 'University of Maryland, College Park', 'Johns Hopkins University', 'Trinity University', 'Bryn Mawr College', 'University of California, San Diego', 'Rhode Island School of Design', 'Tufts University', 'Hobart and William Smith']\n",
      "\n",
      "Colleges that have higher amount of billionaire alumni: ['Brown University', 'University of Michigan', 'University of Illinois, Urbana-Champaign', 'Duke University', 'Indiana University', 'University of Arizona', 'Temple University', 'Dartmouth College', 'Brigham Young University', 'George Washington University']\n"
     ]
    }
   ],
   "source": [
    "print(\"Colleges that have higher networth alumni:\", higher_networth)\n",
    "print(\"\\nColleges that have higher amount of billionaire alumni:\", higher_amount)"
   ]
  },
  {
   "cell_type": "markdown",
   "metadata": {},
   "source": [
    "## 3. Histogram: how are graduation rates distributed? "
   ]
  },
  {
   "cell_type": "markdown",
   "metadata": {
    "cell_id": "68340634-03bc-4d32-b090-d2057727dbf3",
    "deepnote_cell_type": "markdown",
    "deepnote_to_be_reexecuted": true,
    "source_hash": "b623e53d",
    "tags": []
   },
   "source": [
    "**We would like to take a look at the distribution of the undergraduate graduation rates across the United States institutions in four and six years. Histograms would be appropriate for the visualization of distributions. The generation of such two histograms will give us a holistic picture of the undergraduate instituion graduation rates in America, which is essential for our further analysis in determining if there is a corrleation between the undergraduate graduation rates within expected time and number of billionaires.**"
   ]
  },
  {
   "cell_type": "code",
   "execution_count": 41,
   "metadata": {
    "cell_id": "0438734e-118d-4cdb-badf-e71df52078aa",
    "deepnote_cell_type": "code",
    "deepnote_to_be_reexecuted": false,
    "execution_millis": 527,
    "execution_start": 1645762093472,
    "source_hash": "57c41265",
    "tags": []
   },
   "outputs": [
    {
     "data": {
      "text/plain": [
       "Text(0.5, 1.0, 'Undergraduate Graduation Rates Acorss US Institutions (4 years)')"
      ]
     },
     "execution_count": 41,
     "metadata": {},
     "output_type": "execute_result"
    },
    {
     "data": {
      "image/png": "[encoded data removed]",
      "text/plain": [
       "<Figure size 1080x720 with 1 Axes>"
      ]
     },
     "metadata": {
      "needs_background": "light"
     },
     "output_type": "display_data"
    }
   ],
   "source": [
    "f, ax = plt.subplots(figsize=(15, 10))\n",
    "p = sns.set_style(\"darkgrid\") \n",
    "sns.histplot(data = merged_df_1['grad_100_value'],\n",
    "             kde = True, \n",
    "             bins = 10, \n",
    "             stat = 'count',\n",
    "             element = 'bars',\n",
    "             fill = True,\n",
    "             cbar = True,\n",
    "            )\n",
    "plt.xlabel('Graduation Rates Within Four Years ', fontsize = '15')\n",
    "plt.ylabel('Number of US Institutions', fontsize = '15')\n",
    "plt.title('Undergraduate Graduation Rates Acorss US Institutions (4 years)', fontsize = '20')"
   ]
  },
  {
   "cell_type": "markdown",
   "metadata": {
    "cell_id": "bc9dfae5-0e4c-4f93-8877-9bb9efa94458",
    "deepnote_cell_type": "markdown",
    "tags": []
   },
   "source": [
    "**The histogram above showcases a left skewed distribution of undergraduate graduation rates in four years across the US institutions. This visualization has met our intuition as the majority of 158 colleges undergraduate graduation rates were higher than 80%. We predict that its six year counter part will demonstrate a similar trend.**"
   ]
  },
  {
   "cell_type": "code",
   "execution_count": 42,
   "metadata": {
    "cell_id": "4a3432aa-64e4-4bea-ba55-97d6874304b1",
    "deepnote_cell_type": "code",
    "deepnote_to_be_reexecuted": false,
    "execution_millis": 340,
    "execution_start": 1645762093947,
    "source_hash": "db409576",
    "tags": []
   },
   "outputs": [
    {
     "data": {
      "text/plain": [
       "Text(0.5, 1.0, 'Undergraduate Graduation Rates Acorss US Institutions (6 years)')"
      ]
     },
     "execution_count": 42,
     "metadata": {},
     "output_type": "execute_result"
    },
    {
     "data": {
      "image/png": "[encoded data removed]",
      "text/plain": [
       "<Figure size 1080x720 with 1 Axes>"
      ]
     },
     "metadata": {},
     "output_type": "display_data"
    }
   ],
   "source": [
    "f, ax = plt.subplots(figsize=(15, 10))\n",
    "sns.set_style(\"darkgrid\") \n",
    "sns.histplot(data = merged_df_1['grad_150_value'],\n",
    "             kde = True, \n",
    "             bins = 10, \n",
    "             stat = 'count',\n",
    "             element = 'bars',\n",
    "             fill = True,\n",
    "             cbar = True,\n",
    "            )\n",
    "plt.xlabel('Graduation Rates in Six Years ', fontsize = '15')\n",
    "plt.ylabel('Number of US Institutions', fontsize = '15')\n",
    "plt.title('Undergraduate Graduation Rates Acorss US Institutions (6 years)', fontsize = '20')"
   ]
  },
  {
   "cell_type": "markdown",
   "metadata": {
    "cell_id": "f9dccf9e-32c4-45ca-8b30-b3b618eb805a",
    "deepnote_cell_type": "markdown",
    "tags": []
   },
   "source": [
    "**We can pinpoint a more intensified left skew from the histogram of the distribution of undergraduate graduation rates across US institutions in six years than its counterpart of four years. Furthermore, the number of colleges which had dropout rates higher than 80% (around 260) surpassed their counterparts in the previous four years histogram. We could infer that more time might give students opportunities and motivations to complete their studies, which led to higher dropout rates among more institutions.**"
   ]
  },
  {
   "cell_type": "markdown",
   "metadata": {
    "cell_id": "c5d06174-03a0-412d-ad2b-c2d2519b7f94",
    "deepnote_cell_type": "markdown",
    "tags": []
   },
   "source": [
    "## 4. Boxplot: Do the graduation within expected time rates differ acorss colleges of different types?"
   ]
  },
  {
   "cell_type": "markdown",
   "metadata": {},
   "source": [
    "**Let's now take a look at the relationship between the type of a college and the graduation rate of students within expected time. First, we can see our distribution of types of colleges in our data.**"
   ]
  },
  {
   "cell_type": "code",
   "execution_count": 43,
   "metadata": {},
   "outputs": [
    {
     "data": {
      "text/plain": [
       "Private not-for-profit    82\n",
       "Public                    80\n",
       "Private for-profit         1\n",
       "Name: type, dtype: int64"
      ]
     },
     "execution_count": 43,
     "metadata": {},
     "output_type": "execute_result"
    }
   ],
   "source": [
    "updated_cc_df['type'].value_counts()"
   ]
  },
  {
   "cell_type": "markdown",
   "metadata": {},
   "source": [
    "**We can now produce a boxplot using our dataset that compares the distribution of students who graduated within 4 years between the three types of colleges.**"
   ]
  },
  {
   "cell_type": "code",
   "execution_count": 46,
   "metadata": {},
   "outputs": [
    {
     "data": {
      "text/plain": [
       "Text(0.5, 1.0, 'Graduation Rates Across College Types')"
      ]
     },
     "execution_count": 46,
     "metadata": {},
     "output_type": "execute_result"
    },
    {
     "data": {
      "image/png": "[encoded data removed]",
      "text/plain": [
       "<Figure size 1080x720 with 1 Axes>"
      ]
     },
     "metadata": {},
     "output_type": "display_data"
    }
   ],
   "source": [
    "f, ax = plt.subplots(figsize=(15, 10))\n",
    "sns.set_style(\"darkgrid\") \n",
    "sns.boxplot(x='type', y='grad_100_value', data=updated_cc_df)\n",
    "plt.xlabel('College Types', fontsize = '15')\n",
    "plt.ylabel('Graduation Rates within Four Years', fontsize = '15')\n",
    "plt.title('Graduation Rates Across College Types', fontsize = '20')"
   ]
  },
  {
   "cell_type": "markdown",
   "metadata": {},
   "source": [
    "**We can see that the distribution of graduation rates for public schools is significantly lower than private schools. Let's also take a look at the distribution of students who graduated within 6 years across the three types of colleges.**"
   ]
  },
  {
   "cell_type": "code",
   "execution_count": 47,
   "metadata": {},
   "outputs": [
    {
     "data": {
      "text/plain": [
       "Text(0.5, 1.0, 'Graduation Rates Across College Types')"
      ]
     },
     "execution_count": 47,
     "metadata": {},
     "output_type": "execute_result"
    },
    {
     "data": {
      "image/png": "[encoded data removed]",
      "text/plain": [
       "<Figure size 1080x720 with 1 Axes>"
      ]
     },
     "metadata": {},
     "output_type": "display_data"
    }
   ],
   "source": [
    "f, ax = plt.subplots(figsize=(15, 10))\n",
    "sns.set_style(\"darkgrid\") \n",
    "sns.boxplot(x='type', y='grad_150_value', data=updated_cc_df)\n",
    "plt.xlabel('College Types', fontsize = '15')\n",
    "plt.ylabel('Graduation Rates within Six Years', fontsize = '15')\n",
    "plt.title('Graduation Rates Across College Types', fontsize = '20')"
   ]
  },
  {
   "cell_type": "markdown",
   "metadata": {},
   "source": [
    "**Again, we can see that the distribution of graduation rates for public schools is lower than private schools. For both boxplots we can see that private not-for-profit schools have a higher median in graduation rates than private for-profit schools.**"
   ]
  },
  {
   "cell_type": "markdown",
   "metadata": {},
   "source": [
    "**Now to address our research question, let's visualize the relationship between billionaire counts and graduation within expected time rates. We can begin by plotting the relationship between these two variables.**"
   ]
  },
  {
   "cell_type": "code",
   "execution_count": 55,
   "metadata": {},
   "outputs": [
    {
     "data": {
      "text/plain": [
       "Text(0.5, 1.0, 'Gradution Rates (4 years) VS. Number of Billionaire Alumni')"
      ]
     },
     "execution_count": 55,
     "metadata": {},
     "output_type": "execute_result"
    },
    {
     "data": {
      "image/png": "[encoded data removed]",
      "text/plain": [
       "<Figure size 720x360 with 1 Axes>"
      ]
     },
     "metadata": {},
     "output_type": "display_data"
    }
   ],
   "source": [
    "sns.lmplot(x='grad_100_value', y='Num_Alumni', data=updated_cc_df, aspect=2)\n",
    "plt.xlabel('Graduation within 4 years Rate', size=18)\n",
    "plt.ylabel('Number of Billionaire Alumni', size=18)\n",
    "plt.title('Gradution Rates (4 years) VS. Number of Billionaire Alumni', size = 20)"
   ]
  },
  {
   "cell_type": "markdown",
   "metadata": {},
   "source": [
    "**Let's also plot the relationship between billionaire counts and graduation within 150% of expected time rates.**"
   ]
  },
  {
   "cell_type": "code",
   "execution_count": 56,
   "metadata": {},
   "outputs": [
    {
     "data": {
      "text/plain": [
       "Text(0.5, 1.0, 'Gradution Rates (6 years) VS. Number of Billionaire Alumni')"
      ]
     },
     "execution_count": 56,
     "metadata": {},
     "output_type": "execute_result"
    },
    {
     "data": {
      "image/png": "[encoded data removed]",
      "text/plain": [
       "<Figure size 720x360 with 1 Axes>"
      ]
     },
     "metadata": {},
     "output_type": "display_data"
    }
   ],
   "source": [
    "sns.lmplot(x='grad_150_value', y='Num_Alumni', data=updated_cc_df, aspect=2)\n",
    "plt.xlabel('Graduation within 6 years Rate', size=18)\n",
    "plt.ylabel('Number of Billionaire Alumni', size=18)\n",
    "plt.title('Gradution Rates (6 years) VS. Number of Billionaire Alumni', size = 20)"
   ]
  },
  {
   "cell_type": "markdown",
   "metadata": {},
   "source": [
    "**Lastly, let's use linear regression to determine the effect that graduation within 4 years rate has on the number of billionaire alumni coming out of a school.**"
   ]
  },
  {
   "cell_type": "code",
   "execution_count": 59,
   "metadata": {},
   "outputs": [
    {
     "name": "stdout",
     "output_type": "stream",
     "text": [
      "                            OLS Regression Results                            \n",
      "==============================================================================\n",
      "Dep. Variable:         grad_100_value   R-squared:                       0.035\n",
      "Model:                            OLS   Adj. R-squared:                  0.029\n",
      "Method:                 Least Squares   F-statistic:                     5.792\n",
      "Date:                Fri, 25 Feb 2022   Prob (F-statistic):             0.0172\n",
      "Time:                        22:20:48   Log-Likelihood:                -773.30\n",
      "No. Observations:                 163   AIC:                             1551.\n",
      "Df Residuals:                     161   BIC:                             1557.\n",
      "Df Model:                           1                                         \n",
      "Covariance Type:            nonrobust                                         \n",
      "==============================================================================\n",
      "                 coef    std err          t      P>|t|      [0.025      0.975]\n",
      "------------------------------------------------------------------------------\n",
      "Intercept     45.1616      2.615     17.268      0.000      39.997      50.326\n",
      "Num_Alumni     1.3238      0.550      2.407      0.017       0.238       2.410\n",
      "==============================================================================\n",
      "Omnibus:                       73.401   Durbin-Watson:                   1.875\n",
      "Prob(Omnibus):                  0.000   Jarque-Bera (JB):               10.187\n",
      "Skew:                          -0.091   Prob(JB):                      0.00614\n",
      "Kurtosis:                       1.789   Cond. No.                         5.75\n",
      "==============================================================================\n",
      "\n",
      "Notes:\n",
      "[1] Standard Errors assume that the covariance matrix of the errors is correctly specified.\n"
     ]
    }
   ],
   "source": [
    "outcome, predictors = patsy.dmatrices('grad_100_value ~ Num_Alumni', updated_cc_df)\n",
    "mod_log = sm.OLS(outcome, predictors)\n",
    "res_log = mod_log.fit()\n",
    "\n",
    "print(res_log.summary())"
   ]
  },
  {
   "cell_type": "markdown",
   "metadata": {},
   "source": [
    "**Since we have used an alpha value of 0.05 and the p-value for Num_Alumni appears to be 0.017, so we would reject the null hypothesis and claiming there is a relationship between the graduation within four year rates of US institutions and the number of billionaire alumni.** "
   ]
  },
  {
   "cell_type": "markdown",
   "metadata": {},
   "source": [
    "**Let's also use linear regression to analyze the effect that graduation within 5 years rate has on the number of billionaire alumni.**"
   ]
  },
  {
   "cell_type": "code",
   "execution_count": 60,
   "metadata": {},
   "outputs": [
    {
     "name": "stdout",
     "output_type": "stream",
     "text": [
      "                            OLS Regression Results                            \n",
      "==============================================================================\n",
      "Dep. Variable:         grad_150_value   R-squared:                       0.031\n",
      "Model:                            OLS   Adj. R-squared:                  0.025\n",
      "Method:                 Least Squares   F-statistic:                     5.180\n",
      "Date:                Fri, 25 Feb 2022   Prob (F-statistic):             0.0242\n",
      "Time:                        22:21:21   Log-Likelihood:                -744.33\n",
      "No. Observations:                 163   AIC:                             1493.\n",
      "Df Residuals:                     161   BIC:                             1499.\n",
      "Df Model:                           1                                         \n",
      "Covariance Type:            nonrobust                                         \n",
      "==============================================================================\n",
      "                 coef    std err          t      P>|t|      [0.025      0.975]\n",
      "------------------------------------------------------------------------------\n",
      "Intercept     61.7925      2.189     28.223      0.000      57.469      66.116\n",
      "Num_Alumni     1.0481      0.460      2.276      0.024       0.139       1.957\n",
      "==============================================================================\n",
      "Omnibus:                       13.211   Durbin-Watson:                   1.896\n",
      "Prob(Omnibus):                  0.001   Jarque-Bera (JB):               10.352\n",
      "Skew:                          -0.515   Prob(JB):                      0.00565\n",
      "Kurtosis:                       2.319   Cond. No.                         5.75\n",
      "==============================================================================\n",
      "\n",
      "Notes:\n",
      "[1] Standard Errors assume that the covariance matrix of the errors is correctly specified.\n"
     ]
    }
   ],
   "source": [
    "outcome_150, predictors_150 = patsy.dmatrices('grad_150_value ~ Num_Alumni', updated_cc_df)\n",
    "mod_log_150 = sm.OLS(outcome_150, predictors_150)\n",
    "res_log_150 = mod_log_150.fit()\n",
    "\n",
    "print(res_log_150.summary())"
   ]
  },
  {
   "cell_type": "markdown",
   "metadata": {},
   "source": [
    "**Since we have used an alpha value of 0.05 and the p-value for Num_Alumni appears to be 0.017, so we would reject the null hypothesis and claiming there is a relationship between the graduation within six year rates of US institutions and the number of billionaire alumni.** "
   ]
  },
  {
   "cell_type": "markdown",
   "metadata": {},
   "source": [
    "## 5. Choropleth: Do the graduation within expected time rates differ acorss colleges at different locations?"
   ]
  },
  {
   "cell_type": "markdown",
   "metadata": {},
   "source": [
    "**We would like to see total distribution of networth and the percentage of people graduate in 4 years from billionaires' undergraduate institutions. Using choropleth would be the best way to visulize distributions.We first generate a choropleth to see the distribution of networth from location of the billionaires undergraduate institution. Then we generate another choropleth that shows the 4-years graduating percentage of the states from  our dataframe. From the graphs, we can examine the states' graduation rate(4 years)as well as the states'networth from highest to lowest.**\n",
    "\n"
   ]
  },
  {
   "cell_type": "markdown",
   "metadata": {},
   "source": [
    "**We first want to transfrom all the states in merged_df_1 into its initials  so that the data could be read by ploty express.**"
   ]
  },
  {
   "cell_type": "code",
   "execution_count": 75,
   "metadata": {},
   "outputs": [],
   "source": [
    "        merged_df_1 = merged_df_1.replace('Alabama', 'AL')\n",
    "       \n",
    "        merged_df_1 = merged_df_1.replace('Connecticut', 'CT')\n",
    "        merged_df_1 = merged_df_1.replace('Colorado', 'CO')\n",
    "        merged_df_1 = merged_df_1.replace('California', 'CA')\n",
    "        merged_df_1 = merged_df_1.replace('Arkansas', 'AR')\n",
    "        merged_df_1 = merged_df_1.replace('Arizona', 'AZ')\n",
    "        \n",
    "       \n",
    "        merged_df_1 = merged_df_1.replace('West Virginia', 'WV')\n",
    "        merged_df_1 = merged_df_1.replace('Washington', 'WA')\n",
    "        merged_df_1 = merged_df_1.replace('Virginia', 'VA')\n",
    "        merged_df_1 = merged_df_1.replace('Vermont', 'VT')\n",
    "        merged_df_1 = merged_df_1.replace('Utah', 'UT')\n",
    "        merged_df_1 = merged_df_1.replace('Texas', 'TX')\n",
    "        merged_df_1 = merged_df_1.replace('Tennessee', 'TN')\n",
    "    \n",
    "        merged_df_1 = merged_df_1.replace('South Carolina', 'SC')\n",
    "        merged_df_1 = merged_df_1.replace('Rhode Island', 'RI')\n",
    "        merged_df_1 = merged_df_1.replace('Pennsylvania', 'PA')\n",
    "        merged_df_1 = merged_df_1.replace('Oregon', 'OR')\n",
    "        merged_df_1 = merged_df_1.replace('Oklahoma', 'OK')\n",
    "        merged_df_1 = merged_df_1.replace('Ohio', 'OH')\n",
    "        merged_df_1 = merged_df_1.replace('North Dakota', 'ND')\n",
    "        \n",
    "        merged_df_1 = merged_df_1.replace('New York', 'NY')\n",
    "      \n",
    "        merged_df_1 = merged_df_1.replace('New Jersey', 'NJ')\n",
    "        merged_df_1 = merged_df_1.replace('New Hampshire', 'NH')\n",
    "        \n",
    "        \n",
    "       \n",
    "        merged_df_1 = merged_df_1.replace('Montana', 'MT')\n",
    "        \n",
    "        merged_df_1 = merged_df_1.replace('Missouri', 'MO')\n",
    "        merged_df_1 = merged_df_1.replace('Mississippi', 'MS')\n",
    "        merged_df_1 = merged_df_1.replace('Minnesota', 'MN')\n",
    "        merged_df_1 = merged_df_1.replace('Michigan', 'MI')\n",
    "                                \n",
    "        merged_df_1 = merged_df_1.replace('Massachusetts', 'MA')\n",
    "        merged_df_1 = merged_df_1.replace('Maryland', 'MD')\n",
    "        \n",
    "        merged_df_1 = merged_df_1.replace('Maine', 'ME')\n",
    "                                \n",
    "        merged_df_1 = merged_df_1.replace('Louisiana', 'LA')\n",
    "        merged_df_1 = merged_df_1.replace('Kentucky', 'KA')\n",
    "        merged_df_1 = merged_df_1.replace('Kansas', 'KS')\n",
    "    \n",
    "                                \n",
    "        merged_df_1 = merged_df_1.replace('Indiana', 'IN')\n",
    "        merged_df_1 = merged_df_1.replace('Illinois', 'IL')\n",
    "     \n",
    "       \n",
    "        merged_df_1 = merged_df_1.replace('Georgia', 'GA')\n",
    "        merged_df_1 = merged_df_1.replace('Florida', 'FL')\n",
    "        \n",
    "        merged_df_1 = merged_df_1.replace('District of Columbia', 'DC')\n",
    "        merged_df_1 = merged_df_1.replace('North Carolina', 'NC')\n",
    "        merged_df_1 = merged_df_1.replace('Wisconsin', 'WI')\n",
    "        "
   ]
  },
  {
   "cell_type": "markdown",
   "metadata": {},
   "source": [
    "**Next, we want to find the number of billionaire in each state of the undergraduate instutition.**"
   ]
  },
  {
   "cell_type": "code",
   "execution_count": 76,
   "metadata": {},
   "outputs": [
    {
     "data": {
      "text/plain": [
       "state\n",
       "AL     4\n",
       "AR     7\n",
       "AZ     5\n",
       "CA    55\n",
       "CO     9\n",
       "CT    15\n",
       "DC     6\n",
       "FL    11\n",
       "GA     3\n",
       "IL    21\n",
       "IN     7\n",
       "KA     1\n",
       "KS    10\n",
       "LA     4\n",
       "MA    52\n",
       "MD     9\n",
       "ME     3\n",
       "MI    26\n",
       "MN     2\n",
       "MO    38\n",
       "MS     1\n",
       "MT     1\n",
       "NC    16\n",
       "NH     5\n",
       "NJ     3\n",
       "NY    39\n",
       "OH     5\n",
       "OK     4\n",
       "OR     4\n",
       "PA    40\n",
       "RI     9\n",
       "SC     1\n",
       "TN     9\n",
       "TX    17\n",
       "UT     6\n",
       "VA     2\n",
       "VT     3\n",
       "WA     5\n",
       "WI     4\n",
       "WV     1\n",
       "dtype: int64"
      ]
     },
     "execution_count": 76,
     "metadata": {},
     "output_type": "execute_result"
    }
   ],
   "source": [
    "num_bill = merged_df_1.groupby('state').size()\n",
    "num_bill"
   ]
  },
  {
   "cell_type": "markdown",
   "metadata": {},
   "source": [
    "**We can generate a choropleth that shows the corrlation between the location of the billionaires' undergraduate institution as well as its udergraduate graduation rate in 4 years.**"
   ]
  },
  {
   "cell_type": "markdown",
   "metadata": {},
   "source": []
  },
  {
   "cell_type": "code",
   "execution_count": 77,
   "metadata": {},
   "outputs": [
    {
     "data": {
      "application/vnd.plotly.v1+json": {
       "config": {
        "plotlyServerURL": "https://plot.ly"
       },
       "data": [
        {
         "coloraxis": "coloraxis",
         "geo": "geo",
         "hovertemplate": "state=%{location}<br>grad_100_value=%{z}<extra></extra>",
         "locationmode": "USA-states",
         "locations": [
          "KS",
          "PA",
          "MA",
          "MA",
          "AR",
          "IL",
          "MI",
          "MD",
          "MO",
          "TX",
          "AR",
          "AR",
          "MD",
          "KS",
          "MI",
          "MA",
          "TX",
          "ME",
          "CT",
          "PA",
          "NY",
          "CA",
          "CT",
          "MA",
          "TN",
          "NY",
          "CA",
          "CA",
          "MA",
          "NY",
          "PA",
          "MA",
          "KS",
          "CO",
          "WA",
          "PA",
          "RI",
          "NY",
          "NY",
          "MA",
          "TX",
          "RI",
          "CA",
          "MO",
          "MO",
          "MO",
          "KS",
          "IN",
          "CA",
          "MI",
          "NY",
          "TN",
          "TX",
          "CO",
          "CO",
          "AR",
          "IN",
          "MA",
          "MA",
          "CA",
          "AL",
          "AZ",
          "MO",
          "IL",
          "TX",
          "MD",
          "NC",
          "IL",
          "CT",
          "CT",
          "CA",
          "TN",
          "CA",
          "CA",
          "CA",
          "NY",
          "NJ",
          "FL",
          "TX",
          "MO",
          "MI",
          "MI",
          "FL",
          "MI",
          "MA",
          "FL",
          "CO",
          "NC",
          "MO",
          "TX",
          "MA",
          "NY",
          "OH",
          "NY",
          "CA",
          "FL",
          "WI",
          "MO",
          "TX",
          "MA",
          "KS",
          "MA",
          "IL",
          "MI",
          "PA",
          "MA",
          "ME",
          "CA",
          "CA",
          "PA",
          "SC",
          "PA",
          "MI",
          "IL",
          "AL",
          "CT",
          "ME",
          "PA",
          "NY",
          "MA",
          "MA",
          "CA",
          "IL",
          "MI",
          "IL",
          "MO",
          "NH",
          "NH",
          "MD",
          "IL",
          "PA",
          "TX",
          "TX",
          "OR",
          "PA",
          "PA",
          "MA",
          "CA",
          "IL",
          "NJ",
          "RI",
          "IN",
          "CA",
          "NY",
          "DC",
          "MI",
          "OH",
          "CA",
          "CA",
          "CA",
          "NC",
          "NY",
          "PA",
          "MI",
          "MA",
          "CA",
          "MO",
          "TX",
          "NH",
          "WA",
          "MD",
          "NC",
          "NY",
          "PA",
          "PA",
          "MD",
          "AR",
          "NC",
          "MA",
          "CT",
          "CA",
          "CA",
          "PA",
          "CA",
          "PA",
          "TN",
          "NC",
          "RI",
          "CA",
          "MO",
          "NY",
          "LA",
          "CA",
          "AZ",
          "PA",
          "MI",
          "NY",
          "NH",
          "MT",
          "MA",
          "NY",
          "NY",
          "MA",
          "LA",
          "NY",
          "MO",
          "NY",
          "PA",
          "IL",
          "TX",
          "UT",
          "FL",
          "NY",
          "MI",
          "MA",
          "MA",
          "CA",
          "VT",
          "AZ",
          "TN",
          "CA",
          "MA",
          "WI",
          "PA",
          "MA",
          "CA",
          "MO",
          "KS",
          "MO",
          "NY",
          "NY",
          "MA",
          "NJ",
          "CO",
          "MA",
          "MO",
          "MA",
          "MI",
          "TN",
          "MI",
          "CA",
          "GA",
          "NC",
          "OK",
          "TN",
          "MN",
          "PA",
          "CT",
          "MA",
          "CA",
          "RI",
          "WV",
          "AZ",
          "CT",
          "NY",
          "LA",
          "CA",
          "CA",
          "CA",
          "MO",
          "CT",
          "NY",
          "PA",
          "MA",
          "RI",
          "MO",
          "OR",
          "CA",
          "PA",
          "UT",
          "TN",
          "NY",
          "AR",
          "MD",
          "IL",
          "IL",
          "KA",
          "CA",
          "MO",
          "MO",
          "FL",
          "NY",
          "MO",
          "NC",
          "PA",
          "CT",
          "CA",
          "CA",
          "NY",
          "WI",
          "NC",
          "MO",
          "AR",
          "KS",
          "UT",
          "NY",
          "MO",
          "DC",
          "RI",
          "MA",
          "MA",
          "OH",
          "MO",
          "FL",
          "IL",
          "NY",
          "MO",
          "MD",
          "VA",
          "CA",
          "IN",
          "CA",
          "CT",
          "IL",
          "MI",
          "NH",
          "CA",
          "MO",
          "PA",
          "CT",
          "NY",
          "VT",
          "KS",
          "PA",
          "NC",
          "NC",
          "TX",
          "MA",
          "KS",
          "MA",
          "PA",
          "CA",
          "MO",
          "MI",
          "NY",
          "MO",
          "MD",
          "RI",
          "MI",
          "MO",
          "CO",
          "MA",
          "MA",
          "CA",
          "TX",
          "MO",
          "FL",
          "TX",
          "IN",
          "MO",
          "PA",
          "PA",
          "PA",
          "MA",
          "GA",
          "MO",
          "NC",
          "PA",
          "CT",
          "MN",
          "FL",
          "IL",
          "VA",
          "NC",
          "MO",
          "MA",
          "MA",
          "PA",
          "NY",
          "FL",
          "CA",
          "KS",
          "CO",
          "CT",
          "RI",
          "DC",
          "IL",
          "MI",
          "PA",
          "UT",
          "MA",
          "WI",
          "OR",
          "TX",
          "MI",
          "NY",
          "IL",
          "NY",
          "TX",
          "PA",
          "AL",
          "CA",
          "PA",
          "CO",
          "MA",
          "MA",
          "NC",
          "CA",
          "IN",
          "IL",
          "UT",
          "CA",
          "IL",
          "PA",
          "CA",
          "GA",
          "PA",
          "MA",
          "NC",
          "MI",
          "PA",
          "MA",
          "CA",
          "PA",
          "NY",
          "CA",
          "CT",
          "MA",
          "WA",
          "CA",
          "UT",
          "VT",
          "AL",
          "PA",
          "DC",
          "MO",
          "MS",
          "MO",
          "IL",
          "OK",
          "MI",
          "FL",
          "NC",
          "DC",
          "IL",
          "TN",
          "LA",
          "IN",
          "NY",
          "PA",
          "MI",
          "DC",
          "OK",
          "AZ",
          "MO",
          "OH",
          "MA",
          "OR",
          "NY",
          "MI",
          "OK",
          "CA",
          "MI",
          "MA",
          "WA",
          "NY",
          "OH",
          "CA",
          "MA",
          "CA",
          "MA",
          "WA",
          "CO",
          "CA",
          "MA",
          "MO",
          "MA",
          "MO",
          "CA",
          "MI",
          "MA",
          "MO",
          "NY"
         ],
         "name": "",
         "type": "choropleth",
         "z": [
          36.5,
          87.9,
          86.5,
          86.5,
          11.4,
          87.9,
          75.8,
          65.7,
          10.5,
          71.9,
          7,
          7,
          86.9,
          36.5,
          50.4,
          83.5,
          8.9,
          88,
          89.6,
          87.9,
          77.3,
          72.2,
          89.6,
          87.2,
          16.7,
          8,
          72.2,
          56.2,
          86.5,
          68.5,
          87.9,
          86.5,
          36.5,
          79.2,
          57.5,
          32.7,
          72.3,
          86.6,
          77.3,
          86.5,
          78.8,
          72.3,
          82.3,
          10.5,
          10.5,
          10.5,
          35.8,
          41.8,
          7.7,
          50.4,
          77.3,
          15.1,
          8.9,
          66.5,
          66.5,
          7,
          74.2,
          83.5,
          86.5,
          78.2,
          48.9,
          7.5,
          47.1,
          29.9,
          57.2,
          86.9,
          87.1,
          45,
          89.6,
          89.6,
          83.6,
          13.1,
          78.2,
          56.2,
          83.6,
          85.6,
          26.7,
          30.4,
          24.3,
          47.1,
          11.2,
          50.4,
          70.8,
          50.4,
          86.5,
          70.8,
          26.5,
          41.3,
          10.5,
          78.8,
          84.3,
          60.2,
          7.9,
          62.3,
          69,
          65.2,
          55,
          10.5,
          78.8,
          83.5,
          36.5,
          86.5,
          86.2,
          50.4,
          87.9,
          86.5,
          87.6,
          78.2,
          10.8,
          87.9,
          78.2,
          45.5,
          75.8,
          87.9,
          9.9,
          89.6,
          87.6,
          87.9,
          85.6,
          86.5,
          86.5,
          72.2,
          86.2,
          20.7,
          29.9,
          10.5,
          38.8,
          86.5,
          65.7,
          86.2,
          87.3,
          50.9,
          32.8,
          29.6,
          87.3,
          87.9,
          86.5,
          78.2,
          87.9,
          26.7,
          84.4,
          7.2,
          69,
          76.6,
          88,
          75.8,
          16.7,
          70.3,
          78.2,
          69,
          18.4,
          77.3,
          87.9,
          72.5,
          86.5,
          5.6,
          32.1,
          78.8,
          86.5,
          57.5,
          59.1,
          18.4,
          24,
          87.9,
          87.9,
          86.9,
          20.5,
          18.4,
          89,
          89.6,
          15,
          78.2,
          87.9,
          72.2,
          87.9,
          86.7,
          87.1,
          84.4,
          78.2,
          12.9,
          62.1,
          13.4,
          32.7,
          39.9,
          87.9,
          72.5,
          86.6,
          86.5,
          12.3,
          84.3,
          86.6,
          86.6,
          87.2,
          62.3,
          85.6,
          88.2,
          77.3,
          86.2,
          86.2,
          16.9,
          30.9,
          70.8,
          64.9,
          75.8,
          79.6,
          89.5,
          12.7,
          86.7,
          39.9,
          86.7,
          56.2,
          86.5,
          70.5,
          87.9,
          89.5,
          78.2,
          10.5,
          37.8,
          10.5,
          9.4,
          85.6,
          86.5,
          50.2,
          26.5,
          86.2,
          10.5,
          86.5,
          50.4,
          15.1,
          24.2,
          72.2,
          40.9,
          18.4,
          9.7,
          22.5,
          21,
          87.9,
          89.6,
          86.5,
          82.3,
          84.4,
          7.5,
          39.9,
          89.6,
          52.5,
          13,
          72.2,
          69,
          12.1,
          10.5,
          81.4,
          77.3,
          38.9,
          86.5,
          84.4,
          10.5,
          43.6,
          78.2,
          74.3,
          30.9,
          17.2,
          77.3,
          11.4,
          1,
          29.9,
          86.2,
          25.3,
          13.6,
          10.5,
          10.5,
          47,
          77.3,
          10.5,
          18.4,
          87.9,
          81.4,
          28,
          72.2,
          76,
          57.3,
          18.4,
          10.5,
          20.5,
          36.5,
          24,
          77.3,
          10.5,
          75.6,
          84.4,
          83.5,
          28.4,
          53.1,
          60.7,
          33.6,
          59.7,
          85.6,
          10.5,
          23.4,
          86.3,
          72.2,
          41.8,
          12.7,
          89.6,
          29.9,
          75.8,
          86.5,
          64.6,
          10.5,
          87.9,
          89.6,
          82.7,
          64.8,
          21.5,
          73,
          30.8,
          87.1,
          71.9,
          83.5,
          36.5,
          83.5,
          91.1,
          61.9,
          10.5,
          34.7,
          82.7,
          10.5,
          65.7,
          84.4,
          75.8,
          10.5,
          66.5,
          86.5,
          86.5,
          72.2,
          8.9,
          10.5,
          65.2,
          8.9,
          7.2,
          10.5,
          91.1,
          87.9,
          87.9,
          86.5,
          83.8,
          10.5,
          87.1,
          87.9,
          89.6,
          33.6,
          56.4,
          4,
          86.3,
          87.1,
          10.5,
          75.5,
          83.5,
          86.2,
          76,
          47,
          69,
          35.8,
          22.5,
          89.6,
          84.4,
          75.6,
          87.9,
          75.8,
          38.9,
          30.9,
          86.5,
          27.5,
          70,
          57.2,
          75.8,
          85.6,
          29.9,
          77.3,
          71.9,
          38.9,
          9.9,
          67.9,
          87.9,
          22.5,
          83.5,
          83.5,
          37,
          30.7,
          7.2,
          23.4,
          30.9,
          72.2,
          58.4,
          87.9,
          12.7,
          40.9,
          87.9,
          86.5,
          87.1,
          75.8,
          87.9,
          89.6,
          12.7,
          38.9,
          82.7,
          7.7,
          89.6,
          3.5,
          57.5,
          76.9,
          7.3,
          86.7,
          7.2,
          73,
          75.6,
          10.5,
          20.7,
          12.9,
          87.9,
          34.8,
          75.8,
          56.4,
          18.4,
          88,
          29.9,
          16.1,
          62.3,
          7.2,
          89.5,
          87.9,
          75.8,
          88,
          34.8,
          39.9,
          10.5,
          7.9,
          86.5,
          29.6,
          86.6,
          50.4,
          32.6,
          72.2,
          14.6,
          87.2,
          57.5,
          85.6,
          18.5,
          69,
          86.2,
          78.2,
          86.5,
          57.5,
          66.5,
          72.2,
          86.5,
          10.5,
          83.5,
          10.5,
          69,
          50.4,
          86.5,
          10.5,
          86.6
         ]
        }
       ],
       "layout": {
        "coloraxis": {
         "cmax": 130,
         "cmin": 0,
         "colorbar": {
          "title": {
           "text": "grad_100_value"
          }
         },
         "colorscale": [
          [
           0,
           "rgb(255,255,229)"
          ],
          [
           0.125,
           "rgb(247,252,185)"
          ],
          [
           0.25,
           "rgb(217,240,163)"
          ],
          [
           0.375,
           "rgb(173,221,142)"
          ],
          [
           0.5,
           "rgb(120,198,121)"
          ],
          [
           0.625,
           "rgb(65,171,93)"
          ],
          [
           0.75,
           "rgb(35,132,67)"
          ],
          [
           0.875,
           "rgb(0,104,55)"
          ],
          [
           1,
           "rgb(0,69,41)"
          ]
         ]
        },
        "geo": {
         "center": {},
         "domain": {
          "x": [
           0,
           1
          ],
          "y": [
           0,
           1
          ]
         },
         "scope": "usa"
        },
        "legend": {
         "tracegroupgap": 0
        },
        "margin": {
         "t": 60
        },
        "template": {
         "data": {
          "bar": [
           {
            "error_x": {
             "color": "#2a3f5f"
            },
            "error_y": {
             "color": "#2a3f5f"
            },
            "marker": {
             "line": {
              "color": "#E5ECF6",
              "width": 0.5
             },
             "pattern": {
              "fillmode": "overlay",
              "size": 10,
              "solidity": 0.2
             }
            },
            "type": "bar"
           }
          ],
          "barpolar": [
           {
            "marker": {
             "line": {
              "color": "#E5ECF6",
              "width": 0.5
             },
             "pattern": {
              "fillmode": "overlay",
              "size": 10,
              "solidity": 0.2
             }
            },
            "type": "barpolar"
           }
          ],
          "carpet": [
           {
            "aaxis": {
             "endlinecolor": "#2a3f5f",
             "gridcolor": "white",
             "linecolor": "white",
             "minorgridcolor": "white",
             "startlinecolor": "#2a3f5f"
            },
            "baxis": {
             "endlinecolor": "#2a3f5f",
             "gridcolor": "white",
             "linecolor": "white",
             "minorgridcolor": "white",
             "startlinecolor": "#2a3f5f"
            },
            "type": "carpet"
           }
          ],
          "choropleth": [
           {
            "colorbar": {
             "outlinewidth": 0,
             "ticks": ""
            },
            "type": "choropleth"
           }
          ],
          "contour": [
           {
            "colorbar": {
             "outlinewidth": 0,
             "ticks": ""
            },
            "colorscale": [
             [
              0,
              "#0d0887"
             ],
             [
              0.1111111111111111,
              "#46039f"
             ],
             [
              0.2222222222222222,
              "#7201a8"
             ],
             [
              0.3333333333333333,
              "#9c179e"
             ],
             [
              0.4444444444444444,
              "#bd3786"
             ],
             [
              0.5555555555555556,
              "#d8576b"
             ],
             [
              0.6666666666666666,
              "#ed7953"
             ],
             [
              0.7777777777777778,
              "#fb9f3a"
             ],
             [
              0.8888888888888888,
              "#fdca26"
             ],
             [
              1,
              "#f0f921"
             ]
            ],
            "type": "contour"
           }
          ],
          "contourcarpet": [
           {
            "colorbar": {
             "outlinewidth": 0,
             "ticks": ""
            },
            "type": "contourcarpet"
           }
          ],
          "heatmap": [
           {
            "colorbar": {
             "outlinewidth": 0,
             "ticks": ""
            },
            "colorscale": [
             [
              0,
              "#0d0887"
             ],
             [
              0.1111111111111111,
              "#46039f"
             ],
             [
              0.2222222222222222,
              "#7201a8"
             ],
             [
              0.3333333333333333,
              "#9c179e"
             ],
             [
              0.4444444444444444,
              "#bd3786"
             ],
             [
              0.5555555555555556,
              "#d8576b"
             ],
             [
              0.6666666666666666,
              "#ed7953"
             ],
             [
              0.7777777777777778,
              "#fb9f3a"
             ],
             [
              0.8888888888888888,
              "#fdca26"
             ],
             [
              1,
              "#f0f921"
             ]
            ],
            "type": "heatmap"
           }
          ],
          "heatmapgl": [
           {
            "colorbar": {
             "outlinewidth": 0,
             "ticks": ""
            },
            "colorscale": [
             [
              0,
              "#0d0887"
             ],
             [
              0.1111111111111111,
              "#46039f"
             ],
             [
              0.2222222222222222,
              "#7201a8"
             ],
             [
              0.3333333333333333,
              "#9c179e"
             ],
             [
              0.4444444444444444,
              "#bd3786"
             ],
             [
              0.5555555555555556,
              "#d8576b"
             ],
             [
              0.6666666666666666,
              "#ed7953"
             ],
             [
              0.7777777777777778,
              "#fb9f3a"
             ],
             [
              0.8888888888888888,
              "#fdca26"
             ],
             [
              1,
              "#f0f921"
             ]
            ],
            "type": "heatmapgl"
           }
          ],
          "histogram": [
           {
            "marker": {
             "pattern": {
              "fillmode": "overlay",
              "size": 10,
              "solidity": 0.2
             }
            },
            "type": "histogram"
           }
          ],
          "histogram2d": [
           {
            "colorbar": {
             "outlinewidth": 0,
             "ticks": ""
            },
            "colorscale": [
             [
              0,
              "#0d0887"
             ],
             [
              0.1111111111111111,
              "#46039f"
             ],
             [
              0.2222222222222222,
              "#7201a8"
             ],
             [
              0.3333333333333333,
              "#9c179e"
             ],
             [
              0.4444444444444444,
              "#bd3786"
             ],
             [
              0.5555555555555556,
              "#d8576b"
             ],
             [
              0.6666666666666666,
              "#ed7953"
             ],
             [
              0.7777777777777778,
              "#fb9f3a"
             ],
             [
              0.8888888888888888,
              "#fdca26"
             ],
             [
              1,
              "#f0f921"
             ]
            ],
            "type": "histogram2d"
           }
          ],
          "histogram2dcontour": [
           {
            "colorbar": {
             "outlinewidth": 0,
             "ticks": ""
            },
            "colorscale": [
             [
              0,
              "#0d0887"
             ],
             [
              0.1111111111111111,
              "#46039f"
             ],
             [
              0.2222222222222222,
              "#7201a8"
             ],
             [
              0.3333333333333333,
              "#9c179e"
             ],
             [
              0.4444444444444444,
              "#bd3786"
             ],
             [
              0.5555555555555556,
              "#d8576b"
             ],
             [
              0.6666666666666666,
              "#ed7953"
             ],
             [
              0.7777777777777778,
              "#fb9f3a"
             ],
             [
              0.8888888888888888,
              "#fdca26"
             ],
             [
              1,
              "#f0f921"
             ]
            ],
            "type": "histogram2dcontour"
           }
          ],
          "mesh3d": [
           {
            "colorbar": {
             "outlinewidth": 0,
             "ticks": ""
            },
            "type": "mesh3d"
           }
          ],
          "parcoords": [
           {
            "line": {
             "colorbar": {
              "outlinewidth": 0,
              "ticks": ""
             }
            },
            "type": "parcoords"
           }
          ],
          "pie": [
           {
            "automargin": true,
            "type": "pie"
           }
          ],
          "scatter": [
           {
            "marker": {
             "colorbar": {
              "outlinewidth": 0,
              "ticks": ""
             }
            },
            "type": "scatter"
           }
          ],
          "scatter3d": [
           {
            "line": {
             "colorbar": {
              "outlinewidth": 0,
              "ticks": ""
             }
            },
            "marker": {
             "colorbar": {
              "outlinewidth": 0,
              "ticks": ""
             }
            },
            "type": "scatter3d"
           }
          ],
          "scattercarpet": [
           {
            "marker": {
             "colorbar": {
              "outlinewidth": 0,
              "ticks": ""
             }
            },
            "type": "scattercarpet"
           }
          ],
          "scattergeo": [
           {
            "marker": {
             "colorbar": {
              "outlinewidth": 0,
              "ticks": ""
             }
            },
            "type": "scattergeo"
           }
          ],
          "scattergl": [
           {
            "marker": {
             "colorbar": {
              "outlinewidth": 0,
              "ticks": ""
             }
            },
            "type": "scattergl"
           }
          ],
          "scattermapbox": [
           {
            "marker": {
             "colorbar": {
              "outlinewidth": 0,
              "ticks": ""
             }
            },
            "type": "scattermapbox"
           }
          ],
          "scatterpolar": [
           {
            "marker": {
             "colorbar": {
              "outlinewidth": 0,
              "ticks": ""
             }
            },
            "type": "scatterpolar"
           }
          ],
          "scatterpolargl": [
           {
            "marker": {
             "colorbar": {
              "outlinewidth": 0,
              "ticks": ""
             }
            },
            "type": "scatterpolargl"
           }
          ],
          "scatterternary": [
           {
            "marker": {
             "colorbar": {
              "outlinewidth": 0,
              "ticks": ""
             }
            },
            "type": "scatterternary"
           }
          ],
          "surface": [
           {
            "colorbar": {
             "outlinewidth": 0,
             "ticks": ""
            },
            "colorscale": [
             [
              0,
              "#0d0887"
             ],
             [
              0.1111111111111111,
              "#46039f"
             ],
             [
              0.2222222222222222,
              "#7201a8"
             ],
             [
              0.3333333333333333,
              "#9c179e"
             ],
             [
              0.4444444444444444,
              "#bd3786"
             ],
             [
              0.5555555555555556,
              "#d8576b"
             ],
             [
              0.6666666666666666,
              "#ed7953"
             ],
             [
              0.7777777777777778,
              "#fb9f3a"
             ],
             [
              0.8888888888888888,
              "#fdca26"
             ],
             [
              1,
              "#f0f921"
             ]
            ],
            "type": "surface"
           }
          ],
          "table": [
           {
            "cells": {
             "fill": {
              "color": "#EBF0F8"
             },
             "line": {
              "color": "white"
             }
            },
            "header": {
             "fill": {
              "color": "#C8D4E3"
             },
             "line": {
              "color": "white"
             }
            },
            "type": "table"
           }
          ]
         },
         "layout": {
          "annotationdefaults": {
           "arrowcolor": "#2a3f5f",
           "arrowhead": 0,
           "arrowwidth": 1
          },
          "autotypenumbers": "strict",
          "coloraxis": {
           "colorbar": {
            "outlinewidth": 0,
            "ticks": ""
           }
          },
          "colorscale": {
           "diverging": [
            [
             0,
             "#8e0152"
            ],
            [
             0.1,
             "#c51b7d"
            ],
            [
             0.2,
             "#de77ae"
            ],
            [
             0.3,
             "#f1b6da"
            ],
            [
             0.4,
             "#fde0ef"
            ],
            [
             0.5,
             "#f7f7f7"
            ],
            [
             0.6,
             "#e6f5d0"
            ],
            [
             0.7,
             "#b8e186"
            ],
            [
             0.8,
             "#7fbc41"
            ],
            [
             0.9,
             "#4d9221"
            ],
            [
             1,
             "#276419"
            ]
           ],
           "sequential": [
            [
             0,
             "#0d0887"
            ],
            [
             0.1111111111111111,
             "#46039f"
            ],
            [
             0.2222222222222222,
             "#7201a8"
            ],
            [
             0.3333333333333333,
             "#9c179e"
            ],
            [
             0.4444444444444444,
             "#bd3786"
            ],
            [
             0.5555555555555556,
             "#d8576b"
            ],
            [
             0.6666666666666666,
             "#ed7953"
            ],
            [
             0.7777777777777778,
             "#fb9f3a"
            ],
            [
             0.8888888888888888,
             "#fdca26"
            ],
            [
             1,
             "#f0f921"
            ]
           ],
           "sequentialminus": [
            [
             0,
             "#0d0887"
            ],
            [
             0.1111111111111111,
             "#46039f"
            ],
            [
             0.2222222222222222,
             "#7201a8"
            ],
            [
             0.3333333333333333,
             "#9c179e"
            ],
            [
             0.4444444444444444,
             "#bd3786"
            ],
            [
             0.5555555555555556,
             "#d8576b"
            ],
            [
             0.6666666666666666,
             "#ed7953"
            ],
            [
             0.7777777777777778,
             "#fb9f3a"
            ],
            [
             0.8888888888888888,
             "#fdca26"
            ],
            [
             1,
             "#f0f921"
            ]
           ]
          },
          "colorway": [
           "#636efa",
           "#EF553B",
           "#00cc96",
           "#ab63fa",
           "#FFA15A",
           "#19d3f3",
           "#FF6692",
           "#B6E880",
           "#FF97FF",
           "#FECB52"
          ],
          "font": {
           "color": "#2a3f5f"
          },
          "geo": {
           "bgcolor": "white",
           "lakecolor": "white",
           "landcolor": "#E5ECF6",
           "showlakes": true,
           "showland": true,
           "subunitcolor": "white"
          },
          "hoverlabel": {
           "align": "left"
          },
          "hovermode": "closest",
          "mapbox": {
           "style": "light"
          },
          "paper_bgcolor": "white",
          "plot_bgcolor": "#E5ECF6",
          "polar": {
           "angularaxis": {
            "gridcolor": "white",
            "linecolor": "white",
            "ticks": ""
           },
           "bgcolor": "#E5ECF6",
           "radialaxis": {
            "gridcolor": "white",
            "linecolor": "white",
            "ticks": ""
           }
          },
          "scene": {
           "xaxis": {
            "backgroundcolor": "#E5ECF6",
            "gridcolor": "white",
            "gridwidth": 2,
            "linecolor": "white",
            "showbackground": true,
            "ticks": "",
            "zerolinecolor": "white"
           },
           "yaxis": {
            "backgroundcolor": "#E5ECF6",
            "gridcolor": "white",
            "gridwidth": 2,
            "linecolor": "white",
            "showbackground": true,
            "ticks": "",
            "zerolinecolor": "white"
           },
           "zaxis": {
            "backgroundcolor": "#E5ECF6",
            "gridcolor": "white",
            "gridwidth": 2,
            "linecolor": "white",
            "showbackground": true,
            "ticks": "",
            "zerolinecolor": "white"
           }
          },
          "shapedefaults": {
           "line": {
            "color": "#2a3f5f"
           }
          },
          "ternary": {
           "aaxis": {
            "gridcolor": "white",
            "linecolor": "white",
            "ticks": ""
           },
           "baxis": {
            "gridcolor": "white",
            "linecolor": "white",
            "ticks": ""
           },
           "bgcolor": "#E5ECF6",
           "caxis": {
            "gridcolor": "white",
            "linecolor": "white",
            "ticks": ""
           }
          },
          "title": {
           "x": 0.05
          },
          "xaxis": {
           "automargin": true,
           "gridcolor": "white",
           "linecolor": "white",
           "ticks": "",
           "title": {
            "standoff": 15
           },
           "zerolinecolor": "white",
           "zerolinewidth": 2
          },
          "yaxis": {
           "automargin": true,
           "gridcolor": "white",
           "linecolor": "white",
           "ticks": "",
           "title": {
            "standoff": 15
           },
           "zerolinecolor": "white",
           "zerolinewidth": 2
          }
         }
        }
       }
      },
      "text/html": [
       "<div>                            <div id=\"a5220e43-65df-46dd-ad4e-38a602e57649\" class=\"plotly-graph-div\" style=\"height:525px; width:100%;\"></div>            <script type=\"text/javascript\">                require([\"plotly\"], function(Plotly) {                    window.PLOTLYENV=window.PLOTLYENV || {};                                    if (document.getElementById(\"a5220e43-65df-46dd-ad4e-38a602e57649\")) {                    Plotly.newPlot(                        \"a5220e43-65df-46dd-ad4e-38a602e57649\",                        [{\"coloraxis\":\"coloraxis\",\"geo\":\"geo\",\"hovertemplate\":\"state=%{location}<br>grad_100_value=%{z}<extra></extra>\",\"locationmode\":\"USA-states\",\"locations\":[\"KS\",\"PA\",\"MA\",\"MA\",\"AR\",\"IL\",\"MI\",\"MD\",\"MO\",\"TX\",\"AR\",\"AR\",\"MD\",\"KS\",\"MI\",\"MA\",\"TX\",\"ME\",\"CT\",\"PA\",\"NY\",\"CA\",\"CT\",\"MA\",\"TN\",\"NY\",\"CA\",\"CA\",\"MA\",\"NY\",\"PA\",\"MA\",\"KS\",\"CO\",\"WA\",\"PA\",\"RI\",\"NY\",\"NY\",\"MA\",\"TX\",\"RI\",\"CA\",\"MO\",\"MO\",\"MO\",\"KS\",\"IN\",\"CA\",\"MI\",\"NY\",\"TN\",\"TX\",\"CO\",\"CO\",\"AR\",\"IN\",\"MA\",\"MA\",\"CA\",\"AL\",\"AZ\",\"MO\",\"IL\",\"TX\",\"MD\",\"NC\",\"IL\",\"CT\",\"CT\",\"CA\",\"TN\",\"CA\",\"CA\",\"CA\",\"NY\",\"NJ\",\"FL\",\"TX\",\"MO\",\"MI\",\"MI\",\"FL\",\"MI\",\"MA\",\"FL\",\"CO\",\"NC\",\"MO\",\"TX\",\"MA\",\"NY\",\"OH\",\"NY\",\"CA\",\"FL\",\"WI\",\"MO\",\"TX\",\"MA\",\"KS\",\"MA\",\"IL\",\"MI\",\"PA\",\"MA\",\"ME\",\"CA\",\"CA\",\"PA\",\"SC\",\"PA\",\"MI\",\"IL\",\"AL\",\"CT\",\"ME\",\"PA\",\"NY\",\"MA\",\"MA\",\"CA\",\"IL\",\"MI\",\"IL\",\"MO\",\"NH\",\"NH\",\"MD\",\"IL\",\"PA\",\"TX\",\"TX\",\"OR\",\"PA\",\"PA\",\"MA\",\"CA\",\"IL\",\"NJ\",\"RI\",\"IN\",\"CA\",\"NY\",\"DC\",\"MI\",\"OH\",\"CA\",\"CA\",\"CA\",\"NC\",\"NY\",\"PA\",\"MI\",\"MA\",\"CA\",\"MO\",\"TX\",\"NH\",\"WA\",\"MD\",\"NC\",\"NY\",\"PA\",\"PA\",\"MD\",\"AR\",\"NC\",\"MA\",\"CT\",\"CA\",\"CA\",\"PA\",\"CA\",\"PA\",\"TN\",\"NC\",\"RI\",\"CA\",\"MO\",\"NY\",\"LA\",\"CA\",\"AZ\",\"PA\",\"MI\",\"NY\",\"NH\",\"MT\",\"MA\",\"NY\",\"NY\",\"MA\",\"LA\",\"NY\",\"MO\",\"NY\",\"PA\",\"IL\",\"TX\",\"UT\",\"FL\",\"NY\",\"MI\",\"MA\",\"MA\",\"CA\",\"VT\",\"AZ\",\"TN\",\"CA\",\"MA\",\"WI\",\"PA\",\"MA\",\"CA\",\"MO\",\"KS\",\"MO\",\"NY\",\"NY\",\"MA\",\"NJ\",\"CO\",\"MA\",\"MO\",\"MA\",\"MI\",\"TN\",\"MI\",\"CA\",\"GA\",\"NC\",\"OK\",\"TN\",\"MN\",\"PA\",\"CT\",\"MA\",\"CA\",\"RI\",\"WV\",\"AZ\",\"CT\",\"NY\",\"LA\",\"CA\",\"CA\",\"CA\",\"MO\",\"CT\",\"NY\",\"PA\",\"MA\",\"RI\",\"MO\",\"OR\",\"CA\",\"PA\",\"UT\",\"TN\",\"NY\",\"AR\",\"MD\",\"IL\",\"IL\",\"KA\",\"CA\",\"MO\",\"MO\",\"FL\",\"NY\",\"MO\",\"NC\",\"PA\",\"CT\",\"CA\",\"CA\",\"NY\",\"WI\",\"NC\",\"MO\",\"AR\",\"KS\",\"UT\",\"NY\",\"MO\",\"DC\",\"RI\",\"MA\",\"MA\",\"OH\",\"MO\",\"FL\",\"IL\",\"NY\",\"MO\",\"MD\",\"VA\",\"CA\",\"IN\",\"CA\",\"CT\",\"IL\",\"MI\",\"NH\",\"CA\",\"MO\",\"PA\",\"CT\",\"NY\",\"VT\",\"KS\",\"PA\",\"NC\",\"NC\",\"TX\",\"MA\",\"KS\",\"MA\",\"PA\",\"CA\",\"MO\",\"MI\",\"NY\",\"MO\",\"MD\",\"RI\",\"MI\",\"MO\",\"CO\",\"MA\",\"MA\",\"CA\",\"TX\",\"MO\",\"FL\",\"TX\",\"IN\",\"MO\",\"PA\",\"PA\",\"PA\",\"MA\",\"GA\",\"MO\",\"NC\",\"PA\",\"CT\",\"MN\",\"FL\",\"IL\",\"VA\",\"NC\",\"MO\",\"MA\",\"MA\",\"PA\",\"NY\",\"FL\",\"CA\",\"KS\",\"CO\",\"CT\",\"RI\",\"DC\",\"IL\",\"MI\",\"PA\",\"UT\",\"MA\",\"WI\",\"OR\",\"TX\",\"MI\",\"NY\",\"IL\",\"NY\",\"TX\",\"PA\",\"AL\",\"CA\",\"PA\",\"CO\",\"MA\",\"MA\",\"NC\",\"CA\",\"IN\",\"IL\",\"UT\",\"CA\",\"IL\",\"PA\",\"CA\",\"GA\",\"PA\",\"MA\",\"NC\",\"MI\",\"PA\",\"MA\",\"CA\",\"PA\",\"NY\",\"CA\",\"CT\",\"MA\",\"WA\",\"CA\",\"UT\",\"VT\",\"AL\",\"PA\",\"DC\",\"MO\",\"MS\",\"MO\",\"IL\",\"OK\",\"MI\",\"FL\",\"NC\",\"DC\",\"IL\",\"TN\",\"LA\",\"IN\",\"NY\",\"PA\",\"MI\",\"DC\",\"OK\",\"AZ\",\"MO\",\"OH\",\"MA\",\"OR\",\"NY\",\"MI\",\"OK\",\"CA\",\"MI\",\"MA\",\"WA\",\"NY\",\"OH\",\"CA\",\"MA\",\"CA\",\"MA\",\"WA\",\"CO\",\"CA\",\"MA\",\"MO\",\"MA\",\"MO\",\"CA\",\"MI\",\"MA\",\"MO\",\"NY\"],\"name\":\"\",\"type\":\"choropleth\",\"z\":[36.5,87.9,86.5,86.5,11.4,87.9,75.8,65.7,10.5,71.9,7.0,7.0,86.9,36.5,50.4,83.5,8.9,88.0,89.6,87.9,77.3,72.2,89.6,87.2,16.7,8.0,72.2,56.2,86.5,68.5,87.9,86.5,36.5,79.2,57.5,32.7,72.3,86.6,77.3,86.5,78.8,72.3,82.3,10.5,10.5,10.5,35.8,41.8,7.7,50.4,77.3,15.1,8.9,66.5,66.5,7.0,74.2,83.5,86.5,78.2,48.9,7.5,47.1,29.9,57.2,86.9,87.1,45.0,89.6,89.6,83.6,13.1,78.2,56.2,83.6,85.6,26.7,30.4,24.3,47.1,11.2,50.4,70.8,50.4,86.5,70.8,26.5,41.3,10.5,78.8,84.3,60.2,7.9,62.3,69.0,65.2,55.0,10.5,78.8,83.5,36.5,86.5,86.2,50.4,87.9,86.5,87.6,78.2,10.8,87.9,78.2,45.5,75.8,87.9,9.9,89.6,87.6,87.9,85.6,86.5,86.5,72.2,86.2,20.7,29.9,10.5,38.8,86.5,65.7,86.2,87.3,50.9,32.8,29.6,87.3,87.9,86.5,78.2,87.9,26.7,84.4,7.2,69.0,76.6,88.0,75.8,16.7,70.3,78.2,69.0,18.4,77.3,87.9,72.5,86.5,5.6,32.1,78.8,86.5,57.5,59.1,18.4,24.0,87.9,87.9,86.9,20.5,18.4,89.0,89.6,15.0,78.2,87.9,72.2,87.9,86.7,87.1,84.4,78.2,12.9,62.1,13.4,32.7,39.9,87.9,72.5,86.6,86.5,12.3,84.3,86.6,86.6,87.2,62.3,85.6,88.2,77.3,86.2,86.2,16.9,30.9,70.8,64.9,75.8,79.6,89.5,12.7,86.7,39.9,86.7,56.2,86.5,70.5,87.9,89.5,78.2,10.5,37.8,10.5,9.4,85.6,86.5,50.2,26.5,86.2,10.5,86.5,50.4,15.1,24.2,72.2,40.9,18.4,9.7,22.5,21.0,87.9,89.6,86.5,82.3,84.4,7.5,39.9,89.6,52.5,13.0,72.2,69.0,12.1,10.5,81.4,77.3,38.9,86.5,84.4,10.5,43.6,78.2,74.3,30.9,17.2,77.3,11.4,1.0,29.9,86.2,25.3,13.6,10.5,10.5,47.0,77.3,10.5,18.4,87.9,81.4,28.0,72.2,76.0,57.3,18.4,10.5,20.5,36.5,24.0,77.3,10.5,75.6,84.4,83.5,28.4,53.1,60.7,33.6,59.7,85.6,10.5,23.4,86.3,72.2,41.8,12.7,89.6,29.9,75.8,86.5,64.6,10.5,87.9,89.6,82.7,64.8,21.5,73.0,30.8,87.1,71.9,83.5,36.5,83.5,91.1,61.9,10.5,34.7,82.7,10.5,65.7,84.4,75.8,10.5,66.5,86.5,86.5,72.2,8.9,10.5,65.2,8.9,7.2,10.5,91.1,87.9,87.9,86.5,83.8,10.5,87.1,87.9,89.6,33.6,56.4,4.0,86.3,87.1,10.5,75.5,83.5,86.2,76.0,47.0,69.0,35.8,22.5,89.6,84.4,75.6,87.9,75.8,38.9,30.9,86.5,27.5,70.0,57.2,75.8,85.6,29.9,77.3,71.9,38.9,9.9,67.9,87.9,22.5,83.5,83.5,37.0,30.7,7.2,23.4,30.9,72.2,58.4,87.9,12.7,40.9,87.9,86.5,87.1,75.8,87.9,89.6,12.7,38.9,82.7,7.7,89.6,3.5,57.5,76.9,7.3,86.7,7.2,73.0,75.6,10.5,20.7,12.9,87.9,34.8,75.8,56.4,18.4,88.0,29.9,16.1,62.3,7.2,89.5,87.9,75.8,88.0,34.8,39.9,10.5,7.9,86.5,29.6,86.6,50.4,32.6,72.2,14.6,87.2,57.5,85.6,18.5,69.0,86.2,78.2,86.5,57.5,66.5,72.2,86.5,10.5,83.5,10.5,69.0,50.4,86.5,10.5,86.6]}],                        {\"coloraxis\":{\"cmax\":130,\"cmin\":0,\"colorbar\":{\"title\":{\"text\":\"grad_100_value\"}},\"colorscale\":[[0.0,\"rgb(255,255,229)\"],[0.125,\"rgb(247,252,185)\"],[0.25,\"rgb(217,240,163)\"],[0.375,\"rgb(173,221,142)\"],[0.5,\"rgb(120,198,121)\"],[0.625,\"rgb(65,171,93)\"],[0.75,\"rgb(35,132,67)\"],[0.875,\"rgb(0,104,55)\"],[1.0,\"rgb(0,69,41)\"]]},\"geo\":{\"center\":{},\"domain\":{\"x\":[0.0,1.0],\"y\":[0.0,1.0]},\"scope\":\"usa\"},\"legend\":{\"tracegroupgap\":0},\"margin\":{\"t\":60},\"template\":{\"data\":{\"bar\":[{\"error_x\":{\"color\":\"#2a3f5f\"},\"error_y\":{\"color\":\"#2a3f5f\"},\"marker\":{\"line\":{\"color\":\"#E5ECF6\",\"width\":0.5},\"pattern\":{\"fillmode\":\"overlay\",\"size\":10,\"solidity\":0.2}},\"type\":\"bar\"}],\"barpolar\":[{\"marker\":{\"line\":{\"color\":\"#E5ECF6\",\"width\":0.5},\"pattern\":{\"fillmode\":\"overlay\",\"size\":10,\"solidity\":0.2}},\"type\":\"barpolar\"}],\"carpet\":[{\"aaxis\":{\"endlinecolor\":\"#2a3f5f\",\"gridcolor\":\"white\",\"linecolor\":\"white\",\"minorgridcolor\":\"white\",\"startlinecolor\":\"#2a3f5f\"},\"baxis\":{\"endlinecolor\":\"#2a3f5f\",\"gridcolor\":\"white\",\"linecolor\":\"white\",\"minorgridcolor\":\"white\",\"startlinecolor\":\"#2a3f5f\"},\"type\":\"carpet\"}],\"choropleth\":[{\"colorbar\":{\"outlinewidth\":0,\"ticks\":\"\"},\"type\":\"choropleth\"}],\"contour\":[{\"colorbar\":{\"outlinewidth\":0,\"ticks\":\"\"},\"colorscale\":[[0.0,\"#0d0887\"],[0.1111111111111111,\"#46039f\"],[0.2222222222222222,\"#7201a8\"],[0.3333333333333333,\"#9c179e\"],[0.4444444444444444,\"#bd3786\"],[0.5555555555555556,\"#d8576b\"],[0.6666666666666666,\"#ed7953\"],[0.7777777777777778,\"#fb9f3a\"],[0.8888888888888888,\"#fdca26\"],[1.0,\"#f0f921\"]],\"type\":\"contour\"}],\"contourcarpet\":[{\"colorbar\":{\"outlinewidth\":0,\"ticks\":\"\"},\"type\":\"contourcarpet\"}],\"heatmap\":[{\"colorbar\":{\"outlinewidth\":0,\"ticks\":\"\"},\"colorscale\":[[0.0,\"#0d0887\"],[0.1111111111111111,\"#46039f\"],[0.2222222222222222,\"#7201a8\"],[0.3333333333333333,\"#9c179e\"],[0.4444444444444444,\"#bd3786\"],[0.5555555555555556,\"#d8576b\"],[0.6666666666666666,\"#ed7953\"],[0.7777777777777778,\"#fb9f3a\"],[0.8888888888888888,\"#fdca26\"],[1.0,\"#f0f921\"]],\"type\":\"heatmap\"}],\"heatmapgl\":[{\"colorbar\":{\"outlinewidth\":0,\"ticks\":\"\"},\"colorscale\":[[0.0,\"#0d0887\"],[0.1111111111111111,\"#46039f\"],[0.2222222222222222,\"#7201a8\"],[0.3333333333333333,\"#9c179e\"],[0.4444444444444444,\"#bd3786\"],[0.5555555555555556,\"#d8576b\"],[0.6666666666666666,\"#ed7953\"],[0.7777777777777778,\"#fb9f3a\"],[0.8888888888888888,\"#fdca26\"],[1.0,\"#f0f921\"]],\"type\":\"heatmapgl\"}],\"histogram\":[{\"marker\":{\"pattern\":{\"fillmode\":\"overlay\",\"size\":10,\"solidity\":0.2}},\"type\":\"histogram\"}],\"histogram2d\":[{\"colorbar\":{\"outlinewidth\":0,\"ticks\":\"\"},\"colorscale\":[[0.0,\"#0d0887\"],[0.1111111111111111,\"#46039f\"],[0.2222222222222222,\"#7201a8\"],[0.3333333333333333,\"#9c179e\"],[0.4444444444444444,\"#bd3786\"],[0.5555555555555556,\"#d8576b\"],[0.6666666666666666,\"#ed7953\"],[0.7777777777777778,\"#fb9f3a\"],[0.8888888888888888,\"#fdca26\"],[1.0,\"#f0f921\"]],\"type\":\"histogram2d\"}],\"histogram2dcontour\":[{\"colorbar\":{\"outlinewidth\":0,\"ticks\":\"\"},\"colorscale\":[[0.0,\"#0d0887\"],[0.1111111111111111,\"#46039f\"],[0.2222222222222222,\"#7201a8\"],[0.3333333333333333,\"#9c179e\"],[0.4444444444444444,\"#bd3786\"],[0.5555555555555556,\"#d8576b\"],[0.6666666666666666,\"#ed7953\"],[0.7777777777777778,\"#fb9f3a\"],[0.8888888888888888,\"#fdca26\"],[1.0,\"#f0f921\"]],\"type\":\"histogram2dcontour\"}],\"mesh3d\":[{\"colorbar\":{\"outlinewidth\":0,\"ticks\":\"\"},\"type\":\"mesh3d\"}],\"parcoords\":[{\"line\":{\"colorbar\":{\"outlinewidth\":0,\"ticks\":\"\"}},\"type\":\"parcoords\"}],\"pie\":[{\"automargin\":true,\"type\":\"pie\"}],\"scatter\":[{\"marker\":{\"colorbar\":{\"outlinewidth\":0,\"ticks\":\"\"}},\"type\":\"scatter\"}],\"scatter3d\":[{\"line\":{\"colorbar\":{\"outlinewidth\":0,\"ticks\":\"\"}},\"marker\":{\"colorbar\":{\"outlinewidth\":0,\"ticks\":\"\"}},\"type\":\"scatter3d\"}],\"scattercarpet\":[{\"marker\":{\"colorbar\":{\"outlinewidth\":0,\"ticks\":\"\"}},\"type\":\"scattercarpet\"}],\"scattergeo\":[{\"marker\":{\"colorbar\":{\"outlinewidth\":0,\"ticks\":\"\"}},\"type\":\"scattergeo\"}],\"scattergl\":[{\"marker\":{\"colorbar\":{\"outlinewidth\":0,\"ticks\":\"\"}},\"type\":\"scattergl\"}],\"scattermapbox\":[{\"marker\":{\"colorbar\":{\"outlinewidth\":0,\"ticks\":\"\"}},\"type\":\"scattermapbox\"}],\"scatterpolar\":[{\"marker\":{\"colorbar\":{\"outlinewidth\":0,\"ticks\":\"\"}},\"type\":\"scatterpolar\"}],\"scatterpolargl\":[{\"marker\":{\"colorbar\":{\"outlinewidth\":0,\"ticks\":\"\"}},\"type\":\"scatterpolargl\"}],\"scatterternary\":[{\"marker\":{\"colorbar\":{\"outlinewidth\":0,\"ticks\":\"\"}},\"type\":\"scatterternary\"}],\"surface\":[{\"colorbar\":{\"outlinewidth\":0,\"ticks\":\"\"},\"colorscale\":[[0.0,\"#0d0887\"],[0.1111111111111111,\"#46039f\"],[0.2222222222222222,\"#7201a8\"],[0.3333333333333333,\"#9c179e\"],[0.4444444444444444,\"#bd3786\"],[0.5555555555555556,\"#d8576b\"],[0.6666666666666666,\"#ed7953\"],[0.7777777777777778,\"#fb9f3a\"],[0.8888888888888888,\"#fdca26\"],[1.0,\"#f0f921\"]],\"type\":\"surface\"}],\"table\":[{\"cells\":{\"fill\":{\"color\":\"#EBF0F8\"},\"line\":{\"color\":\"white\"}},\"header\":{\"fill\":{\"color\":\"#C8D4E3\"},\"line\":{\"color\":\"white\"}},\"type\":\"table\"}]},\"layout\":{\"annotationdefaults\":{\"arrowcolor\":\"#2a3f5f\",\"arrowhead\":0,\"arrowwidth\":1},\"autotypenumbers\":\"strict\",\"coloraxis\":{\"colorbar\":{\"outlinewidth\":0,\"ticks\":\"\"}},\"colorscale\":{\"diverging\":[[0,\"#8e0152\"],[0.1,\"#c51b7d\"],[0.2,\"#de77ae\"],[0.3,\"#f1b6da\"],[0.4,\"#fde0ef\"],[0.5,\"#f7f7f7\"],[0.6,\"#e6f5d0\"],[0.7,\"#b8e186\"],[0.8,\"#7fbc41\"],[0.9,\"#4d9221\"],[1,\"#276419\"]],\"sequential\":[[0.0,\"#0d0887\"],[0.1111111111111111,\"#46039f\"],[0.2222222222222222,\"#7201a8\"],[0.3333333333333333,\"#9c179e\"],[0.4444444444444444,\"#bd3786\"],[0.5555555555555556,\"#d8576b\"],[0.6666666666666666,\"#ed7953\"],[0.7777777777777778,\"#fb9f3a\"],[0.8888888888888888,\"#fdca26\"],[1.0,\"#f0f921\"]],\"sequentialminus\":[[0.0,\"#0d0887\"],[0.1111111111111111,\"#46039f\"],[0.2222222222222222,\"#7201a8\"],[0.3333333333333333,\"#9c179e\"],[0.4444444444444444,\"#bd3786\"],[0.5555555555555556,\"#d8576b\"],[0.6666666666666666,\"#ed7953\"],[0.7777777777777778,\"#fb9f3a\"],[0.8888888888888888,\"#fdca26\"],[1.0,\"#f0f921\"]]},\"colorway\":[\"#636efa\",\"#EF553B\",\"#00cc96\",\"#ab63fa\",\"#FFA15A\",\"#19d3f3\",\"#FF6692\",\"#B6E880\",\"#FF97FF\",\"#FECB52\"],\"font\":{\"color\":\"#2a3f5f\"},\"geo\":{\"bgcolor\":\"white\",\"lakecolor\":\"white\",\"landcolor\":\"#E5ECF6\",\"showlakes\":true,\"showland\":true,\"subunitcolor\":\"white\"},\"hoverlabel\":{\"align\":\"left\"},\"hovermode\":\"closest\",\"mapbox\":{\"style\":\"light\"},\"paper_bgcolor\":\"white\",\"plot_bgcolor\":\"#E5ECF6\",\"polar\":{\"angularaxis\":{\"gridcolor\":\"white\",\"linecolor\":\"white\",\"ticks\":\"\"},\"bgcolor\":\"#E5ECF6\",\"radialaxis\":{\"gridcolor\":\"white\",\"linecolor\":\"white\",\"ticks\":\"\"}},\"scene\":{\"xaxis\":{\"backgroundcolor\":\"#E5ECF6\",\"gridcolor\":\"white\",\"gridwidth\":2,\"linecolor\":\"white\",\"showbackground\":true,\"ticks\":\"\",\"zerolinecolor\":\"white\"},\"yaxis\":{\"backgroundcolor\":\"#E5ECF6\",\"gridcolor\":\"white\",\"gridwidth\":2,\"linecolor\":\"white\",\"showbackground\":true,\"ticks\":\"\",\"zerolinecolor\":\"white\"},\"zaxis\":{\"backgroundcolor\":\"#E5ECF6\",\"gridcolor\":\"white\",\"gridwidth\":2,\"linecolor\":\"white\",\"showbackground\":true,\"ticks\":\"\",\"zerolinecolor\":\"white\"}},\"shapedefaults\":{\"line\":{\"color\":\"#2a3f5f\"}},\"ternary\":{\"aaxis\":{\"gridcolor\":\"white\",\"linecolor\":\"white\",\"ticks\":\"\"},\"baxis\":{\"gridcolor\":\"white\",\"linecolor\":\"white\",\"ticks\":\"\"},\"bgcolor\":\"#E5ECF6\",\"caxis\":{\"gridcolor\":\"white\",\"linecolor\":\"white\",\"ticks\":\"\"}},\"title\":{\"x\":0.05},\"xaxis\":{\"automargin\":true,\"gridcolor\":\"white\",\"linecolor\":\"white\",\"ticks\":\"\",\"title\":{\"standoff\":15},\"zerolinecolor\":\"white\",\"zerolinewidth\":2},\"yaxis\":{\"automargin\":true,\"gridcolor\":\"white\",\"linecolor\":\"white\",\"ticks\":\"\",\"title\":{\"standoff\":15},\"zerolinecolor\":\"white\",\"zerolinewidth\":2}}}},                        {\"responsive\": true}                    ).then(function(){\n",
       "                            \n",
       "var gd = document.getElementById('a5220e43-65df-46dd-ad4e-38a602e57649');\n",
       "var x = new MutationObserver(function (mutations, observer) {{\n",
       "        var display = window.getComputedStyle(gd).display;\n",
       "        if (!display || display === 'none') {{\n",
       "            console.log([gd, 'removed!']);\n",
       "            Plotly.purge(gd);\n",
       "            observer.disconnect();\n",
       "        }}\n",
       "}});\n",
       "\n",
       "// Listen for the removal of the full notebook cells\n",
       "var notebookContainer = gd.closest('#notebook-container');\n",
       "if (notebookContainer) {{\n",
       "    x.observe(notebookContainer, {childList: true});\n",
       "}}\n",
       "\n",
       "// Listen for the clearing of the current output cell\n",
       "var outputEl = gd.closest('.output');\n",
       "if (outputEl) {{\n",
       "    x.observe(outputEl, {childList: true});\n",
       "}}\n",
       "\n",
       "                        })                };                });            </script>        </div>"
      ]
     },
     "metadata": {},
     "output_type": "display_data"
    }
   ],
   "source": [
    "fig = px.choropleth(merged_df_1, locations='state', locationmode=\"USA-states\",color='grad_100_value',\n",
    "                           color_continuous_scale=\"YlGn\",\n",
    "                           range_color=(0, 130),\n",
    "                           scope=\"usa\",\n",
    "                          )\n",
    "\n",
    "fig.show()"
   ]
  },
  {
   "cell_type": "markdown",
   "metadata": {},
   "source": [
    "![chloropeth1](./chloropleth1.png)"
   ]
  },
  {
   "cell_type": "markdown",
   "metadata": {},
   "source": [
    "**From the graph, we can see that states like New York, Pennsylvania, Virginia, Massachusetts,New Hampshire have the highest undergraduate graduation value(within 4 years). From the data stored in num_bill, we can see that state like Pennsylvania, Massachusetts, and New Yorks have the most billionaires undergraduate institution. This shows that there is a correlation between the graduation rate as well as the number of billionaires graduate from each state.**"
   ]
  },
  {
   "cell_type": "markdown",
   "metadata": {},
   "source": [
    "**Next, we generate another graph that shows the correlation of location of the billionaires' undergraduate \n",
    "institution and the networth of billionaire.**"
   ]
  },
  {
   "cell_type": "code",
   "execution_count": 78,
   "metadata": {},
   "outputs": [
    {
     "data": {
      "application/vnd.plotly.v1+json": {
       "config": {
        "plotlyServerURL": "https://plot.ly"
       },
       "data": [
        {
         "coloraxis": "coloraxis",
         "geo": "geo",
         "hovertemplate": "state=%{location}<br>NetWorth=%{z}<extra></extra>",
         "locationmode": "USA-states",
         "locations": [
          "KS",
          "PA",
          "MA",
          "MA",
          "AR",
          "IL",
          "MI",
          "MD",
          "MO",
          "TX",
          "AR",
          "AR",
          "MD",
          "KS",
          "MI",
          "MA",
          "TX",
          "ME",
          "CT",
          "PA",
          "NY",
          "CA",
          "CT",
          "MA",
          "TN",
          "NY",
          "CA",
          "CA",
          "MA",
          "NY",
          "PA",
          "MA",
          "KS",
          "CO",
          "WA",
          "PA",
          "RI",
          "NY",
          "NY",
          "MA",
          "TX",
          "RI",
          "CA",
          "MO",
          "MO",
          "MO",
          "KS",
          "IN",
          "CA",
          "MI",
          "NY",
          "TN",
          "TX",
          "CO",
          "CO",
          "AR",
          "IN",
          "MA",
          "MA",
          "CA",
          "AL",
          "AZ",
          "MO",
          "IL",
          "TX",
          "MD",
          "NC",
          "IL",
          "CT",
          "CT",
          "CA",
          "TN",
          "CA",
          "CA",
          "CA",
          "NY",
          "NJ",
          "FL",
          "TX",
          "MO",
          "MI",
          "MI",
          "FL",
          "MI",
          "MA",
          "FL",
          "CO",
          "NC",
          "MO",
          "TX",
          "MA",
          "NY",
          "OH",
          "NY",
          "CA",
          "FL",
          "WI",
          "MO",
          "TX",
          "MA",
          "KS",
          "MA",
          "IL",
          "MI",
          "PA",
          "MA",
          "ME",
          "CA",
          "CA",
          "PA",
          "SC",
          "PA",
          "MI",
          "IL",
          "AL",
          "CT",
          "ME",
          "PA",
          "NY",
          "MA",
          "MA",
          "CA",
          "IL",
          "MI",
          "IL",
          "MO",
          "NH",
          "NH",
          "MD",
          "IL",
          "PA",
          "TX",
          "TX",
          "OR",
          "PA",
          "PA",
          "MA",
          "CA",
          "IL",
          "NJ",
          "RI",
          "IN",
          "CA",
          "NY",
          "DC",
          "MI",
          "OH",
          "CA",
          "CA",
          "CA",
          "NC",
          "NY",
          "PA",
          "MI",
          "MA",
          "CA",
          "MO",
          "TX",
          "NH",
          "WA",
          "MD",
          "NC",
          "NY",
          "PA",
          "PA",
          "MD",
          "AR",
          "NC",
          "MA",
          "CT",
          "CA",
          "CA",
          "PA",
          "CA",
          "PA",
          "TN",
          "NC",
          "RI",
          "CA",
          "MO",
          "NY",
          "LA",
          "CA",
          "AZ",
          "PA",
          "MI",
          "NY",
          "NH",
          "MT",
          "MA",
          "NY",
          "NY",
          "MA",
          "LA",
          "NY",
          "MO",
          "NY",
          "PA",
          "IL",
          "TX",
          "UT",
          "FL",
          "NY",
          "MI",
          "MA",
          "MA",
          "CA",
          "VT",
          "AZ",
          "TN",
          "CA",
          "MA",
          "WI",
          "PA",
          "MA",
          "CA",
          "MO",
          "KS",
          "MO",
          "NY",
          "NY",
          "MA",
          "NJ",
          "CO",
          "MA",
          "MO",
          "MA",
          "MI",
          "TN",
          "MI",
          "CA",
          "GA",
          "NC",
          "OK",
          "TN",
          "MN",
          "PA",
          "CT",
          "MA",
          "CA",
          "RI",
          "WV",
          "AZ",
          "CT",
          "NY",
          "LA",
          "CA",
          "CA",
          "CA",
          "MO",
          "CT",
          "NY",
          "PA",
          "MA",
          "RI",
          "MO",
          "OR",
          "CA",
          "PA",
          "UT",
          "TN",
          "NY",
          "AR",
          "MD",
          "IL",
          "IL",
          "KA",
          "CA",
          "MO",
          "MO",
          "FL",
          "NY",
          "MO",
          "NC",
          "PA",
          "CT",
          "CA",
          "CA",
          "NY",
          "WI",
          "NC",
          "MO",
          "AR",
          "KS",
          "UT",
          "NY",
          "MO",
          "DC",
          "RI",
          "MA",
          "MA",
          "OH",
          "MO",
          "FL",
          "IL",
          "NY",
          "MO",
          "MD",
          "VA",
          "CA",
          "IN",
          "CA",
          "CT",
          "IL",
          "MI",
          "NH",
          "CA",
          "MO",
          "PA",
          "CT",
          "NY",
          "VT",
          "KS",
          "PA",
          "NC",
          "NC",
          "TX",
          "MA",
          "KS",
          "MA",
          "PA",
          "CA",
          "MO",
          "MI",
          "NY",
          "MO",
          "MD",
          "RI",
          "MI",
          "MO",
          "CO",
          "MA",
          "MA",
          "CA",
          "TX",
          "MO",
          "FL",
          "TX",
          "IN",
          "MO",
          "PA",
          "PA",
          "PA",
          "MA",
          "GA",
          "MO",
          "NC",
          "PA",
          "CT",
          "MN",
          "FL",
          "IL",
          "VA",
          "NC",
          "MO",
          "MA",
          "MA",
          "PA",
          "NY",
          "FL",
          "CA",
          "KS",
          "CO",
          "CT",
          "RI",
          "DC",
          "IL",
          "MI",
          "PA",
          "UT",
          "MA",
          "WI",
          "OR",
          "TX",
          "MI",
          "NY",
          "IL",
          "NY",
          "TX",
          "PA",
          "AL",
          "CA",
          "PA",
          "CO",
          "MA",
          "MA",
          "NC",
          "CA",
          "IN",
          "IL",
          "UT",
          "CA",
          "IL",
          "PA",
          "CA",
          "GA",
          "PA",
          "MA",
          "NC",
          "MI",
          "PA",
          "MA",
          "CA",
          "PA",
          "NY",
          "CA",
          "CT",
          "MA",
          "WA",
          "CA",
          "UT",
          "VT",
          "AL",
          "PA",
          "DC",
          "MO",
          "MS",
          "MO",
          "IL",
          "OK",
          "MI",
          "FL",
          "NC",
          "DC",
          "IL",
          "TN",
          "LA",
          "IN",
          "NY",
          "PA",
          "MI",
          "DC",
          "OK",
          "AZ",
          "MO",
          "OH",
          "MA",
          "OR",
          "NY",
          "MI",
          "OK",
          "CA",
          "MI",
          "MA",
          "WA",
          "NY",
          "OH",
          "CA",
          "MA",
          "CA",
          "MA",
          "WA",
          "CO",
          "CA",
          "MA",
          "MO",
          "MA",
          "MO",
          "CA",
          "MI",
          "MA",
          "MO",
          "NY"
         ],
         "name": "",
         "type": "choropleth",
         "z": [
          177000000000,
          151000000000,
          124000000000,
          97000000000,
          96000000000,
          93000000000,
          91500000000,
          89000000000,
          68700000000,
          61800000000,
          60200000000,
          59500000000,
          59000000000,
          53000000000,
          51900000000,
          46400000000,
          45100000000,
          31300000000,
          31300000000,
          25500000000,
          25000000000,
          24600000000,
          21900000000,
          21400000000,
          20900000000,
          20300000000,
          18900000000,
          18300000000,
          17800000000,
          17600000000,
          16000000000,
          16000000000,
          15800000000,
          15600000000,
          15300000000,
          14500000000,
          13700000000,
          13500000000,
          12500000000,
          12400000000,
          12400000000,
          12400000000,
          12100000000,
          11900000000,
          11100000000,
          10600000000,
          10100000000,
          9900000000,
          9900000000,
          9700000000,
          9600000000,
          9600000000,
          9500000000,
          9400000000,
          9400000000,
          8900000000,
          8900000000,
          8700000000,
          8600000000,
          8400000000,
          8300000000.000001,
          8300000000.000001,
          8199999999.999999,
          8000000000,
          7900000000,
          7800000000,
          7800000000,
          7800000000,
          7800000000,
          7800000000,
          7600000000,
          7500000000,
          7400000000,
          7300000000,
          7300000000,
          7200000000,
          7200000000,
          7100000000,
          7100000000,
          7000000000,
          7000000000,
          6900000000,
          6700000000,
          6700000000,
          6600000000,
          6500000000,
          6500000000,
          6500000000,
          6500000000,
          6500000000,
          6200000000,
          6200000000,
          6200000000,
          6200000000,
          6100000000,
          6000000000,
          6000000000,
          6000000000,
          6000000000,
          5800000000,
          5800000000,
          5800000000,
          5700000000,
          5700000000,
          5700000000,
          5600000000,
          5600000000,
          5600000000,
          5500000000,
          5500000000,
          5500000000,
          5400000000,
          5300000000,
          5200000000,
          5200000000,
          5100000000,
          5100000000,
          5000000000,
          5000000000,
          5000000000,
          5000000000,
          5000000000,
          4900000000,
          4900000000,
          4900000000,
          4900000000,
          4800000000,
          4800000000,
          4700000000,
          4700000000,
          4700000000,
          4600000000,
          4600000000,
          4600000000,
          4500000000,
          4500000000,
          4500000000,
          4500000000,
          4500000000,
          4500000000,
          4400000000,
          4400000000,
          4300000000,
          4300000000,
          4300000000,
          4300000000,
          4300000000,
          4200000000,
          4200000000,
          4200000000,
          4200000000,
          4200000000,
          4099999999.9999995,
          4099999999.9999995,
          4099999999.9999995,
          4099999999.9999995,
          4099999999.9999995,
          4099999999.9999995,
          4099999999.9999995,
          4099999999.9999995,
          4099999999.9999995,
          4000000000,
          4000000000,
          4000000000,
          3900000000,
          3900000000,
          3900000000,
          3900000000,
          3900000000,
          3900000000,
          3800000000,
          3800000000,
          3800000000,
          3700000000,
          3700000000,
          3700000000,
          3700000000,
          3700000000,
          3700000000,
          3700000000,
          3700000000,
          3700000000,
          3700000000,
          3700000000,
          3600000000,
          3600000000,
          3600000000,
          3600000000,
          3600000000,
          3600000000,
          3600000000,
          3600000000,
          3500000000,
          3500000000,
          3500000000,
          3500000000,
          3500000000,
          3500000000,
          3400000000,
          3400000000,
          3400000000,
          3400000000,
          3400000000,
          3400000000,
          3400000000,
          3400000000,
          3400000000,
          3400000000,
          3400000000,
          3300000000,
          3300000000,
          3300000000,
          3200000000,
          3200000000,
          3200000000,
          3200000000,
          3100000000,
          3100000000,
          3100000000,
          3100000000,
          3100000000,
          3000000000,
          3000000000,
          3000000000,
          3000000000,
          3000000000,
          3000000000,
          3000000000,
          3000000000,
          3000000000,
          3000000000,
          3000000000,
          3000000000,
          2900000000,
          2900000000,
          2900000000,
          2900000000,
          2900000000,
          2900000000,
          2900000000,
          2900000000,
          2900000000,
          2900000000,
          2900000000,
          2900000000,
          2800000000,
          2800000000,
          2800000000,
          2800000000,
          2800000000,
          2800000000,
          2800000000,
          2800000000,
          2800000000,
          2800000000,
          2800000000,
          2700000000,
          2700000000,
          2700000000,
          2700000000,
          2700000000,
          2600000000,
          2600000000,
          2600000000,
          2600000000,
          2600000000,
          2600000000,
          2600000000,
          2600000000,
          2500000000,
          2500000000,
          2500000000,
          2500000000,
          2500000000,
          2500000000,
          2500000000,
          2500000000,
          2400000000,
          2400000000,
          2400000000,
          2400000000,
          2400000000,
          2400000000,
          2400000000,
          2400000000,
          2300000000,
          2300000000,
          2300000000,
          2300000000,
          2300000000,
          2300000000,
          2300000000,
          2300000000,
          2300000000,
          2300000000,
          2300000000,
          2300000000,
          2200000000,
          2200000000,
          2200000000,
          2200000000,
          2200000000,
          2200000000,
          2200000000,
          2200000000,
          2200000000,
          2200000000,
          2200000000,
          2100000000,
          2100000000,
          2100000000,
          2100000000,
          2100000000,
          2100000000,
          2100000000,
          2100000000,
          2100000000,
          2100000000,
          2100000000,
          2100000000,
          2100000000,
          2100000000,
          2100000000,
          2000000000,
          2000000000,
          2000000000,
          2000000000,
          2000000000,
          2000000000,
          2000000000,
          2000000000,
          2000000000,
          2000000000,
          2000000000,
          2000000000,
          2000000000,
          1900000000,
          1900000000,
          1900000000,
          1900000000,
          1900000000,
          1900000000,
          1900000000,
          1900000000,
          1900000000,
          1900000000,
          1900000000,
          1900000000,
          1900000000,
          1900000000,
          1800000000,
          1800000000,
          1800000000,
          1800000000,
          1800000000,
          1800000000,
          1800000000,
          1800000000,
          1800000000,
          1800000000,
          1800000000,
          1800000000,
          1800000000,
          1700000000,
          1700000000,
          1700000000,
          1700000000,
          1700000000,
          1700000000,
          1700000000,
          1700000000,
          1700000000,
          1700000000,
          1700000000,
          1700000000,
          1700000000,
          1700000000,
          1700000000,
          1700000000,
          1600000000,
          1600000000,
          1600000000,
          1600000000,
          1600000000,
          1600000000,
          1600000000,
          1600000000,
          1600000000,
          1500000000,
          1500000000,
          1500000000,
          1500000000,
          1500000000,
          1500000000,
          1500000000,
          1500000000,
          1500000000,
          1500000000,
          1500000000,
          1500000000,
          1500000000,
          1500000000,
          1400000000,
          1400000000,
          1400000000,
          1400000000,
          1400000000,
          1400000000,
          1400000000,
          1400000000,
          1400000000,
          1400000000,
          1400000000,
          1400000000,
          1400000000,
          1400000000,
          1400000000,
          1400000000,
          1400000000,
          1400000000,
          1300000000,
          1300000000,
          1300000000,
          1300000000,
          1300000000,
          1300000000,
          1300000000,
          1200000000,
          1200000000,
          1200000000,
          1200000000,
          1200000000,
          1200000000,
          1200000000,
          1200000000,
          1200000000,
          1200000000,
          1200000000,
          1200000000,
          1200000000,
          1100000000,
          1100000000,
          1100000000,
          1100000000,
          1100000000,
          1100000000,
          1100000000,
          1100000000,
          1100000000,
          1100000000,
          1100000000,
          1100000000,
          1100000000,
          1100000000,
          1100000000,
          1100000000,
          1100000000,
          1000000000,
          1000000000,
          1000000000,
          1000000000,
          1000000000,
          1000000000
         ]
        }
       ],
       "layout": {
        "coloraxis": {
         "cmax": 1700000000,
         "cmin": 0,
         "colorbar": {
          "title": {
           "text": "NetWorth"
          }
         },
         "colorscale": [
          [
           0,
           "rgb(255,255,229)"
          ],
          [
           0.125,
           "rgb(247,252,185)"
          ],
          [
           0.25,
           "rgb(217,240,163)"
          ],
          [
           0.375,
           "rgb(173,221,142)"
          ],
          [
           0.5,
           "rgb(120,198,121)"
          ],
          [
           0.625,
           "rgb(65,171,93)"
          ],
          [
           0.75,
           "rgb(35,132,67)"
          ],
          [
           0.875,
           "rgb(0,104,55)"
          ],
          [
           1,
           "rgb(0,69,41)"
          ]
         ]
        },
        "geo": {
         "center": {},
         "domain": {
          "x": [
           0,
           1
          ],
          "y": [
           0,
           1
          ]
         },
         "scope": "usa"
        },
        "legend": {
         "tracegroupgap": 0
        },
        "margin": {
         "t": 60
        },
        "template": {
         "data": {
          "bar": [
           {
            "error_x": {
             "color": "#2a3f5f"
            },
            "error_y": {
             "color": "#2a3f5f"
            },
            "marker": {
             "line": {
              "color": "#E5ECF6",
              "width": 0.5
             },
             "pattern": {
              "fillmode": "overlay",
              "size": 10,
              "solidity": 0.2
             }
            },
            "type": "bar"
           }
          ],
          "barpolar": [
           {
            "marker": {
             "line": {
              "color": "#E5ECF6",
              "width": 0.5
             },
             "pattern": {
              "fillmode": "overlay",
              "size": 10,
              "solidity": 0.2
             }
            },
            "type": "barpolar"
           }
          ],
          "carpet": [
           {
            "aaxis": {
             "endlinecolor": "#2a3f5f",
             "gridcolor": "white",
             "linecolor": "white",
             "minorgridcolor": "white",
             "startlinecolor": "#2a3f5f"
            },
            "baxis": {
             "endlinecolor": "#2a3f5f",
             "gridcolor": "white",
             "linecolor": "white",
             "minorgridcolor": "white",
             "startlinecolor": "#2a3f5f"
            },
            "type": "carpet"
           }
          ],
          "choropleth": [
           {
            "colorbar": {
             "outlinewidth": 0,
             "ticks": ""
            },
            "type": "choropleth"
           }
          ],
          "contour": [
           {
            "colorbar": {
             "outlinewidth": 0,
             "ticks": ""
            },
            "colorscale": [
             [
              0,
              "#0d0887"
             ],
             [
              0.1111111111111111,
              "#46039f"
             ],
             [
              0.2222222222222222,
              "#7201a8"
             ],
             [
              0.3333333333333333,
              "#9c179e"
             ],
             [
              0.4444444444444444,
              "#bd3786"
             ],
             [
              0.5555555555555556,
              "#d8576b"
             ],
             [
              0.6666666666666666,
              "#ed7953"
             ],
             [
              0.7777777777777778,
              "#fb9f3a"
             ],
             [
              0.8888888888888888,
              "#fdca26"
             ],
             [
              1,
              "#f0f921"
             ]
            ],
            "type": "contour"
           }
          ],
          "contourcarpet": [
           {
            "colorbar": {
             "outlinewidth": 0,
             "ticks": ""
            },
            "type": "contourcarpet"
           }
          ],
          "heatmap": [
           {
            "colorbar": {
             "outlinewidth": 0,
             "ticks": ""
            },
            "colorscale": [
             [
              0,
              "#0d0887"
             ],
             [
              0.1111111111111111,
              "#46039f"
             ],
             [
              0.2222222222222222,
              "#7201a8"
             ],
             [
              0.3333333333333333,
              "#9c179e"
             ],
             [
              0.4444444444444444,
              "#bd3786"
             ],
             [
              0.5555555555555556,
              "#d8576b"
             ],
             [
              0.6666666666666666,
              "#ed7953"
             ],
             [
              0.7777777777777778,
              "#fb9f3a"
             ],
             [
              0.8888888888888888,
              "#fdca26"
             ],
             [
              1,
              "#f0f921"
             ]
            ],
            "type": "heatmap"
           }
          ],
          "heatmapgl": [
           {
            "colorbar": {
             "outlinewidth": 0,
             "ticks": ""
            },
            "colorscale": [
             [
              0,
              "#0d0887"
             ],
             [
              0.1111111111111111,
              "#46039f"
             ],
             [
              0.2222222222222222,
              "#7201a8"
             ],
             [
              0.3333333333333333,
              "#9c179e"
             ],
             [
              0.4444444444444444,
              "#bd3786"
             ],
             [
              0.5555555555555556,
              "#d8576b"
             ],
             [
              0.6666666666666666,
              "#ed7953"
             ],
             [
              0.7777777777777778,
              "#fb9f3a"
             ],
             [
              0.8888888888888888,
              "#fdca26"
             ],
             [
              1,
              "#f0f921"
             ]
            ],
            "type": "heatmapgl"
           }
          ],
          "histogram": [
           {
            "marker": {
             "pattern": {
              "fillmode": "overlay",
              "size": 10,
              "solidity": 0.2
             }
            },
            "type": "histogram"
           }
          ],
          "histogram2d": [
           {
            "colorbar": {
             "outlinewidth": 0,
             "ticks": ""
            },
            "colorscale": [
             [
              0,
              "#0d0887"
             ],
             [
              0.1111111111111111,
              "#46039f"
             ],
             [
              0.2222222222222222,
              "#7201a8"
             ],
             [
              0.3333333333333333,
              "#9c179e"
             ],
             [
              0.4444444444444444,
              "#bd3786"
             ],
             [
              0.5555555555555556,
              "#d8576b"
             ],
             [
              0.6666666666666666,
              "#ed7953"
             ],
             [
              0.7777777777777778,
              "#fb9f3a"
             ],
             [
              0.8888888888888888,
              "#fdca26"
             ],
             [
              1,
              "#f0f921"
             ]
            ],
            "type": "histogram2d"
           }
          ],
          "histogram2dcontour": [
           {
            "colorbar": {
             "outlinewidth": 0,
             "ticks": ""
            },
            "colorscale": [
             [
              0,
              "#0d0887"
             ],
             [
              0.1111111111111111,
              "#46039f"
             ],
             [
              0.2222222222222222,
              "#7201a8"
             ],
             [
              0.3333333333333333,
              "#9c179e"
             ],
             [
              0.4444444444444444,
              "#bd3786"
             ],
             [
              0.5555555555555556,
              "#d8576b"
             ],
             [
              0.6666666666666666,
              "#ed7953"
             ],
             [
              0.7777777777777778,
              "#fb9f3a"
             ],
             [
              0.8888888888888888,
              "#fdca26"
             ],
             [
              1,
              "#f0f921"
             ]
            ],
            "type": "histogram2dcontour"
           }
          ],
          "mesh3d": [
           {
            "colorbar": {
             "outlinewidth": 0,
             "ticks": ""
            },
            "type": "mesh3d"
           }
          ],
          "parcoords": [
           {
            "line": {
             "colorbar": {
              "outlinewidth": 0,
              "ticks": ""
             }
            },
            "type": "parcoords"
           }
          ],
          "pie": [
           {
            "automargin": true,
            "type": "pie"
           }
          ],
          "scatter": [
           {
            "marker": {
             "colorbar": {
              "outlinewidth": 0,
              "ticks": ""
             }
            },
            "type": "scatter"
           }
          ],
          "scatter3d": [
           {
            "line": {
             "colorbar": {
              "outlinewidth": 0,
              "ticks": ""
             }
            },
            "marker": {
             "colorbar": {
              "outlinewidth": 0,
              "ticks": ""
             }
            },
            "type": "scatter3d"
           }
          ],
          "scattercarpet": [
           {
            "marker": {
             "colorbar": {
              "outlinewidth": 0,
              "ticks": ""
             }
            },
            "type": "scattercarpet"
           }
          ],
          "scattergeo": [
           {
            "marker": {
             "colorbar": {
              "outlinewidth": 0,
              "ticks": ""
             }
            },
            "type": "scattergeo"
           }
          ],
          "scattergl": [
           {
            "marker": {
             "colorbar": {
              "outlinewidth": 0,
              "ticks": ""
             }
            },
            "type": "scattergl"
           }
          ],
          "scattermapbox": [
           {
            "marker": {
             "colorbar": {
              "outlinewidth": 0,
              "ticks": ""
             }
            },
            "type": "scattermapbox"
           }
          ],
          "scatterpolar": [
           {
            "marker": {
             "colorbar": {
              "outlinewidth": 0,
              "ticks": ""
             }
            },
            "type": "scatterpolar"
           }
          ],
          "scatterpolargl": [
           {
            "marker": {
             "colorbar": {
              "outlinewidth": 0,
              "ticks": ""
             }
            },
            "type": "scatterpolargl"
           }
          ],
          "scatterternary": [
           {
            "marker": {
             "colorbar": {
              "outlinewidth": 0,
              "ticks": ""
             }
            },
            "type": "scatterternary"
           }
          ],
          "surface": [
           {
            "colorbar": {
             "outlinewidth": 0,
             "ticks": ""
            },
            "colorscale": [
             [
              0,
              "#0d0887"
             ],
             [
              0.1111111111111111,
              "#46039f"
             ],
             [
              0.2222222222222222,
              "#7201a8"
             ],
             [
              0.3333333333333333,
              "#9c179e"
             ],
             [
              0.4444444444444444,
              "#bd3786"
             ],
             [
              0.5555555555555556,
              "#d8576b"
             ],
             [
              0.6666666666666666,
              "#ed7953"
             ],
             [
              0.7777777777777778,
              "#fb9f3a"
             ],
             [
              0.8888888888888888,
              "#fdca26"
             ],
             [
              1,
              "#f0f921"
             ]
            ],
            "type": "surface"
           }
          ],
          "table": [
           {
            "cells": {
             "fill": {
              "color": "#EBF0F8"
             },
             "line": {
              "color": "white"
             }
            },
            "header": {
             "fill": {
              "color": "#C8D4E3"
             },
             "line": {
              "color": "white"
             }
            },
            "type": "table"
           }
          ]
         },
         "layout": {
          "annotationdefaults": {
           "arrowcolor": "#2a3f5f",
           "arrowhead": 0,
           "arrowwidth": 1
          },
          "autotypenumbers": "strict",
          "coloraxis": {
           "colorbar": {
            "outlinewidth": 0,
            "ticks": ""
           }
          },
          "colorscale": {
           "diverging": [
            [
             0,
             "#8e0152"
            ],
            [
             0.1,
             "#c51b7d"
            ],
            [
             0.2,
             "#de77ae"
            ],
            [
             0.3,
             "#f1b6da"
            ],
            [
             0.4,
             "#fde0ef"
            ],
            [
             0.5,
             "#f7f7f7"
            ],
            [
             0.6,
             "#e6f5d0"
            ],
            [
             0.7,
             "#b8e186"
            ],
            [
             0.8,
             "#7fbc41"
            ],
            [
             0.9,
             "#4d9221"
            ],
            [
             1,
             "#276419"
            ]
           ],
           "sequential": [
            [
             0,
             "#0d0887"
            ],
            [
             0.1111111111111111,
             "#46039f"
            ],
            [
             0.2222222222222222,
             "#7201a8"
            ],
            [
             0.3333333333333333,
             "#9c179e"
            ],
            [
             0.4444444444444444,
             "#bd3786"
            ],
            [
             0.5555555555555556,
             "#d8576b"
            ],
            [
             0.6666666666666666,
             "#ed7953"
            ],
            [
             0.7777777777777778,
             "#fb9f3a"
            ],
            [
             0.8888888888888888,
             "#fdca26"
            ],
            [
             1,
             "#f0f921"
            ]
           ],
           "sequentialminus": [
            [
             0,
             "#0d0887"
            ],
            [
             0.1111111111111111,
             "#46039f"
            ],
            [
             0.2222222222222222,
             "#7201a8"
            ],
            [
             0.3333333333333333,
             "#9c179e"
            ],
            [
             0.4444444444444444,
             "#bd3786"
            ],
            [
             0.5555555555555556,
             "#d8576b"
            ],
            [
             0.6666666666666666,
             "#ed7953"
            ],
            [
             0.7777777777777778,
             "#fb9f3a"
            ],
            [
             0.8888888888888888,
             "#fdca26"
            ],
            [
             1,
             "#f0f921"
            ]
           ]
          },
          "colorway": [
           "#636efa",
           "#EF553B",
           "#00cc96",
           "#ab63fa",
           "#FFA15A",
           "#19d3f3",
           "#FF6692",
           "#B6E880",
           "#FF97FF",
           "#FECB52"
          ],
          "font": {
           "color": "#2a3f5f"
          },
          "geo": {
           "bgcolor": "white",
           "lakecolor": "white",
           "landcolor": "#E5ECF6",
           "showlakes": true,
           "showland": true,
           "subunitcolor": "white"
          },
          "hoverlabel": {
           "align": "left"
          },
          "hovermode": "closest",
          "mapbox": {
           "style": "light"
          },
          "paper_bgcolor": "white",
          "plot_bgcolor": "#E5ECF6",
          "polar": {
           "angularaxis": {
            "gridcolor": "white",
            "linecolor": "white",
            "ticks": ""
           },
           "bgcolor": "#E5ECF6",
           "radialaxis": {
            "gridcolor": "white",
            "linecolor": "white",
            "ticks": ""
           }
          },
          "scene": {
           "xaxis": {
            "backgroundcolor": "#E5ECF6",
            "gridcolor": "white",
            "gridwidth": 2,
            "linecolor": "white",
            "showbackground": true,
            "ticks": "",
            "zerolinecolor": "white"
           },
           "yaxis": {
            "backgroundcolor": "#E5ECF6",
            "gridcolor": "white",
            "gridwidth": 2,
            "linecolor": "white",
            "showbackground": true,
            "ticks": "",
            "zerolinecolor": "white"
           },
           "zaxis": {
            "backgroundcolor": "#E5ECF6",
            "gridcolor": "white",
            "gridwidth": 2,
            "linecolor": "white",
            "showbackground": true,
            "ticks": "",
            "zerolinecolor": "white"
           }
          },
          "shapedefaults": {
           "line": {
            "color": "#2a3f5f"
           }
          },
          "ternary": {
           "aaxis": {
            "gridcolor": "white",
            "linecolor": "white",
            "ticks": ""
           },
           "baxis": {
            "gridcolor": "white",
            "linecolor": "white",
            "ticks": ""
           },
           "bgcolor": "#E5ECF6",
           "caxis": {
            "gridcolor": "white",
            "linecolor": "white",
            "ticks": ""
           }
          },
          "title": {
           "x": 0.05
          },
          "xaxis": {
           "automargin": true,
           "gridcolor": "white",
           "linecolor": "white",
           "ticks": "",
           "title": {
            "standoff": 15
           },
           "zerolinecolor": "white",
           "zerolinewidth": 2
          },
          "yaxis": {
           "automargin": true,
           "gridcolor": "white",
           "linecolor": "white",
           "ticks": "",
           "title": {
            "standoff": 15
           },
           "zerolinecolor": "white",
           "zerolinewidth": 2
          }
         }
        }
       }
      },
      "text/html": [
       "<div>                            <div id=\"77c6cd87-5827-4638-ad4f-6ac55271e89e\" class=\"plotly-graph-div\" style=\"height:525px; width:100%;\"></div>            <script type=\"text/javascript\">                require([\"plotly\"], function(Plotly) {                    window.PLOTLYENV=window.PLOTLYENV || {};                                    if (document.getElementById(\"77c6cd87-5827-4638-ad4f-6ac55271e89e\")) {                    Plotly.newPlot(                        \"77c6cd87-5827-4638-ad4f-6ac55271e89e\",                        [{\"coloraxis\":\"coloraxis\",\"geo\":\"geo\",\"hovertemplate\":\"state=%{location}<br>NetWorth=%{z}<extra></extra>\",\"locationmode\":\"USA-states\",\"locations\":[\"KS\",\"PA\",\"MA\",\"MA\",\"AR\",\"IL\",\"MI\",\"MD\",\"MO\",\"TX\",\"AR\",\"AR\",\"MD\",\"KS\",\"MI\",\"MA\",\"TX\",\"ME\",\"CT\",\"PA\",\"NY\",\"CA\",\"CT\",\"MA\",\"TN\",\"NY\",\"CA\",\"CA\",\"MA\",\"NY\",\"PA\",\"MA\",\"KS\",\"CO\",\"WA\",\"PA\",\"RI\",\"NY\",\"NY\",\"MA\",\"TX\",\"RI\",\"CA\",\"MO\",\"MO\",\"MO\",\"KS\",\"IN\",\"CA\",\"MI\",\"NY\",\"TN\",\"TX\",\"CO\",\"CO\",\"AR\",\"IN\",\"MA\",\"MA\",\"CA\",\"AL\",\"AZ\",\"MO\",\"IL\",\"TX\",\"MD\",\"NC\",\"IL\",\"CT\",\"CT\",\"CA\",\"TN\",\"CA\",\"CA\",\"CA\",\"NY\",\"NJ\",\"FL\",\"TX\",\"MO\",\"MI\",\"MI\",\"FL\",\"MI\",\"MA\",\"FL\",\"CO\",\"NC\",\"MO\",\"TX\",\"MA\",\"NY\",\"OH\",\"NY\",\"CA\",\"FL\",\"WI\",\"MO\",\"TX\",\"MA\",\"KS\",\"MA\",\"IL\",\"MI\",\"PA\",\"MA\",\"ME\",\"CA\",\"CA\",\"PA\",\"SC\",\"PA\",\"MI\",\"IL\",\"AL\",\"CT\",\"ME\",\"PA\",\"NY\",\"MA\",\"MA\",\"CA\",\"IL\",\"MI\",\"IL\",\"MO\",\"NH\",\"NH\",\"MD\",\"IL\",\"PA\",\"TX\",\"TX\",\"OR\",\"PA\",\"PA\",\"MA\",\"CA\",\"IL\",\"NJ\",\"RI\",\"IN\",\"CA\",\"NY\",\"DC\",\"MI\",\"OH\",\"CA\",\"CA\",\"CA\",\"NC\",\"NY\",\"PA\",\"MI\",\"MA\",\"CA\",\"MO\",\"TX\",\"NH\",\"WA\",\"MD\",\"NC\",\"NY\",\"PA\",\"PA\",\"MD\",\"AR\",\"NC\",\"MA\",\"CT\",\"CA\",\"CA\",\"PA\",\"CA\",\"PA\",\"TN\",\"NC\",\"RI\",\"CA\",\"MO\",\"NY\",\"LA\",\"CA\",\"AZ\",\"PA\",\"MI\",\"NY\",\"NH\",\"MT\",\"MA\",\"NY\",\"NY\",\"MA\",\"LA\",\"NY\",\"MO\",\"NY\",\"PA\",\"IL\",\"TX\",\"UT\",\"FL\",\"NY\",\"MI\",\"MA\",\"MA\",\"CA\",\"VT\",\"AZ\",\"TN\",\"CA\",\"MA\",\"WI\",\"PA\",\"MA\",\"CA\",\"MO\",\"KS\",\"MO\",\"NY\",\"NY\",\"MA\",\"NJ\",\"CO\",\"MA\",\"MO\",\"MA\",\"MI\",\"TN\",\"MI\",\"CA\",\"GA\",\"NC\",\"OK\",\"TN\",\"MN\",\"PA\",\"CT\",\"MA\",\"CA\",\"RI\",\"WV\",\"AZ\",\"CT\",\"NY\",\"LA\",\"CA\",\"CA\",\"CA\",\"MO\",\"CT\",\"NY\",\"PA\",\"MA\",\"RI\",\"MO\",\"OR\",\"CA\",\"PA\",\"UT\",\"TN\",\"NY\",\"AR\",\"MD\",\"IL\",\"IL\",\"KA\",\"CA\",\"MO\",\"MO\",\"FL\",\"NY\",\"MO\",\"NC\",\"PA\",\"CT\",\"CA\",\"CA\",\"NY\",\"WI\",\"NC\",\"MO\",\"AR\",\"KS\",\"UT\",\"NY\",\"MO\",\"DC\",\"RI\",\"MA\",\"MA\",\"OH\",\"MO\",\"FL\",\"IL\",\"NY\",\"MO\",\"MD\",\"VA\",\"CA\",\"IN\",\"CA\",\"CT\",\"IL\",\"MI\",\"NH\",\"CA\",\"MO\",\"PA\",\"CT\",\"NY\",\"VT\",\"KS\",\"PA\",\"NC\",\"NC\",\"TX\",\"MA\",\"KS\",\"MA\",\"PA\",\"CA\",\"MO\",\"MI\",\"NY\",\"MO\",\"MD\",\"RI\",\"MI\",\"MO\",\"CO\",\"MA\",\"MA\",\"CA\",\"TX\",\"MO\",\"FL\",\"TX\",\"IN\",\"MO\",\"PA\",\"PA\",\"PA\",\"MA\",\"GA\",\"MO\",\"NC\",\"PA\",\"CT\",\"MN\",\"FL\",\"IL\",\"VA\",\"NC\",\"MO\",\"MA\",\"MA\",\"PA\",\"NY\",\"FL\",\"CA\",\"KS\",\"CO\",\"CT\",\"RI\",\"DC\",\"IL\",\"MI\",\"PA\",\"UT\",\"MA\",\"WI\",\"OR\",\"TX\",\"MI\",\"NY\",\"IL\",\"NY\",\"TX\",\"PA\",\"AL\",\"CA\",\"PA\",\"CO\",\"MA\",\"MA\",\"NC\",\"CA\",\"IN\",\"IL\",\"UT\",\"CA\",\"IL\",\"PA\",\"CA\",\"GA\",\"PA\",\"MA\",\"NC\",\"MI\",\"PA\",\"MA\",\"CA\",\"PA\",\"NY\",\"CA\",\"CT\",\"MA\",\"WA\",\"CA\",\"UT\",\"VT\",\"AL\",\"PA\",\"DC\",\"MO\",\"MS\",\"MO\",\"IL\",\"OK\",\"MI\",\"FL\",\"NC\",\"DC\",\"IL\",\"TN\",\"LA\",\"IN\",\"NY\",\"PA\",\"MI\",\"DC\",\"OK\",\"AZ\",\"MO\",\"OH\",\"MA\",\"OR\",\"NY\",\"MI\",\"OK\",\"CA\",\"MI\",\"MA\",\"WA\",\"NY\",\"OH\",\"CA\",\"MA\",\"CA\",\"MA\",\"WA\",\"CO\",\"CA\",\"MA\",\"MO\",\"MA\",\"MO\",\"CA\",\"MI\",\"MA\",\"MO\",\"NY\"],\"name\":\"\",\"type\":\"choropleth\",\"z\":[177000000000.0,151000000000.0,124000000000.0,97000000000.0,96000000000.0,93000000000.0,91500000000.0,89000000000.0,68700000000.0,61800000000.0,60200000000.0,59500000000.0,59000000000.0,53000000000.0,51900000000.0,46400000000.0,45100000000.0,31300000000.0,31300000000.0,25500000000.0,25000000000.0,24600000000.0,21900000000.0,21400000000.0,20900000000.0,20300000000.0,18900000000.0,18300000000.0,17800000000.0,17600000000.0,16000000000.0,16000000000.0,15800000000.0,15600000000.0,15300000000.0,14500000000.0,13700000000.0,13500000000.0,12500000000.0,12400000000.0,12400000000.0,12400000000.0,12100000000.0,11900000000.0,11100000000.0,10600000000.0,10100000000.0,9900000000.0,9900000000.0,9700000000.0,9600000000.0,9600000000.0,9500000000.0,9400000000.0,9400000000.0,8900000000.0,8900000000.0,8700000000.0,8600000000.0,8400000000.0,8300000000.000001,8300000000.000001,8199999999.999999,8000000000.0,7900000000.0,7800000000.0,7800000000.0,7800000000.0,7800000000.0,7800000000.0,7600000000.0,7500000000.0,7400000000.0,7300000000.0,7300000000.0,7200000000.0,7200000000.0,7100000000.0,7100000000.0,7000000000.0,7000000000.0,6900000000.0,6700000000.0,6700000000.0,6600000000.0,6500000000.0,6500000000.0,6500000000.0,6500000000.0,6500000000.0,6200000000.0,6200000000.0,6200000000.0,6200000000.0,6100000000.0,6000000000.0,6000000000.0,6000000000.0,6000000000.0,5800000000.0,5800000000.0,5800000000.0,5700000000.0,5700000000.0,5700000000.0,5600000000.0,5600000000.0,5600000000.0,5500000000.0,5500000000.0,5500000000.0,5400000000.0,5300000000.0,5200000000.0,5200000000.0,5100000000.0,5100000000.0,5000000000.0,5000000000.0,5000000000.0,5000000000.0,5000000000.0,4900000000.0,4900000000.0,4900000000.0,4900000000.0,4800000000.0,4800000000.0,4700000000.0,4700000000.0,4700000000.0,4600000000.0,4600000000.0,4600000000.0,4500000000.0,4500000000.0,4500000000.0,4500000000.0,4500000000.0,4500000000.0,4400000000.0,4400000000.0,4300000000.0,4300000000.0,4300000000.0,4300000000.0,4300000000.0,4200000000.0,4200000000.0,4200000000.0,4200000000.0,4200000000.0,4099999999.9999995,4099999999.9999995,4099999999.9999995,4099999999.9999995,4099999999.9999995,4099999999.9999995,4099999999.9999995,4099999999.9999995,4099999999.9999995,4000000000.0,4000000000.0,4000000000.0,3900000000.0,3900000000.0,3900000000.0,3900000000.0,3900000000.0,3900000000.0,3800000000.0,3800000000.0,3800000000.0,3700000000.0,3700000000.0,3700000000.0,3700000000.0,3700000000.0,3700000000.0,3700000000.0,3700000000.0,3700000000.0,3700000000.0,3700000000.0,3600000000.0,3600000000.0,3600000000.0,3600000000.0,3600000000.0,3600000000.0,3600000000.0,3600000000.0,3500000000.0,3500000000.0,3500000000.0,3500000000.0,3500000000.0,3500000000.0,3400000000.0,3400000000.0,3400000000.0,3400000000.0,3400000000.0,3400000000.0,3400000000.0,3400000000.0,3400000000.0,3400000000.0,3400000000.0,3300000000.0,3300000000.0,3300000000.0,3200000000.0,3200000000.0,3200000000.0,3200000000.0,3100000000.0,3100000000.0,3100000000.0,3100000000.0,3100000000.0,3000000000.0,3000000000.0,3000000000.0,3000000000.0,3000000000.0,3000000000.0,3000000000.0,3000000000.0,3000000000.0,3000000000.0,3000000000.0,3000000000.0,2900000000.0,2900000000.0,2900000000.0,2900000000.0,2900000000.0,2900000000.0,2900000000.0,2900000000.0,2900000000.0,2900000000.0,2900000000.0,2900000000.0,2800000000.0,2800000000.0,2800000000.0,2800000000.0,2800000000.0,2800000000.0,2800000000.0,2800000000.0,2800000000.0,2800000000.0,2800000000.0,2700000000.0,2700000000.0,2700000000.0,2700000000.0,2700000000.0,2600000000.0,2600000000.0,2600000000.0,2600000000.0,2600000000.0,2600000000.0,2600000000.0,2600000000.0,2500000000.0,2500000000.0,2500000000.0,2500000000.0,2500000000.0,2500000000.0,2500000000.0,2500000000.0,2400000000.0,2400000000.0,2400000000.0,2400000000.0,2400000000.0,2400000000.0,2400000000.0,2400000000.0,2300000000.0,2300000000.0,2300000000.0,2300000000.0,2300000000.0,2300000000.0,2300000000.0,2300000000.0,2300000000.0,2300000000.0,2300000000.0,2300000000.0,2200000000.0,2200000000.0,2200000000.0,2200000000.0,2200000000.0,2200000000.0,2200000000.0,2200000000.0,2200000000.0,2200000000.0,2200000000.0,2100000000.0,2100000000.0,2100000000.0,2100000000.0,2100000000.0,2100000000.0,2100000000.0,2100000000.0,2100000000.0,2100000000.0,2100000000.0,2100000000.0,2100000000.0,2100000000.0,2100000000.0,2000000000.0,2000000000.0,2000000000.0,2000000000.0,2000000000.0,2000000000.0,2000000000.0,2000000000.0,2000000000.0,2000000000.0,2000000000.0,2000000000.0,2000000000.0,1900000000.0,1900000000.0,1900000000.0,1900000000.0,1900000000.0,1900000000.0,1900000000.0,1900000000.0,1900000000.0,1900000000.0,1900000000.0,1900000000.0,1900000000.0,1900000000.0,1800000000.0,1800000000.0,1800000000.0,1800000000.0,1800000000.0,1800000000.0,1800000000.0,1800000000.0,1800000000.0,1800000000.0,1800000000.0,1800000000.0,1800000000.0,1700000000.0,1700000000.0,1700000000.0,1700000000.0,1700000000.0,1700000000.0,1700000000.0,1700000000.0,1700000000.0,1700000000.0,1700000000.0,1700000000.0,1700000000.0,1700000000.0,1700000000.0,1700000000.0,1600000000.0,1600000000.0,1600000000.0,1600000000.0,1600000000.0,1600000000.0,1600000000.0,1600000000.0,1600000000.0,1500000000.0,1500000000.0,1500000000.0,1500000000.0,1500000000.0,1500000000.0,1500000000.0,1500000000.0,1500000000.0,1500000000.0,1500000000.0,1500000000.0,1500000000.0,1500000000.0,1400000000.0,1400000000.0,1400000000.0,1400000000.0,1400000000.0,1400000000.0,1400000000.0,1400000000.0,1400000000.0,1400000000.0,1400000000.0,1400000000.0,1400000000.0,1400000000.0,1400000000.0,1400000000.0,1400000000.0,1400000000.0,1300000000.0,1300000000.0,1300000000.0,1300000000.0,1300000000.0,1300000000.0,1300000000.0,1200000000.0,1200000000.0,1200000000.0,1200000000.0,1200000000.0,1200000000.0,1200000000.0,1200000000.0,1200000000.0,1200000000.0,1200000000.0,1200000000.0,1200000000.0,1100000000.0,1100000000.0,1100000000.0,1100000000.0,1100000000.0,1100000000.0,1100000000.0,1100000000.0,1100000000.0,1100000000.0,1100000000.0,1100000000.0,1100000000.0,1100000000.0,1100000000.0,1100000000.0,1100000000.0,1000000000.0,1000000000.0,1000000000.0,1000000000.0,1000000000.0,1000000000.0]}],                        {\"coloraxis\":{\"cmax\":1700000000,\"cmin\":0,\"colorbar\":{\"title\":{\"text\":\"NetWorth\"}},\"colorscale\":[[0.0,\"rgb(255,255,229)\"],[0.125,\"rgb(247,252,185)\"],[0.25,\"rgb(217,240,163)\"],[0.375,\"rgb(173,221,142)\"],[0.5,\"rgb(120,198,121)\"],[0.625,\"rgb(65,171,93)\"],[0.75,\"rgb(35,132,67)\"],[0.875,\"rgb(0,104,55)\"],[1.0,\"rgb(0,69,41)\"]]},\"geo\":{\"center\":{},\"domain\":{\"x\":[0.0,1.0],\"y\":[0.0,1.0]},\"scope\":\"usa\"},\"legend\":{\"tracegroupgap\":0},\"margin\":{\"t\":60},\"template\":{\"data\":{\"bar\":[{\"error_x\":{\"color\":\"#2a3f5f\"},\"error_y\":{\"color\":\"#2a3f5f\"},\"marker\":{\"line\":{\"color\":\"#E5ECF6\",\"width\":0.5},\"pattern\":{\"fillmode\":\"overlay\",\"size\":10,\"solidity\":0.2}},\"type\":\"bar\"}],\"barpolar\":[{\"marker\":{\"line\":{\"color\":\"#E5ECF6\",\"width\":0.5},\"pattern\":{\"fillmode\":\"overlay\",\"size\":10,\"solidity\":0.2}},\"type\":\"barpolar\"}],\"carpet\":[{\"aaxis\":{\"endlinecolor\":\"#2a3f5f\",\"gridcolor\":\"white\",\"linecolor\":\"white\",\"minorgridcolor\":\"white\",\"startlinecolor\":\"#2a3f5f\"},\"baxis\":{\"endlinecolor\":\"#2a3f5f\",\"gridcolor\":\"white\",\"linecolor\":\"white\",\"minorgridcolor\":\"white\",\"startlinecolor\":\"#2a3f5f\"},\"type\":\"carpet\"}],\"choropleth\":[{\"colorbar\":{\"outlinewidth\":0,\"ticks\":\"\"},\"type\":\"choropleth\"}],\"contour\":[{\"colorbar\":{\"outlinewidth\":0,\"ticks\":\"\"},\"colorscale\":[[0.0,\"#0d0887\"],[0.1111111111111111,\"#46039f\"],[0.2222222222222222,\"#7201a8\"],[0.3333333333333333,\"#9c179e\"],[0.4444444444444444,\"#bd3786\"],[0.5555555555555556,\"#d8576b\"],[0.6666666666666666,\"#ed7953\"],[0.7777777777777778,\"#fb9f3a\"],[0.8888888888888888,\"#fdca26\"],[1.0,\"#f0f921\"]],\"type\":\"contour\"}],\"contourcarpet\":[{\"colorbar\":{\"outlinewidth\":0,\"ticks\":\"\"},\"type\":\"contourcarpet\"}],\"heatmap\":[{\"colorbar\":{\"outlinewidth\":0,\"ticks\":\"\"},\"colorscale\":[[0.0,\"#0d0887\"],[0.1111111111111111,\"#46039f\"],[0.2222222222222222,\"#7201a8\"],[0.3333333333333333,\"#9c179e\"],[0.4444444444444444,\"#bd3786\"],[0.5555555555555556,\"#d8576b\"],[0.6666666666666666,\"#ed7953\"],[0.7777777777777778,\"#fb9f3a\"],[0.8888888888888888,\"#fdca26\"],[1.0,\"#f0f921\"]],\"type\":\"heatmap\"}],\"heatmapgl\":[{\"colorbar\":{\"outlinewidth\":0,\"ticks\":\"\"},\"colorscale\":[[0.0,\"#0d0887\"],[0.1111111111111111,\"#46039f\"],[0.2222222222222222,\"#7201a8\"],[0.3333333333333333,\"#9c179e\"],[0.4444444444444444,\"#bd3786\"],[0.5555555555555556,\"#d8576b\"],[0.6666666666666666,\"#ed7953\"],[0.7777777777777778,\"#fb9f3a\"],[0.8888888888888888,\"#fdca26\"],[1.0,\"#f0f921\"]],\"type\":\"heatmapgl\"}],\"histogram\":[{\"marker\":{\"pattern\":{\"fillmode\":\"overlay\",\"size\":10,\"solidity\":0.2}},\"type\":\"histogram\"}],\"histogram2d\":[{\"colorbar\":{\"outlinewidth\":0,\"ticks\":\"\"},\"colorscale\":[[0.0,\"#0d0887\"],[0.1111111111111111,\"#46039f\"],[0.2222222222222222,\"#7201a8\"],[0.3333333333333333,\"#9c179e\"],[0.4444444444444444,\"#bd3786\"],[0.5555555555555556,\"#d8576b\"],[0.6666666666666666,\"#ed7953\"],[0.7777777777777778,\"#fb9f3a\"],[0.8888888888888888,\"#fdca26\"],[1.0,\"#f0f921\"]],\"type\":\"histogram2d\"}],\"histogram2dcontour\":[{\"colorbar\":{\"outlinewidth\":0,\"ticks\":\"\"},\"colorscale\":[[0.0,\"#0d0887\"],[0.1111111111111111,\"#46039f\"],[0.2222222222222222,\"#7201a8\"],[0.3333333333333333,\"#9c179e\"],[0.4444444444444444,\"#bd3786\"],[0.5555555555555556,\"#d8576b\"],[0.6666666666666666,\"#ed7953\"],[0.7777777777777778,\"#fb9f3a\"],[0.8888888888888888,\"#fdca26\"],[1.0,\"#f0f921\"]],\"type\":\"histogram2dcontour\"}],\"mesh3d\":[{\"colorbar\":{\"outlinewidth\":0,\"ticks\":\"\"},\"type\":\"mesh3d\"}],\"parcoords\":[{\"line\":{\"colorbar\":{\"outlinewidth\":0,\"ticks\":\"\"}},\"type\":\"parcoords\"}],\"pie\":[{\"automargin\":true,\"type\":\"pie\"}],\"scatter\":[{\"marker\":{\"colorbar\":{\"outlinewidth\":0,\"ticks\":\"\"}},\"type\":\"scatter\"}],\"scatter3d\":[{\"line\":{\"colorbar\":{\"outlinewidth\":0,\"ticks\":\"\"}},\"marker\":{\"colorbar\":{\"outlinewidth\":0,\"ticks\":\"\"}},\"type\":\"scatter3d\"}],\"scattercarpet\":[{\"marker\":{\"colorbar\":{\"outlinewidth\":0,\"ticks\":\"\"}},\"type\":\"scattercarpet\"}],\"scattergeo\":[{\"marker\":{\"colorbar\":{\"outlinewidth\":0,\"ticks\":\"\"}},\"type\":\"scattergeo\"}],\"scattergl\":[{\"marker\":{\"colorbar\":{\"outlinewidth\":0,\"ticks\":\"\"}},\"type\":\"scattergl\"}],\"scattermapbox\":[{\"marker\":{\"colorbar\":{\"outlinewidth\":0,\"ticks\":\"\"}},\"type\":\"scattermapbox\"}],\"scatterpolar\":[{\"marker\":{\"colorbar\":{\"outlinewidth\":0,\"ticks\":\"\"}},\"type\":\"scatterpolar\"}],\"scatterpolargl\":[{\"marker\":{\"colorbar\":{\"outlinewidth\":0,\"ticks\":\"\"}},\"type\":\"scatterpolargl\"}],\"scatterternary\":[{\"marker\":{\"colorbar\":{\"outlinewidth\":0,\"ticks\":\"\"}},\"type\":\"scatterternary\"}],\"surface\":[{\"colorbar\":{\"outlinewidth\":0,\"ticks\":\"\"},\"colorscale\":[[0.0,\"#0d0887\"],[0.1111111111111111,\"#46039f\"],[0.2222222222222222,\"#7201a8\"],[0.3333333333333333,\"#9c179e\"],[0.4444444444444444,\"#bd3786\"],[0.5555555555555556,\"#d8576b\"],[0.6666666666666666,\"#ed7953\"],[0.7777777777777778,\"#fb9f3a\"],[0.8888888888888888,\"#fdca26\"],[1.0,\"#f0f921\"]],\"type\":\"surface\"}],\"table\":[{\"cells\":{\"fill\":{\"color\":\"#EBF0F8\"},\"line\":{\"color\":\"white\"}},\"header\":{\"fill\":{\"color\":\"#C8D4E3\"},\"line\":{\"color\":\"white\"}},\"type\":\"table\"}]},\"layout\":{\"annotationdefaults\":{\"arrowcolor\":\"#2a3f5f\",\"arrowhead\":0,\"arrowwidth\":1},\"autotypenumbers\":\"strict\",\"coloraxis\":{\"colorbar\":{\"outlinewidth\":0,\"ticks\":\"\"}},\"colorscale\":{\"diverging\":[[0,\"#8e0152\"],[0.1,\"#c51b7d\"],[0.2,\"#de77ae\"],[0.3,\"#f1b6da\"],[0.4,\"#fde0ef\"],[0.5,\"#f7f7f7\"],[0.6,\"#e6f5d0\"],[0.7,\"#b8e186\"],[0.8,\"#7fbc41\"],[0.9,\"#4d9221\"],[1,\"#276419\"]],\"sequential\":[[0.0,\"#0d0887\"],[0.1111111111111111,\"#46039f\"],[0.2222222222222222,\"#7201a8\"],[0.3333333333333333,\"#9c179e\"],[0.4444444444444444,\"#bd3786\"],[0.5555555555555556,\"#d8576b\"],[0.6666666666666666,\"#ed7953\"],[0.7777777777777778,\"#fb9f3a\"],[0.8888888888888888,\"#fdca26\"],[1.0,\"#f0f921\"]],\"sequentialminus\":[[0.0,\"#0d0887\"],[0.1111111111111111,\"#46039f\"],[0.2222222222222222,\"#7201a8\"],[0.3333333333333333,\"#9c179e\"],[0.4444444444444444,\"#bd3786\"],[0.5555555555555556,\"#d8576b\"],[0.6666666666666666,\"#ed7953\"],[0.7777777777777778,\"#fb9f3a\"],[0.8888888888888888,\"#fdca26\"],[1.0,\"#f0f921\"]]},\"colorway\":[\"#636efa\",\"#EF553B\",\"#00cc96\",\"#ab63fa\",\"#FFA15A\",\"#19d3f3\",\"#FF6692\",\"#B6E880\",\"#FF97FF\",\"#FECB52\"],\"font\":{\"color\":\"#2a3f5f\"},\"geo\":{\"bgcolor\":\"white\",\"lakecolor\":\"white\",\"landcolor\":\"#E5ECF6\",\"showlakes\":true,\"showland\":true,\"subunitcolor\":\"white\"},\"hoverlabel\":{\"align\":\"left\"},\"hovermode\":\"closest\",\"mapbox\":{\"style\":\"light\"},\"paper_bgcolor\":\"white\",\"plot_bgcolor\":\"#E5ECF6\",\"polar\":{\"angularaxis\":{\"gridcolor\":\"white\",\"linecolor\":\"white\",\"ticks\":\"\"},\"bgcolor\":\"#E5ECF6\",\"radialaxis\":{\"gridcolor\":\"white\",\"linecolor\":\"white\",\"ticks\":\"\"}},\"scene\":{\"xaxis\":{\"backgroundcolor\":\"#E5ECF6\",\"gridcolor\":\"white\",\"gridwidth\":2,\"linecolor\":\"white\",\"showbackground\":true,\"ticks\":\"\",\"zerolinecolor\":\"white\"},\"yaxis\":{\"backgroundcolor\":\"#E5ECF6\",\"gridcolor\":\"white\",\"gridwidth\":2,\"linecolor\":\"white\",\"showbackground\":true,\"ticks\":\"\",\"zerolinecolor\":\"white\"},\"zaxis\":{\"backgroundcolor\":\"#E5ECF6\",\"gridcolor\":\"white\",\"gridwidth\":2,\"linecolor\":\"white\",\"showbackground\":true,\"ticks\":\"\",\"zerolinecolor\":\"white\"}},\"shapedefaults\":{\"line\":{\"color\":\"#2a3f5f\"}},\"ternary\":{\"aaxis\":{\"gridcolor\":\"white\",\"linecolor\":\"white\",\"ticks\":\"\"},\"baxis\":{\"gridcolor\":\"white\",\"linecolor\":\"white\",\"ticks\":\"\"},\"bgcolor\":\"#E5ECF6\",\"caxis\":{\"gridcolor\":\"white\",\"linecolor\":\"white\",\"ticks\":\"\"}},\"title\":{\"x\":0.05},\"xaxis\":{\"automargin\":true,\"gridcolor\":\"white\",\"linecolor\":\"white\",\"ticks\":\"\",\"title\":{\"standoff\":15},\"zerolinecolor\":\"white\",\"zerolinewidth\":2},\"yaxis\":{\"automargin\":true,\"gridcolor\":\"white\",\"linecolor\":\"white\",\"ticks\":\"\",\"title\":{\"standoff\":15},\"zerolinecolor\":\"white\",\"zerolinewidth\":2}}}},                        {\"responsive\": true}                    ).then(function(){\n",
       "                            \n",
       "var gd = document.getElementById('77c6cd87-5827-4638-ad4f-6ac55271e89e');\n",
       "var x = new MutationObserver(function (mutations, observer) {{\n",
       "        var display = window.getComputedStyle(gd).display;\n",
       "        if (!display || display === 'none') {{\n",
       "            console.log([gd, 'removed!']);\n",
       "            Plotly.purge(gd);\n",
       "            observer.disconnect();\n",
       "        }}\n",
       "}});\n",
       "\n",
       "// Listen for the removal of the full notebook cells\n",
       "var notebookContainer = gd.closest('#notebook-container');\n",
       "if (notebookContainer) {{\n",
       "    x.observe(notebookContainer, {childList: true});\n",
       "}}\n",
       "\n",
       "// Listen for the clearing of the current output cell\n",
       "var outputEl = gd.closest('.output');\n",
       "if (outputEl) {{\n",
       "    x.observe(outputEl, {childList: true});\n",
       "}}\n",
       "\n",
       "                        })                };                });            </script>        </div>"
      ]
     },
     "metadata": {},
     "output_type": "display_data"
    }
   ],
   "source": [
    "fig1 = px.choropleth(merged_df_1, locations='state', locationmode=\"USA-states\",color='NetWorth',\n",
    "                           color_continuous_scale=\"YlGn\",\n",
    "                           range_color=(0, 1700000000),\n",
    "                           scope=\"usa\",\n",
    "                          )\n",
    "\n",
    "fig1.show()"
   ]
  },
  {
   "cell_type": "markdown",
   "metadata": {},
   "source": [
    "![chloropleth2](./chloropleth2.png)"
   ]
  },
  {
   "cell_type": "markdown",
   "metadata": {},
   "source": [
    "**As we can see, we could not form clear correlation between the location of the billionaries' undergraduate institution and the total networth of the billionaires from each states. One clear example is that, California contains the most billionaries' undergraduate institution, however, the total networth of California is less than Texas, which have only 16 number of billionaires graduating from the state.**"
   ]
  },
  {
   "cell_type": "code",
   "execution_count": null,
   "metadata": {},
   "outputs": [],
   "source": []
  }
 ],
 "metadata": {
  "deepnote": {},
  "deepnote_execution_queue": [],
  "deepnote_notebook_id": "3bd2e2f5-c6ae-45fe-b144-1a0965df5efe",
  "kernelspec": {
   "display_name": "Python 3 (ipykernel)",
   "language": "python",
   "name": "python3"
  },
  "language_info": {
   "codemirror_mode": {
    "name": "ipython",
    "version": 3
   },
   "file_extension": ".py",
   "mimetype": "text/x-python",
   "name": "python",
   "nbconvert_exporter": "python",
   "pygments_lexer": "ipython3",
   "version": "3.8.9"
  }
 },
 "nbformat": 4,
 "nbformat_minor": 2
}
